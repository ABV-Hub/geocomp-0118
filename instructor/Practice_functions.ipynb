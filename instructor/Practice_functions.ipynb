{
 "cells": [
  {
   "cell_type": "markdown",
   "metadata": {},
   "source": [
    "# Practice functions\n",
    "\n",
    "Review [`Intro_to_functions`](Intro_to_functions.ipynb) before coming in here.\n",
    "\n",
    "Our goal for this notebook is to get some practice writing functions. \n",
    "\n",
    "In doing so, we will implement a function to compute reflection coefficients from sequences of Vp and density values."
   ]
  },
  {
   "cell_type": "code",
   "execution_count": 1,
   "metadata": {
    "collapsed": true
   },
   "outputs": [],
   "source": [
    "import numpy as np\n",
    "\n",
    "% matplotlib inline\n",
    "import matplotlib.pyplot as plt"
   ]
  },
  {
   "cell_type": "markdown",
   "metadata": {},
   "source": [
    "Make some dummy data:"
   ]
  },
  {
   "cell_type": "code",
   "execution_count": 2,
   "metadata": {
    "collapsed": true
   },
   "outputs": [],
   "source": [
    "vp = [2300, 2400, 2500, 2300, 2600]\n",
    "rho = [2.45, 2.35, 2.45, 2.55, 2.80]"
   ]
  },
  {
   "cell_type": "markdown",
   "metadata": {},
   "source": [
    "Sometimes Vp data is in km/s and density is in g/cm<sup>3</sup>. Let's make a simple function to convert them to SI units."
   ]
  },
  {
   "cell_type": "code",
   "execution_count": 3,
   "metadata": {
    "collapsed": true
   },
   "outputs": [],
   "source": [
    "def convert_si(n):\n",
    "    \"\"\"\n",
    "    Convert vp or rhob from cgs to SI system.\n",
    "    \"\"\"\n",
    "    if n < 10:\n",
    "        n = n * 1000\n",
    "    return n"
   ]
  },
  {
   "cell_type": "code",
   "execution_count": 4,
   "metadata": {},
   "outputs": [
    {
     "data": {
      "text/plain": [
       "(2400, 2400.0)"
      ]
     },
     "execution_count": 4,
     "metadata": {},
     "output_type": "execute_result"
    }
   ],
   "source": [
    "convert_si(2400), convert_si(2.4)"
   ]
  },
  {
   "cell_type": "code",
   "execution_count": 5,
   "metadata": {},
   "outputs": [
    {
     "ename": "TypeError",
     "evalue": "'<' not supported between instances of 'list' and 'int'",
     "output_type": "error",
     "traceback": [
      "\u001b[0;31m---------------------------------------------------------------------------\u001b[0m",
      "\u001b[0;31mTypeError\u001b[0m                                 Traceback (most recent call last)",
      "\u001b[0;32m<ipython-input-5-e2b7aec09352>\u001b[0m in \u001b[0;36m<module>\u001b[0;34m()\u001b[0m\n\u001b[0;32m----> 1\u001b[0;31m \u001b[0mconvert_si\u001b[0m\u001b[0;34m(\u001b[0m\u001b[0mvp\u001b[0m\u001b[0;34m)\u001b[0m\u001b[0;34m\u001b[0m\u001b[0m\n\u001b[0m",
      "\u001b[0;32m<ipython-input-3-c6a4b166587e>\u001b[0m in \u001b[0;36mconvert_si\u001b[0;34m(n)\u001b[0m\n\u001b[1;32m      3\u001b[0m     \u001b[0mConvert\u001b[0m \u001b[0mvp\u001b[0m \u001b[0;32mor\u001b[0m \u001b[0mrhob\u001b[0m \u001b[0;32mfrom\u001b[0m \u001b[0mcgs\u001b[0m \u001b[0mto\u001b[0m \u001b[0mSI\u001b[0m \u001b[0msystem\u001b[0m\u001b[0;34m.\u001b[0m\u001b[0;34m\u001b[0m\u001b[0m\n\u001b[1;32m      4\u001b[0m     \"\"\"\n\u001b[0;32m----> 5\u001b[0;31m     \u001b[0;32mif\u001b[0m \u001b[0mn\u001b[0m \u001b[0;34m<\u001b[0m \u001b[0;36m10\u001b[0m\u001b[0;34m:\u001b[0m\u001b[0;34m\u001b[0m\u001b[0m\n\u001b[0m\u001b[1;32m      6\u001b[0m         \u001b[0mn\u001b[0m \u001b[0;34m=\u001b[0m \u001b[0mn\u001b[0m \u001b[0;34m*\u001b[0m \u001b[0;36m1000\u001b[0m\u001b[0;34m\u001b[0m\u001b[0m\n\u001b[1;32m      7\u001b[0m     \u001b[0;32mreturn\u001b[0m \u001b[0mn\u001b[0m\u001b[0;34m\u001b[0m\u001b[0m\n",
      "\u001b[0;31mTypeError\u001b[0m: '<' not supported between instances of 'list' and 'int'"
     ]
    }
   ],
   "source": [
    "convert_si(vp)"
   ]
  },
  {
   "cell_type": "markdown",
   "metadata": {
    "tags": [
     "exercise"
    ]
   },
   "source": [
    "<div class=\"alert alert-success\">\n",
    "<b>Exercise</b>:\n",
    "<ul>\n",
    "<li>- Make a looping version of `convert_si()` called `convert_all()` that will treat the whole list at once. Use the `convert_si()` function inside it. If you get stuck, write the loop on its own first, then put it in a function.</li>\n",
    "<li>- Can you write a function containing a `for` loop to implement this equation?</li>\n",
    "<li>$$ Z = \\rho V_\\mathrm{P} $$</li>\n",
    "<li>You will find the function `zip()` useful. Try the code below to see what it does.</li>\n",
    "</ul>\n",
    "</div>"
   ]
  },
  {
   "cell_type": "code",
   "execution_count": 6,
   "metadata": {},
   "outputs": [
    {
     "name": "stdout",
     "output_type": "stream",
     "text": [
      "(1, 10)\n",
      "(2, 11)\n",
      "(3, 12)\n"
     ]
    }
   ],
   "source": [
    "for pair in zip([1,2,3], [10,11,12]):\n",
    "    print(pair)"
   ]
  },
  {
   "cell_type": "code",
   "execution_count": 7,
   "metadata": {
    "collapsed": true
   },
   "outputs": [],
   "source": [
    "def impedance(vp, rho):\n",
    "\n",
    "    # Your code here!\n",
    "    \n",
    "    return z"
   ]
  },
  {
   "cell_type": "code",
   "execution_count": 8,
   "metadata": {},
   "outputs": [
    {
     "ename": "NameError",
     "evalue": "name 'z' is not defined",
     "output_type": "error",
     "traceback": [
      "\u001b[0;31m---------------------------------------------------------------------------\u001b[0m",
      "\u001b[0;31mNameError\u001b[0m                                 Traceback (most recent call last)",
      "\u001b[0;32m<ipython-input-8-4289f4f7e965>\u001b[0m in \u001b[0;36m<module>\u001b[0;34m()\u001b[0m\n\u001b[0;32m----> 1\u001b[0;31m \u001b[0mimpedance\u001b[0m\u001b[0;34m(\u001b[0m\u001b[0mvp\u001b[0m\u001b[0;34m,\u001b[0m \u001b[0mrho\u001b[0m\u001b[0;34m)\u001b[0m\u001b[0;34m\u001b[0m\u001b[0m\n\u001b[0m",
      "\u001b[0;32m<ipython-input-7-4393fa165f21>\u001b[0m in \u001b[0;36mimpedance\u001b[0;34m(vp, rho)\u001b[0m\n\u001b[1;32m      3\u001b[0m     \u001b[0;31m# Your code here!\u001b[0m\u001b[0;34m\u001b[0m\u001b[0;34m\u001b[0m\u001b[0m\n\u001b[1;32m      4\u001b[0m \u001b[0;34m\u001b[0m\u001b[0m\n\u001b[0;32m----> 5\u001b[0;31m     \u001b[0;32mreturn\u001b[0m \u001b[0mz\u001b[0m\u001b[0;34m\u001b[0m\u001b[0m\n\u001b[0m",
      "\u001b[0;31mNameError\u001b[0m: name 'z' is not defined"
     ]
    }
   ],
   "source": [
    "impedance(vp, rho)"
   ]
  },
  {
   "cell_type": "markdown",
   "metadata": {},
   "source": [
    "This should give you:\n",
    "\n",
    "    [5635.0, 5640.0, 6125.0, 5865.0, 7279.999999999999]"
   ]
  },
  {
   "cell_type": "code",
   "execution_count": 9,
   "metadata": {
    "collapsed": true,
    "tags": [
     "hide"
    ]
   },
   "outputs": [],
   "source": [
    "def convert_all(data):\n",
    "    \"\"\"\n",
    "    Convert vp or rhob from cgs to SI system.\n",
    "    \"\"\"\n",
    "    result = []\n",
    "    for d in data:\n",
    "        result.append(convert_si(d))\n",
    "    return result"
   ]
  },
  {
   "cell_type": "code",
   "execution_count": 10,
   "metadata": {
    "collapsed": true,
    "tags": [
     "hide"
    ]
   },
   "outputs": [],
   "source": [
    "def convert_all(data):\n",
    "    \"\"\"\n",
    "    Convert vp or rhob from cgs to SI system.\n",
    "    \"\"\"\n",
    "    return [convert_si(d) for d in data]"
   ]
  },
  {
   "cell_type": "code",
   "execution_count": 11,
   "metadata": {
    "tags": [
     "hide"
    ]
   },
   "outputs": [
    {
     "data": {
      "text/plain": [
       "[2300, 2400, 2500, 2300, 2600]"
      ]
     },
     "execution_count": 11,
     "metadata": {},
     "output_type": "execute_result"
    }
   ],
   "source": [
    "convert_all(vp)"
   ]
  },
  {
   "cell_type": "code",
   "execution_count": 12,
   "metadata": {
    "tags": [
     "hide"
    ]
   },
   "outputs": [
    {
     "data": {
      "text/plain": [
       "[2450.0, 2350.0, 2450.0, 2550.0, 2800.0]"
      ]
     },
     "execution_count": 12,
     "metadata": {},
     "output_type": "execute_result"
    }
   ],
   "source": [
    "convert_all(rho)"
   ]
  },
  {
   "cell_type": "code",
   "execution_count": 21,
   "metadata": {
    "collapsed": true,
    "tags": [
     "hide"
    ]
   },
   "outputs": [],
   "source": [
    "def impedance(vp, rho):\n",
    "    \"\"\"\n",
    "    Compute impedance given sequences of vp and rho.\n",
    "    \"\"\"\n",
    "    z = []\n",
    "    for v, r in zip(vp, rho):\n",
    "        z.append(v * r)\n",
    "    return z"
   ]
  },
  {
   "cell_type": "code",
   "execution_count": 25,
   "metadata": {},
   "outputs": [
    {
     "data": {
      "text/plain": [
       "[0,\n",
       " 1,\n",
       " 4,\n",
       " 9,\n",
       " 16,\n",
       " 25,\n",
       " 36,\n",
       " 49,\n",
       " 64,\n",
       " 81,\n",
       " 100,\n",
       " 121,\n",
       " 144,\n",
       " 169,\n",
       " 196,\n",
       " 225,\n",
       " 256,\n",
       " 289,\n",
       " 324,\n",
       " 361,\n",
       " 400,\n",
       " 441,\n",
       " 484,\n",
       " 529,\n",
       " 576,\n",
       " 625,\n",
       " 676,\n",
       " 729,\n",
       " 784,\n",
       " 841,\n",
       " 900,\n",
       " 961,\n",
       " 1024,\n",
       " 1089,\n",
       " 1156,\n",
       " 1225,\n",
       " 1296,\n",
       " 1369,\n",
       " 1444,\n",
       " 1521,\n",
       " 1600,\n",
       " 1681,\n",
       " 1764,\n",
       " 1849,\n",
       " 1936,\n",
       " 2025,\n",
       " 2116,\n",
       " 2209,\n",
       " 2304,\n",
       " 2401,\n",
       " 2500,\n",
       " 2601,\n",
       " 2704,\n",
       " 2809,\n",
       " 2916,\n",
       " 3025,\n",
       " 3136,\n",
       " 3249,\n",
       " 3364,\n",
       " 3481,\n",
       " 3600,\n",
       " 3721,\n",
       " 3844,\n",
       " 3969,\n",
       " 4096,\n",
       " 4225,\n",
       " 4356,\n",
       " 4489,\n",
       " 4624,\n",
       " 4761,\n",
       " 4900,\n",
       " 5041,\n",
       " 5184,\n",
       " 5329,\n",
       " 5476,\n",
       " 5625,\n",
       " 5776,\n",
       " 5929,\n",
       " 6084,\n",
       " 6241,\n",
       " 6400,\n",
       " 6561,\n",
       " 6724,\n",
       " 6889,\n",
       " 7056,\n",
       " 7225,\n",
       " 7396,\n",
       " 7569,\n",
       " 7744,\n",
       " 7921,\n",
       " 8100,\n",
       " 8281,\n",
       " 8464,\n",
       " 8649,\n",
       " 8836,\n",
       " 9025,\n",
       " 9216,\n",
       " 9409,\n",
       " 9604,\n",
       " 9801]"
      ]
     },
     "execution_count": 25,
     "metadata": {},
     "output_type": "execute_result"
    }
   ],
   "source": [
    "squares = []\n",
    "for n in range(100):\n",
    "    squares.append(n**2)\n",
    "squares\n",
    "\n",
    "squares = [n**2 for n in range(10)]\n",
    "squares"
   ]
  },
  {
   "cell_type": "code",
   "execution_count": 23,
   "metadata": {},
   "outputs": [
    {
     "data": {
      "text/plain": [
       "[(1, 10), (2, 20), (3, 30)]"
      ]
     },
     "execution_count": 23,
     "metadata": {},
     "output_type": "execute_result"
    }
   ],
   "source": [
    "list(zip([1, 2, 3, 4], [10, 20, 30]))"
   ]
  },
  {
   "cell_type": "code",
   "execution_count": 14,
   "metadata": {
    "tags": [
     "hide"
    ]
   },
   "outputs": [
    {
     "data": {
      "text/plain": [
       "[5635.0, 5640.0, 6125.0, 5865.0, 7279.999999999999]"
      ]
     },
     "execution_count": 14,
     "metadata": {},
     "output_type": "execute_result"
    }
   ],
   "source": [
    "impedance(vp, rho)"
   ]
  },
  {
   "cell_type": "markdown",
   "metadata": {},
   "source": [
    "## Docstrings and doctests\n",
    "\n",
    "Let's add a docstring and doctests to our original function."
   ]
  },
  {
   "cell_type": "code",
   "execution_count": 35,
   "metadata": {
    "collapsed": true
   },
   "outputs": [],
   "source": [
    "def convert_si(n):\n",
    "    \"\"\"\n",
    "    Convert vp or rhob from cgs to SI system.\n",
    "    \n",
    "    >>> convert_si(2400)\n",
    "    2400\n",
    "    >>> convert_si(2.4)\n",
    "    2400.0\n",
    "    \"\"\"\n",
    "    # This is inline.\n",
    "    if n < 10:\n",
    "        n = n * 1000\n",
    "    return n"
   ]
  },
  {
   "cell_type": "code",
   "execution_count": 37,
   "metadata": {},
   "outputs": [
    {
     "name": "stdout",
     "output_type": "stream",
     "text": [
      "Trying:\n",
      "    convert_si(2400)\n",
      "Expecting:\n",
      "    2400\n",
      "ok\n",
      "Trying:\n",
      "    convert_si(2.4)\n",
      "Expecting:\n",
      "    2400.0\n",
      "ok\n",
      "Trying:\n",
      "    impedance([2300, 2400], [2450, 2350])\n",
      "Expecting:\n",
      "    [5635000, 5640000]\n",
      "ok\n",
      "3 items had no tests:\n",
      "    __main__\n",
      "    __main__.convert_all\n",
      "    __main__.impedance\n",
      "2 items passed all tests:\n",
      "   2 tests in __main__.convert_si\n",
      "   1 tests in __main__.impedance2\n",
      "3 tests in 5 items.\n",
      "3 passed and 0 failed.\n",
      "Test passed.\n"
     ]
    },
    {
     "data": {
      "text/plain": [
       "TestResults(failed=0, attempted=3)"
      ]
     },
     "execution_count": 37,
     "metadata": {},
     "output_type": "execute_result"
    }
   ],
   "source": [
    "import doctest\n",
    "doctest.testmod(verbose=True)"
   ]
  },
  {
   "cell_type": "markdown",
   "metadata": {
    "tags": [
     "exercise"
    ]
   },
   "source": [
    "<div class=\"alert alert-success\">\n",
    "<b>Exercise</b>:\n",
    "<ul>\n",
    "<li>- Add docstrings and doctests to the functions we already wrote.</li>\n",
    "<li>- Can you rewrite your loop as a list comprehension? Make sure it still passes the tests.</li>\n",
    "<li>- Use the `convert_si` function inside your function to make sure we have the right units.</li>\n",
    "<li>- Make sure your tests still pass.</li>\n",
    "</ul>\n",
    "</div>"
   ]
  },
  {
   "cell_type": "code",
   "execution_count": 39,
   "metadata": {
    "collapsed": true,
    "tags": [
     "hide"
    ]
   },
   "outputs": [],
   "source": [
    "def impedance2(vp, rho):\n",
    "    \"\"\"\n",
    "    Compute impedance given sequences of vp and rho.\n",
    "\n",
    "    >>> impedance([2300, 2400], [2450, 2350])\n",
    "    [5635000, 5640000]\n",
    "    \"\"\"\n",
    "    return [v*r for v, r in zip(vp, rho)]"
   ]
  },
  {
   "cell_type": "code",
   "execution_count": 40,
   "metadata": {
    "tags": [
     "hide"
    ]
   },
   "outputs": [
    {
     "data": {
      "text/plain": [
       "[5635.0, 5640.0, 6125.0, 5865.0, 7279.999999999999]"
      ]
     },
     "execution_count": 40,
     "metadata": {},
     "output_type": "execute_result"
    }
   ],
   "source": [
    "impedance(vp, rho)"
   ]
  },
  {
   "cell_type": "code",
   "execution_count": 41,
   "metadata": {
    "tags": [
     "hide"
    ]
   },
   "outputs": [
    {
     "data": {
      "text/plain": [
       "TestResults(failed=0, attempted=3)"
      ]
     },
     "execution_count": 41,
     "metadata": {},
     "output_type": "execute_result"
    }
   ],
   "source": [
    "import doctest\n",
    "doctest.testmod()"
   ]
  },
  {
   "cell_type": "markdown",
   "metadata": {},
   "source": [
    "## Compute reflection coefficients"
   ]
  },
  {
   "cell_type": "markdown",
   "metadata": {
    "tags": [
     "exercise"
    ]
   },
   "source": [
    "<div class=\"alert alert-success\">\n",
    "<b>Exercise</b>:\n",
    "<ul>\n",
    "<li>Can you implement the following equation?</li>\n",
    "<li>$$ \\mathrm{rc} = \\frac{Z_\\mathrm{lower} - Z_\\mathrm{upper}}{Z_\\mathrm{lower} + Z_\\mathrm{upper}} $$</li>\n",
    "<li>You will need to use slicing to implement the concept of upper and lower layers.</li>\n",
    "</ul>\n",
    "</div>"
   ]
  },
  {
   "cell_type": "code",
   "execution_count": 42,
   "metadata": {},
   "outputs": [
    {
     "ename": "NameError",
     "evalue": "name 'rc_series' is not defined",
     "output_type": "error",
     "traceback": [
      "\u001b[0;31m---------------------------------------------------------------------------\u001b[0m",
      "\u001b[0;31mNameError\u001b[0m                                 Traceback (most recent call last)",
      "\u001b[0;32m<ipython-input-42-69d7a960272b>\u001b[0m in \u001b[0;36m<module>\u001b[0;34m()\u001b[0m\n\u001b[1;32m      1\u001b[0m \u001b[0mz\u001b[0m \u001b[0;34m=\u001b[0m \u001b[0mimpedance\u001b[0m\u001b[0;34m(\u001b[0m\u001b[0mvp\u001b[0m\u001b[0;34m,\u001b[0m \u001b[0mrho\u001b[0m\u001b[0;34m)\u001b[0m\u001b[0;34m\u001b[0m\u001b[0m\n\u001b[0;32m----> 2\u001b[0;31m \u001b[0mrc_series\u001b[0m\u001b[0;34m(\u001b[0m\u001b[0mz\u001b[0m\u001b[0;34m)\u001b[0m\u001b[0;34m\u001b[0m\u001b[0m\n\u001b[0m",
      "\u001b[0;31mNameError\u001b[0m: name 'rc_series' is not defined"
     ]
    }
   ],
   "source": [
    "z = impedance(vp, rho)\n",
    "rc_series(z)"
   ]
  },
  {
   "cell_type": "markdown",
   "metadata": {},
   "source": [
    "You should get:\n",
    "\n",
    "    [0.0004434589800443459,\n",
    "     0.04122396940076498,\n",
    "     -0.021684737281067557,\n",
    "     0.10764549258273108]"
   ]
  },
  {
   "cell_type": "code",
   "execution_count": 44,
   "metadata": {
    "collapsed": true,
    "tags": [
     "hide"
    ]
   },
   "outputs": [],
   "source": [
    "def compute_rc(upper, lower):\n",
    "    return (lower - upper) / (lower + upper)\n",
    "\n",
    "def rc_series(z):\n",
    "    \"\"\"\n",
    "    Computes RC series.\n",
    "    \"\"\"\n",
    "    upper = z[:-1]\n",
    "    lower = z[1:]\n",
    "    rc = []\n",
    "    for u, l in zip(upper, lower):\n",
    "        rc.append((l - u) / (l + u))\n",
    "    return rc"
   ]
  },
  {
   "cell_type": "code",
   "execution_count": 45,
   "metadata": {
    "collapsed": true,
    "tags": [
     "hide"
    ]
   },
   "outputs": [],
   "source": [
    "def rc_series2(z):\n",
    "    return [(l-u)/(l+u) for l, u in zip(z[1:], z[:-1])]"
   ]
  },
  {
   "cell_type": "code",
   "execution_count": 46,
   "metadata": {
    "tags": [
     "hide"
    ]
   },
   "outputs": [
    {
     "data": {
      "text/plain": [
       "[0.0004434589800443459,\n",
       " 0.04122396940076498,\n",
       " -0.021684737281067557,\n",
       " 0.10764549258273101]"
      ]
     },
     "execution_count": 46,
     "metadata": {},
     "output_type": "execute_result"
    }
   ],
   "source": [
    "rc_series2(z)"
   ]
  },
  {
   "cell_type": "code",
   "execution_count": 47,
   "metadata": {
    "tags": [
     "hide"
    ]
   },
   "outputs": [
    {
     "name": "stdout",
     "output_type": "stream",
     "text": [
      "879 ns ± 0.492 ns per loop (mean ± std. dev. of 7 runs, 1000000 loops each)\n",
      "792 ns ± 1.11 ns per loop (mean ± std. dev. of 7 runs, 1000000 loops each)\n"
     ]
    }
   ],
   "source": [
    "%timeit rc_series(z)\n",
    "%timeit rc_series2(z)"
   ]
  },
  {
   "cell_type": "markdown",
   "metadata": {
    "tags": [
     "exercise"
    ]
   },
   "source": [
    "<div class=\"alert alert-success\">\n",
    "<b>Exercise</b>:\n",
    "<ul>\n",
    "<li>Write a function to convert a slowness DT log, in microseconds per metre, into a velocity log, in m/s. </li>\n",
    "</ul>\n",
    "</div>"
   ]
  },
  {
   "cell_type": "code",
   "execution_count": 48,
   "metadata": {
    "collapsed": true
   },
   "outputs": [],
   "source": [
    "dt = [400, 410, 420, 400, 430, 450, 440]"
   ]
  },
  {
   "cell_type": "code",
   "execution_count": 54,
   "metadata": {},
   "outputs": [
    {
     "data": {
      "text/plain": [
       "[2500.0,\n",
       " 2439.0243902439024,\n",
       " 2380.9523809523807,\n",
       " 2500.0,\n",
       " 2325.5813953488373,\n",
       " 2222.222222222222,\n",
       " 2272.7272727272725]"
      ]
     },
     "execution_count": 54,
     "metadata": {},
     "output_type": "execute_result"
    }
   ],
   "source": [
    "def vp_from_dt(dt):\n",
    "    \"\"\"\n",
    "    Convert DT to Vp\n",
    "    \"\"\"\n",
    "    try:\n",
    "        vp = [1e6/n for n in dt]\n",
    "    except TypeError:\n",
    "        vp = 1e6 / dt\n",
    "    return vp\n",
    "\n",
    "vp = vp_from_dt(dt)\n",
    "vp"
   ]
  },
  {
   "cell_type": "code",
   "execution_count": 55,
   "metadata": {},
   "outputs": [
    {
     "data": {
      "text/plain": [
       "2500.0"
      ]
     },
     "execution_count": 55,
     "metadata": {},
     "output_type": "execute_result"
    }
   ],
   "source": [
    "vp_from_dt(400)"
   ]
  },
  {
   "cell_type": "markdown",
   "metadata": {},
   "source": [
    "You should get\n",
    " \n",
    "    [2500.0,\n",
    "     2439.0243902439024,\n",
    "     2380.9523809523807,\n",
    "     2500.0,\n",
    "     2325.5813953488373,\n",
    "     2222.222222222222,\n",
    "     2272.7272727272725]"
   ]
  },
  {
   "cell_type": "code",
   "execution_count": null,
   "metadata": {
    "collapsed": true,
    "tags": [
     "hide"
    ]
   },
   "outputs": [],
   "source": [
    "def vp_from_dt(dt):\n",
    "    \"\"\"\n",
    "    Compute Vp from DT log.\n",
    "    \n",
    "    Args:\n",
    "        dt (list): A sequence of slowness measurements.\n",
    "        \n",
    "    Returns:\n",
    "        list. The data transformed to velocity.\n",
    "    \n",
    "    TODO:\n",
    "        Deal with microseconds/ft.\n",
    "        \n",
    "    Example:\n",
    "    >>> vp = vp_from_dt([400, 410])\n",
    "    [2500.0, 2439.0243902439024]\n",
    "    \"\"\"\n",
    "    return [1e6 / s for s in dt]"
   ]
  },
  {
   "cell_type": "code",
   "execution_count": null,
   "metadata": {
    "collapsed": true,
    "tags": [
     "hide"
    ]
   },
   "outputs": [],
   "source": [
    "vp = vp_from_dt(dt)\n",
    "vp"
   ]
  },
  {
   "cell_type": "code",
   "execution_count": null,
   "metadata": {
    "collapsed": true,
    "tags": [
     "hide"
    ]
   },
   "outputs": [],
   "source": [
    "import doctest\n",
    "doctest.testmod()"
   ]
  },
  {
   "cell_type": "code",
   "execution_count": null,
   "metadata": {
    "collapsed": true,
    "tags": [
     "hide"
    ]
   },
   "outputs": [],
   "source": [
    "vp_from_dt(450)"
   ]
  },
  {
   "cell_type": "code",
   "execution_count": null,
   "metadata": {
    "collapsed": true,
    "tags": [
     "hide"
    ]
   },
   "outputs": [],
   "source": [
    "def vp_from_dt(dt):\n",
    "    try:\n",
    "        v = [1e6 / s for s in dt]\n",
    "    except TypeError:\n",
    "        # Treat as scalar.\n",
    "        v = 1e6 / dt\n",
    "    return v"
   ]
  },
  {
   "cell_type": "code",
   "execution_count": null,
   "metadata": {
    "collapsed": true,
    "tags": [
     "hide"
    ]
   },
   "outputs": [],
   "source": [
    "vp_from_dt(dt)"
   ]
  },
  {
   "cell_type": "code",
   "execution_count": null,
   "metadata": {
    "collapsed": true,
    "tags": [
     "hide"
    ]
   },
   "outputs": [],
   "source": [
    "vp_from_dt(450)"
   ]
  },
  {
   "cell_type": "code",
   "execution_count": null,
   "metadata": {
    "collapsed": true,
    "tags": [
     "hide"
    ]
   },
   "outputs": [],
   "source": [
    "vp_from_dt('450')"
   ]
  },
  {
   "cell_type": "markdown",
   "metadata": {
    "tags": [
     "exercise"
    ]
   },
   "source": [
    "<div class=\"alert alert-success\">\n",
    "<b>Exercise</b>:\n",
    "<ul>\n",
    "<li>- Put the functions `impedance`, `rc_series`, and `vp_from_dt()` into a file called `utils.py`.</li>\n",
    "</ul>\n",
    "</div>"
   ]
  },
  {
   "cell_type": "markdown",
   "metadata": {},
   "source": [
    "## Reading data from files\n",
    "\n",
    "Go to the Reading_data_from_files notebook and do the first exercise."
   ]
  },
  {
   "cell_type": "markdown",
   "metadata": {
    "tags": [
     "exercise"
    ]
   },
   "source": [
    "<div class=\"alert alert-success\">\n",
    "<b>Exercise</b>:\n",
    "<ul>\n",
    "<li>Remind yourself how you solved the problem of reading the 'tops' files in the notebook [`Ex_Reading_data_from_files.ipynb`](Ex_Reading_data_from_files.ipynb). </li>\n",
    "<li>Your challenge is to turn this into a function, complete with docstring and any options you want to try to implement. For example:</li>\n",
    "<li>- Try putting everything, including the file reading into the function. Better yet, write functions for each main 'chunk' of the workflow.</li>\n",
    "<li>- Perhaps the user can pass the number of lines to skip as a parameter.</li>\n",
    "<li>- You could also let the user choose different 'comment' characters.</li>\n",
    "<li>- Let the user select different delimiters, other than a comma.</li>\n",
    "<li>- Transforming the case of the names should probably be optional.</li>\n",
    "<li>- Print some 'progress reports' as you go, so the user knows what's going on.</li>\n",
    "<li>- As a final challenge: can you add a passing doctest? Make sure it passes on `B-41_tops.txt`.</li>\n",
    "<li>When you're done, add the function to `utils.py`.</li>\n",
    "</ul>\n",
    "</div>"
   ]
  },
  {
   "cell_type": "code",
   "execution_count": null,
   "metadata": {
    "collapsed": true
   },
   "outputs": [],
   "source": []
  },
  {
   "cell_type": "code",
   "execution_count": null,
   "metadata": {
    "collapsed": true,
    "tags": [
     "hide"
    ]
   },
   "outputs": [],
   "source": [
    "def get_tops_from_file(fname, skip=0, comment='#', delimiter=',', null=-999.25, fix_case=True):\n",
    "    \"\"\"\n",
    "    Docstring.\n",
    "    \n",
    "    >>> len(get_tops_from_file(\"../data/B-41_tops.txt\"))\n",
    "    Changed depth: Upper Missisauga Fm\n",
    "    6\n",
    "    \"\"\"\n",
    "    with open(fname, 'r') as f:\n",
    "        data = f.readlines()[skip:]\n",
    "\n",
    "    tops = {}\n",
    "    for line in data:\n",
    "        \n",
    "        # Skip comment rows.\n",
    "        if line.startswith(comment):\n",
    "            continue\n",
    "\n",
    "        # Assign names to elements.\n",
    "        name, dstr = line.split(delimiter)\n",
    "\n",
    "        if fix_case:\n",
    "            name = name.title()\n",
    "\n",
    "        dstr = dstr.strip()\n",
    "        if not dstr.isnumeric():\n",
    "            dstr = dstr.lower().rstrip('mft')\n",
    "\n",
    "        # Skip NULL entries.\n",
    "        if (not dstr) or (dstr == str(null)):\n",
    "            continue\n",
    "        \n",
    "        # Correct for other negative values.\n",
    "        depth = float(dstr)\n",
    "        if depth < 0:\n",
    "            depth *= -1\n",
    "            print('Changed depth: {}'.format(name))\n",
    "\n",
    "        tops[name] = depth\n",
    "\n",
    "    return tops"
   ]
  },
  {
   "cell_type": "code",
   "execution_count": null,
   "metadata": {
    "collapsed": true,
    "tags": [
     "hide"
    ]
   },
   "outputs": [],
   "source": [
    "import doctest\n",
    "doctest.testmod()"
   ]
  },
  {
   "cell_type": "code",
   "execution_count": null,
   "metadata": {
    "collapsed": true,
    "tags": [
     "hide"
    ]
   },
   "outputs": [],
   "source": [
    "tops = get_tops_from_file(\"../data/B-41_tops.txt\")"
   ]
  },
  {
   "cell_type": "code",
   "execution_count": null,
   "metadata": {
    "collapsed": true,
    "tags": [
     "hide"
    ]
   },
   "outputs": [],
   "source": [
    "tops"
   ]
  }
 ],
 "metadata": {
  "kernelspec": {
   "display_name": "Python 3",
   "language": "python",
   "name": "python3"
  },
  "language_info": {
   "codemirror_mode": {
    "name": "ipython",
    "version": 3
   },
   "file_extension": ".py",
   "mimetype": "text/x-python",
   "name": "python",
   "nbconvert_exporter": "python",
   "pygments_lexer": "ipython3",
   "version": "3.6.3"
  }
 },
 "nbformat": 4,
 "nbformat_minor": 1
}
