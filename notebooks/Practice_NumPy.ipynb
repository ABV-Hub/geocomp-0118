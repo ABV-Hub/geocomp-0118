{
 "cells": [
  {
   "cell_type": "markdown",
   "metadata": {},
   "source": [
    "# Practice NumPy\n",
    "\n",
    "Make sure you look at [`Intro_to_NumPy.ipynb`](Intro_to_NumPy.ipynb) first!"
   ]
  },
  {
   "cell_type": "code",
   "execution_count": null,
   "metadata": {},
   "outputs": [],
   "source": [
    "import numpy as np\n",
    "\n",
    "from utils import vp_from_dt, impedance, rc_series"
   ]
  },
  {
   "cell_type": "code",
   "execution_count": null,
   "metadata": {},
   "outputs": [],
   "source": [
    "test = np.random.random(10000000)"
   ]
  },
  {
   "cell_type": "code",
   "execution_count": null,
   "metadata": {},
   "outputs": [],
   "source": [
    "%timeit rc_series(test)"
   ]
  },
  {
   "cell_type": "markdown",
   "metadata": {},
   "source": [
    "Note that the log has to be fairly big for the benchmarking to work properly, because otherwise the CPU caches the computation and this skews the results."
   ]
  },
  {
   "cell_type": "markdown",
   "metadata": {},
   "source": [
    "Now we can re-write our function using arrays instead of lists. Let's just remind ourselves of what it looked like before:"
   ]
  },
  {
   "cell_type": "code",
   "execution_count": null,
   "metadata": {},
   "outputs": [],
   "source": [
    "import inspect\n",
    "print(inspect.getsource(rc_series))"
   ]
  },
  {
   "cell_type": "markdown",
   "metadata": {
    "tags": [
     "exercise"
    ]
   },
   "source": [
    "<div class=\"alert alert-success\">\n",
    "<b>Exercise</b>:\n",
    "<ul>\n",
    "<li>- Rewrite the `rc_series()` function to get rid of the loop. Remember that the math operations work on the entire array at once.</li>\n",
    "<li>- Time your new version on the `test` data and compare to the loop version.</li>\n",
    "</ul>\n",
    "</div>"
   ]
  },
  {
   "cell_type": "code",
   "execution_count": null,
   "metadata": {},
   "outputs": [],
   "source": [
    "def rc_vector(layers):\n",
    "    \n",
    "    # Your code here.\n",
    "    \n",
    "    return rc"
   ]
  },
  {
   "cell_type": "code",
   "execution_count": null,
   "metadata": {},
   "outputs": [],
   "source": [
    "z = np.arange(10)\n",
    "rc_vector(z)"
   ]
  },
  {
   "cell_type": "markdown",
   "metadata": {},
   "source": [
    "You should get the same output as you did before:"
   ]
  },
  {
   "cell_type": "code",
   "execution_count": null,
   "metadata": {},
   "outputs": [],
   "source": [
    "z = np.arange(10)\n",
    "rc_series(z)"
   ]
  },
  {
   "cell_type": "markdown",
   "metadata": {
    "tags": [
     "exercise"
    ]
   },
   "source": [
    "<div class=\"alert alert-success\">\n",
    "<b>Exercise</b>:\n",
    "<ul>\n",
    "<li>- Run the `rc_series` function on the log data to make an RC series array.</li>\n",
    "<li>- Add the vectorized version to the file `utils.py`.</li>\n",
    "</ul>\n",
    "</div>"
   ]
  },
  {
   "cell_type": "code",
   "execution_count": null,
   "metadata": {},
   "outputs": [],
   "source": [
    "from welly import Well\n",
    "\n",
    "w = Well.from_las('../data/R-39.las')\n",
    "\n",
    "dt = np.array(w.data['DT4P'])\n",
    "rhob = np.array(w.data['RHOB'])"
   ]
  },
  {
   "cell_type": "code",
   "execution_count": null,
   "metadata": {},
   "outputs": [],
   "source": [
    "vp =  # Your code here\n",
    "z =   # Your code here\n",
    "rc =  # Your code here"
   ]
  },
  {
   "cell_type": "code",
   "execution_count": null,
   "metadata": {},
   "outputs": [],
   "source": [
    "vs = vp_from_dt(w.data['DT4S'])"
   ]
  },
  {
   "cell_type": "code",
   "execution_count": null,
   "metadata": {},
   "outputs": [],
   "source": [
    "%matplotlib inline\n",
    "import matplotlib.pyplot as plt\n",
    "\n",
    "depth = w.data['DT4P'].basis\n",
    "\n",
    "plt.figure(figsize=(2, 10))\n",
    "plt.plot(vp, depth)"
   ]
  },
  {
   "cell_type": "markdown",
   "metadata": {},
   "source": [
    "## Convolution\n",
    "\n",
    "Now we'll use the RC to compute a synthetic... sort of: we're doing this in depth."
   ]
  },
  {
   "cell_type": "code",
   "execution_count": null,
   "metadata": {},
   "outputs": [],
   "source": [
    "from bruges.filters import ricker\n",
    "\n",
    "wavelet = ricker(100, 1, 0.03)\n",
    "\n",
    "plt.plot(wavelet)"
   ]
  },
  {
   "cell_type": "code",
   "execution_count": null,
   "metadata": {},
   "outputs": [],
   "source": [
    "syn = np.convolve(rc, wavelet, mode='same')"
   ]
  },
  {
   "cell_type": "code",
   "execution_count": null,
   "metadata": {},
   "outputs": [],
   "source": [
    "depth_, syn_ = depth[:500], syn[:500]\n",
    "\n",
    "plt.figure(figsize=(15, 2))\n",
    "plt.plot(depth_, syn_)\n",
    "plt.fill_between(depth_, 0, syn_, where=syn_>0)"
   ]
  },
  {
   "cell_type": "markdown",
   "metadata": {},
   "source": [
    "## Offset synthetic"
   ]
  },
  {
   "cell_type": "markdown",
   "metadata": {},
   "source": [
    "## OPTIONAL STOPPING POINT"
   ]
  },
  {
   "cell_type": "markdown",
   "metadata": {},
   "source": [
    "## A very brief introduction to plotting"
   ]
  },
  {
   "cell_type": "code",
   "execution_count": null,
   "metadata": {},
   "outputs": [],
   "source": [
    "%matplotlib inline\n",
    "import matplotlib.pyplot as plt\n",
    "\n",
    "plt.plot(rc)"
   ]
  },
  {
   "cell_type": "code",
   "execution_count": null,
   "metadata": {},
   "outputs": [],
   "source": [
    "plt.plot(rc[:200])"
   ]
  },
  {
   "cell_type": "code",
   "execution_count": null,
   "metadata": {},
   "outputs": [],
   "source": [
    "plt.stem(rc[75:125])"
   ]
  },
  {
   "cell_type": "code",
   "execution_count": null,
   "metadata": {},
   "outputs": [],
   "source": [
    "theta = np.arange(0, np.pi, 0.1)\n",
    "y = np.sin(theta)**2\n",
    "\n",
    "s = np.convolve(y, rc)\n",
    "plt.plot(s[:200])"
   ]
  },
  {
   "cell_type": "markdown",
   "metadata": {},
   "source": [
    "## Vsh\n",
    "\n",
    "_V_<sub>sh</sub> or _V_<sub>shale</sub> is the volume of shale in a given volume of rock. Often synonymous with _V_<sub>clay</sub>, though strictly speaking this should be measured at a different scale: _V_<sub>clay</sub> pertains to a rock, whereas _V_<sub>sh</sub> pertains to an interval of strata. \n",
    "\n",
    "It is possible to calculate _V_<sub>sh</sub> from spectral gamma-ray CGR curve data (usually where GR comes from):\n",
    "\n",
    "$$x = \\frac{\\mathsf{CGR}_\\mathrm{zone} - \\mathsf{CGR}_\\mathrm{clean}}{\\mathsf{CGR}_\\mathrm{shale} - \\mathsf{CGR}_\\mathrm{clean}}$$\n",
    "\n",
    "In many circumstances, _x_ can be used as _V_<sub>sh</sub>. Alternatively, one of the following corrections can be optionally applied:\n",
    "\n",
    "$V_\\mathrm{sh} = \\frac{0.5x}{1.5-x}$\n",
    "\n",
    "$V_\\mathrm{sh} = 1.7 - \\sqrt{3.38 - (x + 0.7)2}$"
   ]
  },
  {
   "cell_type": "markdown",
   "metadata": {
    "tags": [
     "exercise"
    ]
   },
   "source": [
    "<div class=\"alert alert-success\">\n",
    "<b>Exercise</b>:\n",
    "<ul>\n",
    "<li>Implement the Vsh equation.</li>\n",
    "<li>- Your function should work on scalars and on arrays or other sequences.</li>\n",
    "<li>- The function should never return a number outside the closed interaval [0, 1].</li>\n",
    "<li>- Write a docstring and tests for your function.</li>\n",
    "<li>- Apply your function to the GR log from the well `w`</li>\n",
    "</ul>\n",
    "</div>"
   ]
  },
  {
   "cell_type": "code",
   "execution_count": null,
   "metadata": {},
   "outputs": [],
   "source": [
    "def vshale(cgr, clean, shale):\n",
    "\n",
    "    # Your code here!\n",
    "    \n",
    "    return vsh"
   ]
  },
  {
   "cell_type": "code",
   "execution_count": null,
   "metadata": {},
   "outputs": [],
   "source": [
    "cgr = [40, 50, 80, 100, 120, 80, np.nan, 10]\n",
    "vshale(cgr, clean=40, shale=100)"
   ]
  },
  {
   "cell_type": "markdown",
   "metadata": {},
   "source": [
    "This should yield:\n",
    "\n",
    "    array([ 0.    ,  0.0625,  0.4   ,  1.    ,  1.    ,  0.4   ,     nan,  0.    ])"
   ]
  },
  {
   "cell_type": "markdown",
   "metadata": {},
   "source": [
    "<hr />\n",
    "\n",
    "<div>\n",
    "<img src=\"https://avatars1.githubusercontent.com/u/1692321?s=50\"><p style=\"text-align:center\">© Agile Geoscience 2016</p>\n",
    "</div>"
   ]
  }
 ],
 "metadata": {
  "anaconda-cloud": {},
  "kernelspec": {
   "display_name": "Python 3",
   "language": "python",
   "name": "python3"
  },
  "language_info": {
   "codemirror_mode": {
    "name": "ipython",
    "version": 3
   },
   "file_extension": ".py",
   "mimetype": "text/x-python",
   "name": "python",
   "nbconvert_exporter": "python",
   "pygments_lexer": "ipython3",
   "version": "3.5.4"
  }
 },
 "nbformat": 4,
 "nbformat_minor": 1
}
