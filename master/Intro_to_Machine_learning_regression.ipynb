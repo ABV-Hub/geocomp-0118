{
 "cells": [
  {
   "cell_type": "markdown",
   "metadata": {},
   "source": [
    "<a id='top'></a>\n",
    "# Log completion by ML regression"
   ]
  },
  {
   "cell_type": "markdown",
   "metadata": {},
   "source": [
    "- Typical and useful Pandas\n",
    "    - Data exploration using Matplotlib\n",
    "    - Basic steps for data cleaning\n",
    "    - **Exercise: Find problem in specific well log data.**\n",
    "    - Feature engineering\n",
    "- Setup scikit-learn workflow\n",
    "    - Making X and y\n",
    "- Choosing a model\n",
    "    - Classification vs Regression\n",
    "- Evaluating model performance\n",
    "    - Parameter selection and tuning\n",
    "    - GridSearch\n",
    "- Add more data / remove data "
   ]
  },
  {
   "cell_type": "markdown",
   "metadata": {},
   "source": [
    "## More Pandas\n",
    "---"
   ]
  },
  {
   "cell_type": "markdown",
   "metadata": {},
   "source": [
    "Load Numpy, Pandas and Matplotlib"
   ]
  },
  {
   "cell_type": "code",
   "execution_count": 1,
   "metadata": {},
   "outputs": [],
   "source": [
    "import numpy as np\n",
    "import pandas as pd\n",
    "import matplotlib.pyplot as plt\n",
    "\n",
    "% matplotlib inline"
   ]
  },
  {
   "cell_type": "markdown",
   "metadata": {},
   "source": [
    "Define the name of the file to be loaded and use Pandas to read it. Note that the name can be a PATH pointing at the file."
   ]
  },
  {
   "cell_type": "code",
   "execution_count": 2,
   "metadata": {},
   "outputs": [],
   "source": [
    "datafile = '../data/training_DataFrame.csv'"
   ]
  },
  {
   "cell_type": "markdown",
   "metadata": {},
   "source": [
    "Pandas expects by default a column on the file to be an index for each row of values. For this example, column 1 (index = 0) is that column."
   ]
  },
  {
   "cell_type": "code",
   "execution_count": 3,
   "metadata": {},
   "outputs": [],
   "source": [
    "wells = pd.read_csv(datafile, index_col=0)"
   ]
  },
  {
   "cell_type": "markdown",
   "metadata": {},
   "source": [
    "# Data Exploration and cleaning"
   ]
  },
  {
   "cell_type": "markdown",
   "metadata": {},
   "source": [
    "Before feeding our machines with data to learn from, it's important to make sure that we feed them the best possible data. Pandas has a few methods to explore the contents of the data. The `head()` method shows the top rows of the DataFrame."
   ]
  },
  {
   "cell_type": "code",
   "execution_count": 4,
   "metadata": {},
   "outputs": [
    {
     "data": {
      "text/html": [
       "<div>\n",
       "<style scoped>\n",
       "    .dataframe tbody tr th:only-of-type {\n",
       "        vertical-align: middle;\n",
       "    }\n",
       "\n",
       "    .dataframe tbody tr th {\n",
       "        vertical-align: top;\n",
       "    }\n",
       "\n",
       "    .dataframe thead th {\n",
       "        text-align: right;\n",
       "    }\n",
       "</style>\n",
       "<table border=\"1\" class=\"dataframe\">\n",
       "  <thead>\n",
       "    <tr style=\"text-align: right;\">\n",
       "      <th></th>\n",
       "      <th>well_ID</th>\n",
       "      <th>Depth</th>\n",
       "      <th>GR</th>\n",
       "      <th>ILD</th>\n",
       "      <th>NPHI</th>\n",
       "      <th>DPHI</th>\n",
       "      <th>RHOB</th>\n",
       "    </tr>\n",
       "  </thead>\n",
       "  <tbody>\n",
       "    <tr>\n",
       "      <th>0</th>\n",
       "      <td>0.0</td>\n",
       "      <td>140.0</td>\n",
       "      <td>102.0230</td>\n",
       "      <td>2.9910</td>\n",
       "      <td>0.5520</td>\n",
       "      <td>0.246</td>\n",
       "      <td>0.0</td>\n",
       "    </tr>\n",
       "    <tr>\n",
       "      <th>1</th>\n",
       "      <td>0.0</td>\n",
       "      <td>140.1</td>\n",
       "      <td>100.8074</td>\n",
       "      <td>3.0134</td>\n",
       "      <td>0.5596</td>\n",
       "      <td>0.258</td>\n",
       "      <td>0.0</td>\n",
       "    </tr>\n",
       "    <tr>\n",
       "      <th>2</th>\n",
       "      <td>0.0</td>\n",
       "      <td>140.2</td>\n",
       "      <td>99.5918</td>\n",
       "      <td>3.0358</td>\n",
       "      <td>0.5672</td>\n",
       "      <td>0.270</td>\n",
       "      <td>0.0</td>\n",
       "    </tr>\n",
       "    <tr>\n",
       "      <th>3</th>\n",
       "      <td>0.0</td>\n",
       "      <td>140.3</td>\n",
       "      <td>98.8622</td>\n",
       "      <td>3.0470</td>\n",
       "      <td>0.5686</td>\n",
       "      <td>0.274</td>\n",
       "      <td>0.0</td>\n",
       "    </tr>\n",
       "    <tr>\n",
       "      <th>4</th>\n",
       "      <td>0.0</td>\n",
       "      <td>140.4</td>\n",
       "      <td>98.6186</td>\n",
       "      <td>3.0470</td>\n",
       "      <td>0.5638</td>\n",
       "      <td>0.270</td>\n",
       "      <td>0.0</td>\n",
       "    </tr>\n",
       "  </tbody>\n",
       "</table>\n",
       "</div>"
      ],
      "text/plain": [
       "   well_ID  Depth        GR     ILD    NPHI   DPHI  RHOB\n",
       "0      0.0  140.0  102.0230  2.9910  0.5520  0.246   0.0\n",
       "1      0.0  140.1  100.8074  3.0134  0.5596  0.258   0.0\n",
       "2      0.0  140.2   99.5918  3.0358  0.5672  0.270   0.0\n",
       "3      0.0  140.3   98.8622  3.0470  0.5686  0.274   0.0\n",
       "4      0.0  140.4   98.6186  3.0470  0.5638  0.270   0.0"
      ]
     },
     "execution_count": 4,
     "metadata": {},
     "output_type": "execute_result"
    }
   ],
   "source": [
    "wells.head()"
   ]
  },
  {
   "cell_type": "markdown",
   "metadata": {},
   "source": [
    "Another useful Pandas method is `describe()`, which compile useful statistics of each numeric column in the `DataFrame`. "
   ]
  },
  {
   "cell_type": "code",
   "execution_count": 5,
   "metadata": {},
   "outputs": [
    {
     "data": {
      "text/html": [
       "<div>\n",
       "<style scoped>\n",
       "    .dataframe tbody tr th:only-of-type {\n",
       "        vertical-align: middle;\n",
       "    }\n",
       "\n",
       "    .dataframe tbody tr th {\n",
       "        vertical-align: top;\n",
       "    }\n",
       "\n",
       "    .dataframe thead th {\n",
       "        text-align: right;\n",
       "    }\n",
       "</style>\n",
       "<table border=\"1\" class=\"dataframe\">\n",
       "  <thead>\n",
       "    <tr style=\"text-align: right;\">\n",
       "      <th></th>\n",
       "      <th>well_ID</th>\n",
       "      <th>Depth</th>\n",
       "      <th>GR</th>\n",
       "      <th>ILD</th>\n",
       "      <th>NPHI</th>\n",
       "      <th>DPHI</th>\n",
       "      <th>RHOB</th>\n",
       "    </tr>\n",
       "  </thead>\n",
       "  <tbody>\n",
       "    <tr>\n",
       "      <th>count</th>\n",
       "      <td>164041.000000</td>\n",
       "      <td>164041.000000</td>\n",
       "      <td>162842.000000</td>\n",
       "      <td>163558.000000</td>\n",
       "      <td>162830.000000</td>\n",
       "      <td>163078.000000</td>\n",
       "      <td>162768.000000</td>\n",
       "    </tr>\n",
       "    <tr>\n",
       "      <th>mean</th>\n",
       "      <td>35.084095</td>\n",
       "      <td>281.776399</td>\n",
       "      <td>75.893516</td>\n",
       "      <td>36.998366</td>\n",
       "      <td>0.421645</td>\n",
       "      <td>0.262834</td>\n",
       "      <td>958.301220</td>\n",
       "    </tr>\n",
       "    <tr>\n",
       "      <th>std</th>\n",
       "      <td>21.494848</td>\n",
       "      <td>114.089130</td>\n",
       "      <td>25.934663</td>\n",
       "      <td>891.198299</td>\n",
       "      <td>0.086738</td>\n",
       "      <td>0.088723</td>\n",
       "      <td>1120.852391</td>\n",
       "    </tr>\n",
       "    <tr>\n",
       "      <th>min</th>\n",
       "      <td>0.000000</td>\n",
       "      <td>0.000000</td>\n",
       "      <td>0.000000</td>\n",
       "      <td>-0.496000</td>\n",
       "      <td>-0.002000</td>\n",
       "      <td>-0.239000</td>\n",
       "      <td>-245.448000</td>\n",
       "    </tr>\n",
       "    <tr>\n",
       "      <th>25%</th>\n",
       "      <td>17.000000</td>\n",
       "      <td>201.500000</td>\n",
       "      <td>57.308050</td>\n",
       "      <td>5.045000</td>\n",
       "      <td>0.379800</td>\n",
       "      <td>0.227800</td>\n",
       "      <td>0.000000</td>\n",
       "    </tr>\n",
       "    <tr>\n",
       "      <th>50%</th>\n",
       "      <td>34.000000</td>\n",
       "      <td>289.300000</td>\n",
       "      <td>78.559000</td>\n",
       "      <td>8.367000</td>\n",
       "      <td>0.428200</td>\n",
       "      <td>0.267800</td>\n",
       "      <td>0.000000</td>\n",
       "    </tr>\n",
       "    <tr>\n",
       "      <th>75%</th>\n",
       "      <td>52.000000</td>\n",
       "      <td>363.100000</td>\n",
       "      <td>95.130000</td>\n",
       "      <td>16.407200</td>\n",
       "      <td>0.473800</td>\n",
       "      <td>0.309400</td>\n",
       "      <td>2226.820000</td>\n",
       "    </tr>\n",
       "    <tr>\n",
       "      <th>max</th>\n",
       "      <td>74.000000</td>\n",
       "      <td>615.000000</td>\n",
       "      <td>290.759000</td>\n",
       "      <td>100000.000000</td>\n",
       "      <td>0.722200</td>\n",
       "      <td>1.606000</td>\n",
       "      <td>3043.610000</td>\n",
       "    </tr>\n",
       "  </tbody>\n",
       "</table>\n",
       "</div>"
      ],
      "text/plain": [
       "             well_ID          Depth             GR            ILD  \\\n",
       "count  164041.000000  164041.000000  162842.000000  163558.000000   \n",
       "mean       35.084095     281.776399      75.893516      36.998366   \n",
       "std        21.494848     114.089130      25.934663     891.198299   \n",
       "min         0.000000       0.000000       0.000000      -0.496000   \n",
       "25%        17.000000     201.500000      57.308050       5.045000   \n",
       "50%        34.000000     289.300000      78.559000       8.367000   \n",
       "75%        52.000000     363.100000      95.130000      16.407200   \n",
       "max        74.000000     615.000000     290.759000  100000.000000   \n",
       "\n",
       "                NPHI           DPHI           RHOB  \n",
       "count  162830.000000  163078.000000  162768.000000  \n",
       "mean        0.421645       0.262834     958.301220  \n",
       "std         0.086738       0.088723    1120.852391  \n",
       "min        -0.002000      -0.239000    -245.448000  \n",
       "25%         0.379800       0.227800       0.000000  \n",
       "50%         0.428200       0.267800       0.000000  \n",
       "75%         0.473800       0.309400    2226.820000  \n",
       "max         0.722200       1.606000    3043.610000  "
      ]
     },
     "execution_count": 5,
     "metadata": {},
     "output_type": "execute_result"
    }
   ],
   "source": [
    "wells.describe()"
   ]
  },
  {
   "cell_type": "markdown",
   "metadata": {},
   "source": [
    "Note how the `count` row is not the same for all columns? This means that there are some values that Pandas doesn't think they are numbers! (Could be missing values or `NaN`s). There are many strategies to deal with missing data but for this excercise we're just going to ignore the rows that contain these bad values."
   ]
  },
  {
   "cell_type": "code",
   "execution_count": 6,
   "metadata": {},
   "outputs": [],
   "source": [
    "wells = wells.dropna()"
   ]
  },
  {
   "cell_type": "code",
   "execution_count": 7,
   "metadata": {},
   "outputs": [
    {
     "data": {
      "text/html": [
       "<div>\n",
       "<style scoped>\n",
       "    .dataframe tbody tr th:only-of-type {\n",
       "        vertical-align: middle;\n",
       "    }\n",
       "\n",
       "    .dataframe tbody tr th {\n",
       "        vertical-align: top;\n",
       "    }\n",
       "\n",
       "    .dataframe thead th {\n",
       "        text-align: right;\n",
       "    }\n",
       "</style>\n",
       "<table border=\"1\" class=\"dataframe\">\n",
       "  <thead>\n",
       "    <tr style=\"text-align: right;\">\n",
       "      <th></th>\n",
       "      <th>well_ID</th>\n",
       "      <th>Depth</th>\n",
       "      <th>GR</th>\n",
       "      <th>ILD</th>\n",
       "      <th>NPHI</th>\n",
       "      <th>DPHI</th>\n",
       "      <th>RHOB</th>\n",
       "    </tr>\n",
       "  </thead>\n",
       "  <tbody>\n",
       "    <tr>\n",
       "      <th>count</th>\n",
       "      <td>162353.000000</td>\n",
       "      <td>162353.000000</td>\n",
       "      <td>162353.000000</td>\n",
       "      <td>162353.00000</td>\n",
       "      <td>162353.000000</td>\n",
       "      <td>162353.000000</td>\n",
       "      <td>162353.000000</td>\n",
       "    </tr>\n",
       "    <tr>\n",
       "      <th>mean</th>\n",
       "      <td>34.837558</td>\n",
       "      <td>283.862341</td>\n",
       "      <td>76.008393</td>\n",
       "      <td>36.33629</td>\n",
       "      <td>0.422174</td>\n",
       "      <td>0.263171</td>\n",
       "      <td>954.130772</td>\n",
       "    </tr>\n",
       "    <tr>\n",
       "      <th>std</th>\n",
       "      <td>21.461413</td>\n",
       "      <td>112.579670</td>\n",
       "      <td>25.875123</td>\n",
       "      <td>893.74899</td>\n",
       "      <td>0.086146</td>\n",
       "      <td>0.088163</td>\n",
       "      <td>1119.205970</td>\n",
       "    </tr>\n",
       "    <tr>\n",
       "      <th>min</th>\n",
       "      <td>0.000000</td>\n",
       "      <td>0.000000</td>\n",
       "      <td>0.000000</td>\n",
       "      <td>-0.49600</td>\n",
       "      <td>-0.002000</td>\n",
       "      <td>-0.239000</td>\n",
       "      <td>-245.448000</td>\n",
       "    </tr>\n",
       "    <tr>\n",
       "      <th>25%</th>\n",
       "      <td>16.000000</td>\n",
       "      <td>204.900000</td>\n",
       "      <td>57.480800</td>\n",
       "      <td>5.03960</td>\n",
       "      <td>0.380000</td>\n",
       "      <td>0.228000</td>\n",
       "      <td>0.000000</td>\n",
       "    </tr>\n",
       "    <tr>\n",
       "      <th>50%</th>\n",
       "      <td>34.000000</td>\n",
       "      <td>290.700000</td>\n",
       "      <td>78.667800</td>\n",
       "      <td>8.34660</td>\n",
       "      <td>0.428400</td>\n",
       "      <td>0.268000</td>\n",
       "      <td>0.000000</td>\n",
       "    </tr>\n",
       "    <tr>\n",
       "      <th>75%</th>\n",
       "      <td>52.000000</td>\n",
       "      <td>364.000000</td>\n",
       "      <td>95.174000</td>\n",
       "      <td>16.34400</td>\n",
       "      <td>0.474000</td>\n",
       "      <td>0.309400</td>\n",
       "      <td>2225.626000</td>\n",
       "    </tr>\n",
       "    <tr>\n",
       "      <th>max</th>\n",
       "      <td>74.000000</td>\n",
       "      <td>614.900000</td>\n",
       "      <td>290.759000</td>\n",
       "      <td>100000.00000</td>\n",
       "      <td>0.722200</td>\n",
       "      <td>1.606000</td>\n",
       "      <td>3043.610000</td>\n",
       "    </tr>\n",
       "  </tbody>\n",
       "</table>\n",
       "</div>"
      ],
      "text/plain": [
       "             well_ID          Depth             GR           ILD  \\\n",
       "count  162353.000000  162353.000000  162353.000000  162353.00000   \n",
       "mean       34.837558     283.862341      76.008393      36.33629   \n",
       "std        21.461413     112.579670      25.875123     893.74899   \n",
       "min         0.000000       0.000000       0.000000      -0.49600   \n",
       "25%        16.000000     204.900000      57.480800       5.03960   \n",
       "50%        34.000000     290.700000      78.667800       8.34660   \n",
       "75%        52.000000     364.000000      95.174000      16.34400   \n",
       "max        74.000000     614.900000     290.759000  100000.00000   \n",
       "\n",
       "                NPHI           DPHI           RHOB  \n",
       "count  162353.000000  162353.000000  162353.000000  \n",
       "mean        0.422174       0.263171     954.130772  \n",
       "std         0.086146       0.088163    1119.205970  \n",
       "min        -0.002000      -0.239000    -245.448000  \n",
       "25%         0.380000       0.228000       0.000000  \n",
       "50%         0.428400       0.268000       0.000000  \n",
       "75%         0.474000       0.309400    2225.626000  \n",
       "max         0.722200       1.606000    3043.610000  "
      ]
     },
     "execution_count": 7,
     "metadata": {},
     "output_type": "execute_result"
    }
   ],
   "source": [
    "wells.describe()"
   ]
  },
  {
   "cell_type": "markdown",
   "metadata": {},
   "source": [
    "Now every column in the `DataFrame` should contain the same number of elements and now we can focus on the statistics themselves. Look at each log property, do those `mean`, `min` and `max` look OK? `ILD` shouldn't have negative values. Let's take them out of our set:"
   ]
  },
  {
   "cell_type": "code",
   "execution_count": 8,
   "metadata": {},
   "outputs": [],
   "source": [
    "wells = wells[wells.ILD > 0]"
   ]
  },
  {
   "cell_type": "code",
   "execution_count": 9,
   "metadata": {},
   "outputs": [
    {
     "data": {
      "text/html": [
       "<div>\n",
       "<style scoped>\n",
       "    .dataframe tbody tr th:only-of-type {\n",
       "        vertical-align: middle;\n",
       "    }\n",
       "\n",
       "    .dataframe tbody tr th {\n",
       "        vertical-align: top;\n",
       "    }\n",
       "\n",
       "    .dataframe thead th {\n",
       "        text-align: right;\n",
       "    }\n",
       "</style>\n",
       "<table border=\"1\" class=\"dataframe\">\n",
       "  <thead>\n",
       "    <tr style=\"text-align: right;\">\n",
       "      <th></th>\n",
       "      <th>well_ID</th>\n",
       "      <th>Depth</th>\n",
       "      <th>GR</th>\n",
       "      <th>ILD</th>\n",
       "      <th>NPHI</th>\n",
       "      <th>DPHI</th>\n",
       "      <th>RHOB</th>\n",
       "    </tr>\n",
       "  </thead>\n",
       "  <tbody>\n",
       "    <tr>\n",
       "      <th>count</th>\n",
       "      <td>161876.000000</td>\n",
       "      <td>161876.000000</td>\n",
       "      <td>161876.000000</td>\n",
       "      <td>1.618760e+05</td>\n",
       "      <td>161876.000000</td>\n",
       "      <td>161876.000000</td>\n",
       "      <td>161876.000000</td>\n",
       "    </tr>\n",
       "    <tr>\n",
       "      <th>mean</th>\n",
       "      <td>34.765104</td>\n",
       "      <td>284.665205</td>\n",
       "      <td>76.130415</td>\n",
       "      <td>3.644336e+01</td>\n",
       "      <td>0.422487</td>\n",
       "      <td>0.261927</td>\n",
       "      <td>952.466714</td>\n",
       "    </tr>\n",
       "    <tr>\n",
       "      <th>std</th>\n",
       "      <td>21.450405</td>\n",
       "      <td>111.762860</td>\n",
       "      <td>25.791143</td>\n",
       "      <td>8.950627e+02</td>\n",
       "      <td>0.084811</td>\n",
       "      <td>0.073632</td>\n",
       "      <td>1118.187338</td>\n",
       "    </tr>\n",
       "    <tr>\n",
       "      <th>min</th>\n",
       "      <td>0.000000</td>\n",
       "      <td>0.000000</td>\n",
       "      <td>0.000000</td>\n",
       "      <td>4.320100e-09</td>\n",
       "      <td>-0.002000</td>\n",
       "      <td>-0.239000</td>\n",
       "      <td>-245.448000</td>\n",
       "    </tr>\n",
       "    <tr>\n",
       "      <th>25%</th>\n",
       "      <td>16.000000</td>\n",
       "      <td>206.000000</td>\n",
       "      <td>57.645000</td>\n",
       "      <td>5.071400e+00</td>\n",
       "      <td>0.380200</td>\n",
       "      <td>0.228000</td>\n",
       "      <td>0.000000</td>\n",
       "    </tr>\n",
       "    <tr>\n",
       "      <th>50%</th>\n",
       "      <td>34.000000</td>\n",
       "      <td>291.100000</td>\n",
       "      <td>78.787000</td>\n",
       "      <td>8.379000e+00</td>\n",
       "      <td>0.428400</td>\n",
       "      <td>0.268000</td>\n",
       "      <td>0.000000</td>\n",
       "    </tr>\n",
       "    <tr>\n",
       "      <th>75%</th>\n",
       "      <td>52.000000</td>\n",
       "      <td>364.235500</td>\n",
       "      <td>95.220150</td>\n",
       "      <td>1.636623e+01</td>\n",
       "      <td>0.473800</td>\n",
       "      <td>0.309200</td>\n",
       "      <td>2225.187500</td>\n",
       "    </tr>\n",
       "    <tr>\n",
       "      <th>max</th>\n",
       "      <td>74.000000</td>\n",
       "      <td>614.900000</td>\n",
       "      <td>290.759000</td>\n",
       "      <td>1.000000e+05</td>\n",
       "      <td>0.722200</td>\n",
       "      <td>1.316400</td>\n",
       "      <td>3043.610000</td>\n",
       "    </tr>\n",
       "  </tbody>\n",
       "</table>\n",
       "</div>"
      ],
      "text/plain": [
       "             well_ID          Depth             GR           ILD  \\\n",
       "count  161876.000000  161876.000000  161876.000000  1.618760e+05   \n",
       "mean       34.765104     284.665205      76.130415  3.644336e+01   \n",
       "std        21.450405     111.762860      25.791143  8.950627e+02   \n",
       "min         0.000000       0.000000       0.000000  4.320100e-09   \n",
       "25%        16.000000     206.000000      57.645000  5.071400e+00   \n",
       "50%        34.000000     291.100000      78.787000  8.379000e+00   \n",
       "75%        52.000000     364.235500      95.220150  1.636623e+01   \n",
       "max        74.000000     614.900000     290.759000  1.000000e+05   \n",
       "\n",
       "                NPHI           DPHI           RHOB  \n",
       "count  161876.000000  161876.000000  161876.000000  \n",
       "mean        0.422487       0.261927     952.466714  \n",
       "std         0.084811       0.073632    1118.187338  \n",
       "min        -0.002000      -0.239000    -245.448000  \n",
       "25%         0.380200       0.228000       0.000000  \n",
       "50%         0.428400       0.268000       0.000000  \n",
       "75%         0.473800       0.309200    2225.187500  \n",
       "max         0.722200       1.316400    3043.610000  "
      ]
     },
     "execution_count": 9,
     "metadata": {},
     "output_type": "execute_result"
    }
   ],
   "source": [
    "wells.describe()"
   ]
  },
  {
   "cell_type": "markdown",
   "metadata": {},
   "source": [
    "Another typical first approach to explore the data is to study the distribution of values in the dataset..."
   ]
  },
  {
   "cell_type": "code",
   "execution_count": 10,
   "metadata": {},
   "outputs": [
    {
     "data": {
      "image/png": "[encoded data removed]",
      "text/plain": [
       "<matplotlib.figure.Figure at 0x7fe23305ebe0>"
      ]
     },
     "metadata": {},
     "output_type": "display_data"
    }
   ],
   "source": [
    "ax = wells.hist(column=\"RHOB\", figsize=(8,6), bins=20)"
   ]
  },
  {
   "cell_type": "markdown",
   "metadata": {},
   "source": [
    "<div class=\"alert alert-success\">\n",
    "    <b>Exercise</b>:\n",
    "     <ul>\n",
    "      <li>\n",
    "      That distribution doesn't seem right. Can you exclude the `DataFrame` values for which `RHOB` is higher than `1800`?\n",
    "      </li>\n",
    "      <p>\n",
    "    </ul>\n",
    "</div>"
   ]
  },
  {
   "cell_type": "code",
   "execution_count": 11,
   "metadata": {},
   "outputs": [],
   "source": [
    "# Put your code here\n",
    "#!--\n",
    "wells = wells[wells.RHOB > 1800]\n",
    "#--!"
   ]
  },
  {
   "cell_type": "markdown",
   "metadata": {},
   "source": [
    "<div class=\"alert alert-success\">\n",
    "    <b>Exercise</b>:\n",
    "     <ul>\n",
    "      <li>\n",
    "      Explore the rest of the `DataFrame`. Do all distributions look OK?\n",
    "      </li>\n",
    "      <p>\n",
    "    </ul>\n",
    "</div>"
   ]
  },
  {
   "cell_type": "markdown",
   "metadata": {},
   "source": [
    "Seaborn has a few tricks to display histograms better"
   ]
  },
  {
   "cell_type": "code",
   "execution_count": 12,
   "metadata": {},
   "outputs": [],
   "source": [
    "import seaborn as sns"
   ]
  },
  {
   "cell_type": "code",
   "execution_count": 13,
   "metadata": {},
   "outputs": [
    {
     "data": {
      "text/plain": [
       "array([4.011 , 4.3386, 4.6662, ..., 5.3338, 5.5834, 5.833 ])"
      ]
     },
     "execution_count": 13,
     "metadata": {},
     "output_type": "execute_result"
    }
   ],
   "source": [
    "wells.ILD.values"
   ]
  },
  {
   "cell_type": "code",
   "execution_count": 14,
   "metadata": {
    "scrolled": true
   },
   "outputs": [
    {
     "data": {
      "text/plain": [
       "<matplotlib.axes._subplots.AxesSubplot at 0x7fe2282d9320>"
      ]
     },
     "execution_count": 14,
     "metadata": {},
     "output_type": "execute_result"
    },
    {
     "data": {
      "image/png": "[encoded data removed]",
      "text/plain": [
       "<matplotlib.figure.Figure at 0x7fe2289ddc88>"
      ]
     },
     "metadata": {},
     "output_type": "display_data"
    }
   ],
   "source": [
    "sns.distplot(wells['ILD'])"
   ]
  },
  {
   "cell_type": "markdown",
   "metadata": {},
   "source": [
    "<div class=\"alert alert-success\">\n",
    "    <b>Exercise</b>:\n",
    "     <ul>\n",
    "      <li>\n",
    "      Calculate the `log` of ILD and store it in the `DataFrame`\n",
    "      </li>\n",
    "      <p>\n",
    "    </ul>\n",
    "</div>"
   ]
  },
  {
   "cell_type": "code",
   "execution_count": 15,
   "metadata": {},
   "outputs": [
    {
     "data": {
      "image/png": "[encoded data removed]",
      "text/plain": [
       "<matplotlib.figure.Figure at 0x7fe2330b2668>"
      ]
     },
     "metadata": {},
     "output_type": "display_data"
    }
   ],
   "source": [
    "# Put your code here\n",
    "#!--\n",
    "wells['log_ILD'] = np.log10(wells['ILD'])\n",
    "axs = wells['log_ILD'].hist(bins=20)\n",
    "#--!"
   ]
  },
  {
   "cell_type": "code",
   "execution_count": 16,
   "metadata": {},
   "outputs": [],
   "source": [
    "wells = wells[wells.DPHI > 0]"
   ]
  },
  {
   "cell_type": "code",
   "execution_count": 17,
   "metadata": {},
   "outputs": [
    {
     "data": {
      "text/plain": [
       "<matplotlib.axes._subplots.AxesSubplot at 0x7fe22827b9e8>"
      ]
     },
     "execution_count": 17,
     "metadata": {},
     "output_type": "execute_result"
    },
    {
     "data": {
      "image/png": "[encoded data removed]",
      "text/plain": [
       "<matplotlib.figure.Figure at 0x7fe228285400>"
      ]
     },
     "metadata": {},
     "output_type": "display_data"
    }
   ],
   "source": [
    "sns.distplot(wells.DPHI)"
   ]
  },
  {
   "cell_type": "markdown",
   "metadata": {},
   "source": [
    "# Load testing data"
   ]
  },
  {
   "cell_type": "code",
   "execution_count": 18,
   "metadata": {},
   "outputs": [],
   "source": [
    "w_train = wells.copy()\n",
    "w_test = pd.read_csv('../data/testing_DataFrame.csv', index_col=0)\n",
    "w_test_complete = pd.read_csv('../data/testing_DataFrame_complete.csv', index_col=0)"
   ]
  },
  {
   "cell_type": "code",
   "execution_count": 19,
   "metadata": {},
   "outputs": [
    {
     "data": {
      "text/html": [
       "<div>\n",
       "<style scoped>\n",
       "    .dataframe tbody tr th:only-of-type {\n",
       "        vertical-align: middle;\n",
       "    }\n",
       "\n",
       "    .dataframe tbody tr th {\n",
       "        vertical-align: top;\n",
       "    }\n",
       "\n",
       "    .dataframe thead th {\n",
       "        text-align: right;\n",
       "    }\n",
       "</style>\n",
       "<table border=\"1\" class=\"dataframe\">\n",
       "  <thead>\n",
       "    <tr style=\"text-align: right;\">\n",
       "      <th></th>\n",
       "      <th>well_ID</th>\n",
       "      <th>Depth</th>\n",
       "      <th>GR</th>\n",
       "      <th>ILD</th>\n",
       "      <th>NPHI</th>\n",
       "      <th>DPHI</th>\n",
       "    </tr>\n",
       "  </thead>\n",
       "  <tbody>\n",
       "    <tr>\n",
       "      <th>165551</th>\n",
       "      <td>75.0</td>\n",
       "      <td>306.0</td>\n",
       "      <td>111.7490</td>\n",
       "      <td>5.2770</td>\n",
       "      <td>0.4360</td>\n",
       "      <td>0.2640</td>\n",
       "    </tr>\n",
       "    <tr>\n",
       "      <th>165552</th>\n",
       "      <td>75.0</td>\n",
       "      <td>306.1</td>\n",
       "      <td>109.0258</td>\n",
       "      <td>5.4846</td>\n",
       "      <td>0.4408</td>\n",
       "      <td>0.2676</td>\n",
       "    </tr>\n",
       "    <tr>\n",
       "      <th>165553</th>\n",
       "      <td>75.0</td>\n",
       "      <td>306.2</td>\n",
       "      <td>106.3026</td>\n",
       "      <td>5.6922</td>\n",
       "      <td>0.4456</td>\n",
       "      <td>0.2712</td>\n",
       "    </tr>\n",
       "    <tr>\n",
       "      <th>165554</th>\n",
       "      <td>75.0</td>\n",
       "      <td>306.3</td>\n",
       "      <td>103.7030</td>\n",
       "      <td>5.9586</td>\n",
       "      <td>0.4458</td>\n",
       "      <td>0.2748</td>\n",
       "    </tr>\n",
       "    <tr>\n",
       "      <th>165555</th>\n",
       "      <td>75.0</td>\n",
       "      <td>306.4</td>\n",
       "      <td>101.2270</td>\n",
       "      <td>6.2838</td>\n",
       "      <td>0.4414</td>\n",
       "      <td>0.2784</td>\n",
       "    </tr>\n",
       "  </tbody>\n",
       "</table>\n",
       "</div>"
      ],
      "text/plain": [
       "        well_ID  Depth        GR     ILD    NPHI    DPHI\n",
       "165551     75.0  306.0  111.7490  5.2770  0.4360  0.2640\n",
       "165552     75.0  306.1  109.0258  5.4846  0.4408  0.2676\n",
       "165553     75.0  306.2  106.3026  5.6922  0.4456  0.2712\n",
       "165554     75.0  306.3  103.7030  5.9586  0.4458  0.2748\n",
       "165555     75.0  306.4  101.2270  6.2838  0.4414  0.2784"
      ]
     },
     "execution_count": 19,
     "metadata": {},
     "output_type": "execute_result"
    }
   ],
   "source": [
    "w_test.head()"
   ]
  },
  {
   "cell_type": "code",
   "execution_count": 20,
   "metadata": {},
   "outputs": [
    {
     "data": {
      "text/html": [
       "<div>\n",
       "<style scoped>\n",
       "    .dataframe tbody tr th:only-of-type {\n",
       "        vertical-align: middle;\n",
       "    }\n",
       "\n",
       "    .dataframe tbody tr th {\n",
       "        vertical-align: top;\n",
       "    }\n",
       "\n",
       "    .dataframe thead th {\n",
       "        text-align: right;\n",
       "    }\n",
       "</style>\n",
       "<table border=\"1\" class=\"dataframe\">\n",
       "  <thead>\n",
       "    <tr style=\"text-align: right;\">\n",
       "      <th></th>\n",
       "      <th>well_ID</th>\n",
       "      <th>Depth</th>\n",
       "      <th>GR</th>\n",
       "      <th>ILD</th>\n",
       "      <th>NPHI</th>\n",
       "      <th>DPHI</th>\n",
       "    </tr>\n",
       "  </thead>\n",
       "  <tbody>\n",
       "    <tr>\n",
       "      <th>count</th>\n",
       "      <td>8651.000000</td>\n",
       "      <td>8651.000000</td>\n",
       "      <td>8651.000000</td>\n",
       "      <td>8651.000000</td>\n",
       "      <td>8651.000000</td>\n",
       "      <td>8651.000000</td>\n",
       "    </tr>\n",
       "    <tr>\n",
       "      <th>mean</th>\n",
       "      <td>78.157207</td>\n",
       "      <td>109.707514</td>\n",
       "      <td>72.701024</td>\n",
       "      <td>172.540329</td>\n",
       "      <td>0.426073</td>\n",
       "      <td>0.248199</td>\n",
       "    </tr>\n",
       "    <tr>\n",
       "      <th>std</th>\n",
       "      <td>2.183443</td>\n",
       "      <td>80.292603</td>\n",
       "      <td>28.011763</td>\n",
       "      <td>2058.189240</td>\n",
       "      <td>0.082984</td>\n",
       "      <td>0.086834</td>\n",
       "    </tr>\n",
       "    <tr>\n",
       "      <th>min</th>\n",
       "      <td>75.000000</td>\n",
       "      <td>0.000000</td>\n",
       "      <td>7.729000</td>\n",
       "      <td>0.366200</td>\n",
       "      <td>0.060000</td>\n",
       "      <td>-0.217000</td>\n",
       "    </tr>\n",
       "    <tr>\n",
       "      <th>25%</th>\n",
       "      <td>76.000000</td>\n",
       "      <td>51.800000</td>\n",
       "      <td>52.079600</td>\n",
       "      <td>6.858950</td>\n",
       "      <td>0.380800</td>\n",
       "      <td>0.210275</td>\n",
       "    </tr>\n",
       "    <tr>\n",
       "      <th>50%</th>\n",
       "      <td>78.000000</td>\n",
       "      <td>90.400000</td>\n",
       "      <td>73.708000</td>\n",
       "      <td>22.316700</td>\n",
       "      <td>0.421600</td>\n",
       "      <td>0.256800</td>\n",
       "    </tr>\n",
       "    <tr>\n",
       "      <th>75%</th>\n",
       "      <td>80.000000</td>\n",
       "      <td>148.200000</td>\n",
       "      <td>96.285000</td>\n",
       "      <td>74.444000</td>\n",
       "      <td>0.477600</td>\n",
       "      <td>0.306600</td>\n",
       "    </tr>\n",
       "    <tr>\n",
       "      <th>max</th>\n",
       "      <td>83.000000</td>\n",
       "      <td>366.500000</td>\n",
       "      <td>212.895000</td>\n",
       "      <td>99960.828100</td>\n",
       "      <td>0.932800</td>\n",
       "      <td>0.454000</td>\n",
       "    </tr>\n",
       "  </tbody>\n",
       "</table>\n",
       "</div>"
      ],
      "text/plain": [
       "           well_ID        Depth           GR           ILD         NPHI  \\\n",
       "count  8651.000000  8651.000000  8651.000000   8651.000000  8651.000000   \n",
       "mean     78.157207   109.707514    72.701024    172.540329     0.426073   \n",
       "std       2.183443    80.292603    28.011763   2058.189240     0.082984   \n",
       "min      75.000000     0.000000     7.729000      0.366200     0.060000   \n",
       "25%      76.000000    51.800000    52.079600      6.858950     0.380800   \n",
       "50%      78.000000    90.400000    73.708000     22.316700     0.421600   \n",
       "75%      80.000000   148.200000    96.285000     74.444000     0.477600   \n",
       "max      83.000000   366.500000   212.895000  99960.828100     0.932800   \n",
       "\n",
       "              DPHI  \n",
       "count  8651.000000  \n",
       "mean      0.248199  \n",
       "std       0.086834  \n",
       "min      -0.217000  \n",
       "25%       0.210275  \n",
       "50%       0.256800  \n",
       "75%       0.306600  \n",
       "max       0.454000  "
      ]
     },
     "execution_count": 20,
     "metadata": {},
     "output_type": "execute_result"
    }
   ],
   "source": [
    "w_test.describe()"
   ]
  },
  {
   "cell_type": "code",
   "execution_count": 21,
   "metadata": {},
   "outputs": [],
   "source": [
    "w_test = w_test[w_test.DPHI > 0]"
   ]
  },
  {
   "cell_type": "code",
   "execution_count": 22,
   "metadata": {},
   "outputs": [],
   "source": [
    "w_test_complete = w_test_complete[w_test_complete.DPHI > 0]"
   ]
  },
  {
   "cell_type": "code",
   "execution_count": 23,
   "metadata": {},
   "outputs": [
    {
     "data": {
      "text/html": [
       "<div>\n",
       "<style scoped>\n",
       "    .dataframe tbody tr th:only-of-type {\n",
       "        vertical-align: middle;\n",
       "    }\n",
       "\n",
       "    .dataframe tbody tr th {\n",
       "        vertical-align: top;\n",
       "    }\n",
       "\n",
       "    .dataframe thead th {\n",
       "        text-align: right;\n",
       "    }\n",
       "</style>\n",
       "<table border=\"1\" class=\"dataframe\">\n",
       "  <thead>\n",
       "    <tr style=\"text-align: right;\">\n",
       "      <th></th>\n",
       "      <th>well_ID</th>\n",
       "      <th>Depth</th>\n",
       "      <th>GR</th>\n",
       "      <th>ILD</th>\n",
       "      <th>NPHI</th>\n",
       "      <th>DPHI</th>\n",
       "    </tr>\n",
       "  </thead>\n",
       "  <tbody>\n",
       "    <tr>\n",
       "      <th>count</th>\n",
       "      <td>8537.000000</td>\n",
       "      <td>8537.000000</td>\n",
       "      <td>8537.000000</td>\n",
       "      <td>8537.000000</td>\n",
       "      <td>8537.000000</td>\n",
       "      <td>8.537000e+03</td>\n",
       "    </tr>\n",
       "    <tr>\n",
       "      <th>mean</th>\n",
       "      <td>78.130257</td>\n",
       "      <td>110.791906</td>\n",
       "      <td>73.328576</td>\n",
       "      <td>174.769181</td>\n",
       "      <td>0.426032</td>\n",
       "      <td>2.527962e-01</td>\n",
       "    </tr>\n",
       "    <tr>\n",
       "      <th>std</th>\n",
       "      <td>2.181844</td>\n",
       "      <td>80.088485</td>\n",
       "      <td>27.609604</td>\n",
       "      <td>2071.795907</td>\n",
       "      <td>0.080438</td>\n",
       "      <td>7.734912e-02</td>\n",
       "    </tr>\n",
       "    <tr>\n",
       "      <th>min</th>\n",
       "      <td>75.000000</td>\n",
       "      <td>8.700000</td>\n",
       "      <td>8.133400</td>\n",
       "      <td>0.372800</td>\n",
       "      <td>0.105000</td>\n",
       "      <td>9.464429e-14</td>\n",
       "    </tr>\n",
       "    <tr>\n",
       "      <th>25%</th>\n",
       "      <td>76.000000</td>\n",
       "      <td>52.700000</td>\n",
       "      <td>53.027400</td>\n",
       "      <td>7.044200</td>\n",
       "      <td>0.380800</td>\n",
       "      <td>2.125000e-01</td>\n",
       "    </tr>\n",
       "    <tr>\n",
       "      <th>50%</th>\n",
       "      <td>78.000000</td>\n",
       "      <td>91.100000</td>\n",
       "      <td>74.169000</td>\n",
       "      <td>22.854100</td>\n",
       "      <td>0.421200</td>\n",
       "      <td>2.581000e-01</td>\n",
       "    </tr>\n",
       "    <tr>\n",
       "      <th>75%</th>\n",
       "      <td>80.000000</td>\n",
       "      <td>149.000000</td>\n",
       "      <td>96.487500</td>\n",
       "      <td>75.132900</td>\n",
       "      <td>0.476600</td>\n",
       "      <td>3.076000e-01</td>\n",
       "    </tr>\n",
       "    <tr>\n",
       "      <th>max</th>\n",
       "      <td>83.000000</td>\n",
       "      <td>366.500000</td>\n",
       "      <td>212.895000</td>\n",
       "      <td>99960.828100</td>\n",
       "      <td>0.738000</td>\n",
       "      <td>4.540000e-01</td>\n",
       "    </tr>\n",
       "  </tbody>\n",
       "</table>\n",
       "</div>"
      ],
      "text/plain": [
       "           well_ID        Depth           GR           ILD         NPHI  \\\n",
       "count  8537.000000  8537.000000  8537.000000   8537.000000  8537.000000   \n",
       "mean     78.130257   110.791906    73.328576    174.769181     0.426032   \n",
       "std       2.181844    80.088485    27.609604   2071.795907     0.080438   \n",
       "min      75.000000     8.700000     8.133400      0.372800     0.105000   \n",
       "25%      76.000000    52.700000    53.027400      7.044200     0.380800   \n",
       "50%      78.000000    91.100000    74.169000     22.854100     0.421200   \n",
       "75%      80.000000   149.000000    96.487500     75.132900     0.476600   \n",
       "max      83.000000   366.500000   212.895000  99960.828100     0.738000   \n",
       "\n",
       "               DPHI  \n",
       "count  8.537000e+03  \n",
       "mean   2.527962e-01  \n",
       "std    7.734912e-02  \n",
       "min    9.464429e-14  \n",
       "25%    2.125000e-01  \n",
       "50%    2.581000e-01  \n",
       "75%    3.076000e-01  \n",
       "max    4.540000e-01  "
      ]
     },
     "execution_count": 23,
     "metadata": {},
     "output_type": "execute_result"
    }
   ],
   "source": [
    "w_test.describe()"
   ]
  },
  {
   "cell_type": "markdown",
   "metadata": {},
   "source": [
    "Let's start testing our training pipeline with a subset of wells. We can come back to this and change the number of wells we include, to see how it affects the result."
   ]
  },
  {
   "cell_type": "code",
   "execution_count": 24,
   "metadata": {},
   "outputs": [],
   "source": [
    "w_train = w_train[w_train.well_ID < 25]"
   ]
  },
  {
   "cell_type": "code",
   "execution_count": 25,
   "metadata": {},
   "outputs": [],
   "source": [
    "# Make X and y\n",
    "X = w_train[['Depth','GR','ILD','NPHI']].as_matrix()\n",
    "y = w_train['RHOB'].values"
   ]
  },
  {
   "cell_type": "code",
   "execution_count": 26,
   "metadata": {},
   "outputs": [
    {
     "data": {
      "text/plain": [
       "(22953, 4)"
      ]
     },
     "execution_count": 26,
     "metadata": {},
     "output_type": "execute_result"
    }
   ],
   "source": [
    "X.shape"
   ]
  },
  {
   "cell_type": "markdown",
   "metadata": {},
   "source": [
    "Set up the testing matrix of features we want to use to predict the missing `RHOB`"
   ]
  },
  {
   "cell_type": "code",
   "execution_count": 27,
   "metadata": {},
   "outputs": [],
   "source": [
    "X_test = w_test[['Depth','GR','ILD','NPHI']].as_matrix()"
   ]
  },
  {
   "cell_type": "markdown",
   "metadata": {},
   "source": [
    "We will display the predicted vs. true results for a test well"
   ]
  },
  {
   "cell_type": "code",
   "execution_count": 28,
   "metadata": {},
   "outputs": [],
   "source": [
    "well_id = 81"
   ]
  },
  {
   "cell_type": "markdown",
   "metadata": {},
   "source": [
    "# Available scikit-learn models to choose from:\n",
    "\n",
    "http://scikit-learn.org/stable/supervised_learning.html"
   ]
  },
  {
   "cell_type": "markdown",
   "metadata": {},
   "source": [
    "# Linear Regression\n"
   ]
  },
  {
   "cell_type": "markdown",
   "metadata": {},
   "source": [
    "A first simple approach is to apply a linear model"
   ]
  },
  {
   "cell_type": "code",
   "execution_count": 29,
   "metadata": {
    "scrolled": false
   },
   "outputs": [
    {
     "data": {
      "text/plain": [
       "[<matplotlib.lines.Line2D at 0x7fe2251245c0>]"
      ]
     },
     "execution_count": 29,
     "metadata": {},
     "output_type": "execute_result"
    },
    {
     "data": {
      "image/png": "[encoded data removed]",
      "text/plain": [
       "<matplotlib.figure.Figure at 0x7fe2255d1dd8>"
      ]
     },
     "metadata": {},
     "output_type": "display_data"
    }
   ],
   "source": [
    "from sklearn import linear_model                \n",
    "\n",
    "# Create linear regression object\n",
    "regr = linear_model.LinearRegression()\n",
    "\n",
    "# Train the model using the training sets\n",
    "regr.fit(X,y)\n",
    "\n",
    "# Make predictions using the testing set\n",
    "y_test_LR = regr.predict(X_test)\n",
    "\n",
    "# add a new column to data frame that already exists\n",
    "w_test_complete['RHOB_pred_LinReg'] = y_test_LR\n",
    "\n",
    "my_well = w_test_complete[w_test_complete.well_ID==well_id]\n",
    "\n",
    "plt.figure(figsize=(3,10))\n",
    "plt.plot(my_well.RHOB, my_well.Depth, 'k')\n",
    "plt.plot(my_well.RHOB_pred_LinReg, my_well.Depth,'r')"
   ]
  },
  {
   "cell_type": "markdown",
   "metadata": {},
   "source": [
    "<div class=\"alert alert-success\">\n",
    "    <b>Exercise</b>:\n",
    "     <ul>\n",
    "      <li>\n",
    "      Complete the following code to test the different classifiers similar to the Linear Regression case\n",
    "      </li>\n",
    "      <p>\n",
    "    </ul>\n",
    "</div>"
   ]
  },
  {
   "cell_type": "markdown",
   "metadata": {},
   "source": [
    "\n",
    "# Decision Tree Regressor"
   ]
  },
  {
   "cell_type": "code",
   "execution_count": 30,
   "metadata": {},
   "outputs": [],
   "source": [
    "from sklearn import tree\n",
    "clf = tree.DecisionTreeRegressor()\n",
    "\n",
    "#--!\n",
    "clf = clf.fit(X, y)\n",
    "\n",
    "y_test_DTR = clf.predict(X_test)\n",
    "#--!"
   ]
  },
  {
   "cell_type": "code",
   "execution_count": 31,
   "metadata": {},
   "outputs": [
    {
     "data": {
      "text/plain": [
       "[<matplotlib.lines.Line2D at 0x7fe2251017b8>]"
      ]
     },
     "execution_count": 31,
     "metadata": {},
     "output_type": "execute_result"
    },
    {
     "data": {
      "image/png": "[encoded data removed]",
      "text/plain": [
       "<matplotlib.figure.Figure at 0x7fe228169ef0>"
      ]
     },
     "metadata": {},
     "output_type": "display_data"
    }
   ],
   "source": [
    "# add a new column to data frame that already exists and plot the results\n",
    "#!--\n",
    "w_test_complete['RHOB_pred_DTR'] = y_test_DTR\n",
    "w_test_complete.head()\n",
    "\n",
    "\n",
    "my_well = w_test_complete[w_test_complete.well_ID==well_id]\n",
    "\n",
    "plt.figure(figsize=(3,10))\n",
    "plt.plot(my_well.RHOB, my_well.Depth, 'k')\n",
    "plt.plot(my_well.RHOB_pred_DTR, my_well.Depth,'r')\n",
    "#--!"
   ]
  },
  {
   "cell_type": "markdown",
   "metadata": {},
   "source": [
    "# Nearest Neighbours"
   ]
  },
  {
   "cell_type": "code",
   "execution_count": 32,
   "metadata": {},
   "outputs": [],
   "source": [
    "from sklearn.neighbors import KNeighborsRegressor\n",
    "\n",
    "nbrs = KNeighborsRegressor()\n",
    "#!--\n",
    "nbrs.fit(X, y)\n",
    "y_test_KNN = nbrs.predict(X_test)\n",
    "#--!"
   ]
  },
  {
   "cell_type": "code",
   "execution_count": 33,
   "metadata": {},
   "outputs": [
    {
     "data": {
      "text/plain": [
       "[<matplotlib.lines.Line2D at 0x7fe224628630>]"
      ]
     },
     "execution_count": 33,
     "metadata": {},
     "output_type": "execute_result"
    },
    {
     "data": {
      "image/png": "[encoded data removed]",
      "text/plain": [
       "<matplotlib.figure.Figure at 0x7fe2250e3a90>"
      ]
     },
     "metadata": {},
     "output_type": "display_data"
    }
   ],
   "source": [
    "# add a new column to data frame that already exists and plot the results\n",
    "#!--\n",
    "w_test_complete['RHOB_pred_KNN'] = y_test_KNN\n",
    "\n",
    "my_well = w_test_complete[w_test_complete.well_ID==well_id]\n",
    "\n",
    "plt.figure(figsize=(3,10))\n",
    "plt.plot(my_well.RHOB, my_well.Depth, 'k')\n",
    "plt.plot(my_well.RHOB_pred_KNN, my_well.Depth,'r')\n",
    "#--!"
   ]
  },
  {
   "cell_type": "markdown",
   "metadata": {},
   "source": [
    "# Gradient Boosting Ensemble Regressor"
   ]
  },
  {
   "cell_type": "code",
   "execution_count": 34,
   "metadata": {},
   "outputs": [
    {
     "data": {
      "text/plain": [
       "[<matplotlib.lines.Line2D at 0x7fe2241190f0>]"
      ]
     },
     "execution_count": 34,
     "metadata": {},
     "output_type": "execute_result"
    },
    {
     "data": {
      "image/png": "[encoded data removed]",
      "text/plain": [
       "<matplotlib.figure.Figure at 0x7fe224628668>"
      ]
     },
     "metadata": {},
     "output_type": "display_data"
    }
   ],
   "source": [
    "import numpy as np\n",
    "from sklearn.metrics import mean_squared_error\n",
    "from sklearn.ensemble import GradientBoostingRegressor\n",
    "\n",
    "#!--\n",
    "est = GradientBoostingRegressor(n_estimators=100, learning_rate=0.05,\n",
    "    max_depth=5, random_state=0, loss='ls')\n",
    "\n",
    "est.fit(X, y)\n",
    "\n",
    "y_test_GBT = est.predict(X_test)\n",
    "w_test_complete['RHOB_pred_GBT'] = y_test_GBT\n",
    "\n",
    "my_well = w_test_complete[w_test_complete.well_ID==well_id]\n",
    "\n",
    "plt.figure(figsize=(3,10))\n",
    "plt.plot(my_well.RHOB, my_well.Depth, 'k')\n",
    "plt.plot(my_well.RHOB_pred_GBT, my_well.Depth,'r')\n",
    "#--!"
   ]
  },
  {
   "cell_type": "markdown",
   "metadata": {},
   "source": [
    "# Evaluation Metrics"
   ]
  },
  {
   "cell_type": "markdown",
   "metadata": {},
   "source": [
    "Although it's good to see how the plots look, a more generalized way to determine how good a model is at predicting data\n"
   ]
  },
  {
   "cell_type": "markdown",
   "metadata": {},
   "source": [
    "http://scikit-learn.org/stable/model_selection.html#model-selection"
   ]
  },
  {
   "cell_type": "markdown",
   "metadata": {},
   "source": [
    "\"Learning the parameters of a prediction function and testing it on the same data is a methodological mistake: a model that would just repeat the labels of the samples that it has just seen would have a perfect score but would fail to predict anything useful on yet-unseen data. This situation is called overfitting. To avoid it, it is common practice when performing a (supervised) machine learning experiment to hold out part of the available data as a test set X_test, y_test. Note that the word “experiment” is not intended to denote academic use only, because even in commercial settings machine learning usually starts out experimentally.\""
   ]
  },
  {
   "cell_type": "code",
   "execution_count": 35,
   "metadata": {},
   "outputs": [
    {
     "data": {
      "text/plain": [
       "array([-48788.32471017,  -9932.79745046,  -9889.01357345, -14445.05194102,\n",
       "        -8155.20504912])"
      ]
     },
     "execution_count": 35,
     "metadata": {},
     "output_type": "execute_result"
    }
   ],
   "source": [
    "from sklearn.model_selection import cross_val_score\n",
    "\n",
    "scores = cross_val_score(est, X_test, w_test_complete.RHOB, cv=5, scoring='neg_mean_squared_error')\n",
    "scores  "
   ]
  },
  {
   "cell_type": "markdown",
   "metadata": {},
   "source": [
    "## Regression metrics"
   ]
  },
  {
   "cell_type": "markdown",
   "metadata": {},
   "source": [
    "[TOP](#top)"
   ]
  },
  {
   "cell_type": "markdown",
   "metadata": {},
   "source": [
    "http://scikit-learn.org/stable/modules/model_evaluation.html#regression-metrics"
   ]
  },
  {
   "cell_type": "code",
   "execution_count": 36,
   "metadata": {},
   "outputs": [
    {
     "name": "stdout",
     "output_type": "stream",
     "text": [
      "-2.22316763092918\n",
      "-1.1037780696028485\n",
      "0.157931323838845\n"
     ]
    }
   ],
   "source": [
    "from sklearn.metrics import explained_variance_score\n",
    "print(explained_variance_score(my_well.RHOB, my_well.RHOB_pred_LinReg))  \n",
    "print(explained_variance_score(my_well.RHOB, my_well.RHOB_pred_DTR))\n",
    "print(explained_variance_score(my_well.RHOB, my_well.RHOB_pred_KNN))\n"
   ]
  },
  {
   "cell_type": "code",
   "execution_count": 37,
   "metadata": {},
   "outputs": [
    {
     "name": "stdout",
     "output_type": "stream",
     "text": [
      "52029.85435914759\n",
      "22815.466421389483\n",
      "12719.967630416686\n"
     ]
    }
   ],
   "source": [
    "from sklearn.metrics import mean_squared_error\n",
    "print(mean_squared_error(my_well.RHOB, my_well.RHOB_pred_LinReg))  \n",
    "print(mean_squared_error(my_well.RHOB, my_well.RHOB_pred_DTR))\n",
    "print(mean_squared_error(my_well.RHOB, my_well.RHOB_pred_KNN))"
   ]
  },
  {
   "cell_type": "markdown",
   "metadata": {},
   "source": [
    "# Feature Engineering"
   ]
  },
  {
   "cell_type": "markdown",
   "metadata": {},
   "source": [
    "What can we do to help our classifier?"
   ]
  },
  {
   "cell_type": "markdown",
   "metadata": {},
   "source": [
    "<div class=\"alert alert-success\">\n",
    "    <b>Exercise</b>:\n",
    "     <ul>\n",
    "      <li>\n",
    "      Create a function using `np.convolve` to smooth a log curve and return the smoothed version to add to the `DataFrame`\n",
    "      </li>\n",
    "      <p>\n",
    "    </ul>\n",
    "</div>"
   ]
  },
  {
   "cell_type": "code",
   "execution_count": 38,
   "metadata": {
    "tags": [
     "hide"
    ]
   },
   "outputs": [],
   "source": [
    "#!--\n",
    "def smooth(y, box_len=10):\n",
    "    box = np.ones(box_len)/box_len\n",
    "    y_smooth = np.convolve(y, box, mode='same')\n",
    "    return y_smooth\n",
    "#--!"
   ]
  },
  {
   "cell_type": "code",
   "execution_count": 39,
   "metadata": {
    "tags": [
     "hide"
    ]
   },
   "outputs": [
    {
     "data": {
      "text/plain": [
       "Index(['well_ID', 'Depth', 'GR', 'ILD', 'NPHI', 'DPHI', 'RHOB', 'log_ILD'], dtype='object')"
      ]
     },
     "execution_count": 39,
     "metadata": {},
     "output_type": "execute_result"
    }
   ],
   "source": [
    "w_train.columns"
   ]
  },
  {
   "cell_type": "code",
   "execution_count": 40,
   "metadata": {
    "tags": [
     "hide"
    ]
   },
   "outputs": [],
   "source": [
    "w_train[\"s_NPHI\"] = smooth(w_train[\"NPHI\"].values, box_len=50) "
   ]
  },
  {
   "cell_type": "code",
   "execution_count": 41,
   "metadata": {
    "tags": [
     "hide"
    ]
   },
   "outputs": [
    {
     "data": {
      "text/plain": [
       "array([ 0.,  1.,  2.,  3.,  4.,  5.,  6.,  7.,  8.,  9., 10., 11., 12.,\n",
       "       13., 14., 15., 16., 17., 18., 19., 20., 21., 22., 23., 24.])"
      ]
     },
     "execution_count": 41,
     "metadata": {},
     "output_type": "execute_result"
    }
   ],
   "source": [
    "w_train[\"well_ID\"].unique()"
   ]
  },
  {
   "cell_type": "code",
   "execution_count": 42,
   "metadata": {
    "tags": [
     "hide"
    ]
   },
   "outputs": [],
   "source": [
    "idx_test_well = 0"
   ]
  },
  {
   "cell_type": "code",
   "execution_count": 43,
   "metadata": {
    "tags": [
     "hide"
    ]
   },
   "outputs": [
    {
     "data": {
      "text/plain": [
       "[<matplotlib.lines.Line2D at 0x7fe2240d75c0>]"
      ]
     },
     "execution_count": 43,
     "metadata": {},
     "output_type": "execute_result"
    },
    {
     "data": {
      "image/png": "[encoded data removed]",
      "text/plain": [
       "<matplotlib.figure.Figure at 0x7fe2240f1f98>"
      ]
     },
     "metadata": {},
     "output_type": "display_data"
    }
   ],
   "source": [
    "plt.plot(w_train[w_train.well_ID == idx_test_well][\"NPHI\"])\n",
    "plt.plot(w_train[w_train.well_ID == idx_test_well][\"s_NPHI\"])"
   ]
  },
  {
   "cell_type": "code",
   "execution_count": 44,
   "metadata": {
    "tags": [
     "hide"
    ]
   },
   "outputs": [],
   "source": [
    "w_test[\"s_NPHI\"] = smooth(w_test[\"NPHI\"].values, box_len=50)\n",
    "X_test = w_test[['Depth','GR','ILD','NPHI','s_NPHI']].as_matrix()"
   ]
  },
  {
   "cell_type": "code",
   "execution_count": 45,
   "metadata": {},
   "outputs": [
    {
     "data": {
      "text/plain": [
       "[<matplotlib.lines.Line2D at 0x7fe2240a3048>]"
      ]
     },
     "execution_count": 45,
     "metadata": {},
     "output_type": "execute_result"
    },
    {
     "data": {
      "image/png": "[encoded data removed]",
      "text/plain": [
       "<matplotlib.figure.Figure at 0x7fe2245a6f28>"
      ]
     },
     "metadata": {},
     "output_type": "display_data"
    }
   ],
   "source": [
    "# s_NPHI will be the smoothed array!\n",
    "X = w_train[['Depth','GR','ILD','NPHI','s_NPHI']].as_matrix()\n",
    "\n",
    "#!--\n",
    "est = GradientBoostingRegressor(n_estimators=100, learning_rate=0.05,\n",
    "    max_depth=5, random_state=0, loss='ls')\n",
    "\n",
    "est.fit(X, y)\n",
    "\n",
    "y_test_GBT = est.predict(X_test)\n",
    "\n",
    "\n",
    "w_test_complete['RHOB_pred_GBT'] = y_test_GBT\n",
    "\n",
    "my_well = w_test_complete[w_test_complete.well_ID==well_id]\n",
    "\n",
    "plt.figure(figsize=(3,10))\n",
    "plt.plot(my_well.RHOB, my_well.Depth, 'k')\n",
    "plt.plot(my_well.RHOB_pred_GBT, my_well.Depth,'r')\n",
    "#--!"
   ]
  },
  {
   "cell_type": "code",
   "execution_count": 46,
   "metadata": {},
   "outputs": [
    {
     "name": "stdout",
     "output_type": "stream",
     "text": [
      "8305.108866119877\n"
     ]
    }
   ],
   "source": [
    "print(mean_squared_error(my_well.RHOB, my_well.RHOB_pred_GBT)) "
   ]
  },
  {
   "cell_type": "code",
   "execution_count": 47,
   "metadata": {},
   "outputs": [
    {
     "name": "stdout",
     "output_type": "stream",
     "text": [
      "8305.108866119877\n"
     ]
    }
   ],
   "source": [
    "from sklearn.metrics import mean_squared_error\n",
    "print(mean_squared_error(my_well.RHOB, my_well.RHOB_pred_GBT))  "
   ]
  },
  {
   "cell_type": "markdown",
   "metadata": {},
   "source": [
    "<hr />\n",
    "\n",
    "<p style=\"color:gray\">©2017 Agile Geoscience. Licensed CC-BY.</p>"
   ]
  }
 ],
 "metadata": {
  "anaconda-cloud": {},
  "kernelspec": {
   "display_name": "Python 3",
   "language": "python",
   "name": "python3"
  },
  "language_info": {
   "codemirror_mode": {
    "name": "ipython",
    "version": 3
   },
   "file_extension": ".py",
   "mimetype": "text/x-python",
   "name": "python",
   "nbconvert_exporter": "python",
   "pygments_lexer": "ipython3",
   "version": "3.5.4"
  }
 },
 "nbformat": 4,
 "nbformat_minor": 2
}
