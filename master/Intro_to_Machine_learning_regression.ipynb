{
 "cells": [
  {
   "cell_type": "markdown",
   "metadata": {},
   "source": [
    "<a id='top'></a>\n",
    "# Log completion by ML regression"
   ]
  },
  {
   "cell_type": "markdown",
   "metadata": {},
   "source": [
    "- Loading and cleaning data with Pandas\n",
    "    - Data exploration using Matplotlib\n",
    "    - Basic steps for data cleaning\n",
    "- Setup scikit-learn workflow\n",
    "    - Making X and y\n",
    "- Choosing a model\n",
    "    - Different options for Regression\n",
    "- Evaluating model performance\n",
    "    - Parameter selection and tuning\n"
   ]
  },
  {
   "cell_type": "markdown",
   "metadata": {},
   "source": [
    "## More Pandas\n",
    "---"
   ]
  },
  {
   "cell_type": "markdown",
   "metadata": {},
   "source": [
    "Load Numpy, Pandas and Matplotlib"
   ]
  },
  {
   "cell_type": "code",
   "execution_count": 1,
   "metadata": {},
   "outputs": [],
   "source": [
    "import numpy as np\n",
    "import pandas as pd\n",
    "import matplotlib.pyplot as plt\n",
    "\n",
    "% matplotlib inline"
   ]
  },
  {
   "cell_type": "markdown",
   "metadata": {},
   "source": [
    "Define the name of the file to be loaded and use Pandas to read it. Note that the name can be a PATH pointing at the file."
   ]
  },
  {
   "cell_type": "code",
   "execution_count": 4,
   "metadata": {},
   "outputs": [],
   "source": [
    "datafile = '../data/training_DataFrame.csv'"
   ]
  },
  {
   "cell_type": "markdown",
   "metadata": {},
   "source": [
    "Pandas expects by default a column on the file to be an index for each row of values. For this example, column 1 (index = 0) is that column."
   ]
  },
  {
   "cell_type": "code",
   "execution_count": 5,
   "metadata": {},
   "outputs": [],
   "source": [
    "wells = pd.read_csv(datafile, index_col=0)"
   ]
  },
  {
   "cell_type": "markdown",
   "metadata": {},
   "source": [
    "# Data Exploration and cleaning"
   ]
  },
  {
   "cell_type": "markdown",
   "metadata": {},
   "source": [
    "Before feeding our machines with data to learn from, it's important to make sure that we feed them the best possible data. Pandas has a few methods to explore the contents of the data. The `head()` method shows the top rows of the DataFrame."
   ]
  },
  {
   "cell_type": "code",
   "execution_count": 6,
   "metadata": {},
   "outputs": [
    {
     "data": {
      "text/html": [
       "<div>\n",
       "<style scoped>\n",
       "    .dataframe tbody tr th:only-of-type {\n",
       "        vertical-align: middle;\n",
       "    }\n",
       "\n",
       "    .dataframe tbody tr th {\n",
       "        vertical-align: top;\n",
       "    }\n",
       "\n",
       "    .dataframe thead th {\n",
       "        text-align: right;\n",
       "    }\n",
       "</style>\n",
       "<table border=\"1\" class=\"dataframe\">\n",
       "  <thead>\n",
       "    <tr style=\"text-align: right;\">\n",
       "      <th></th>\n",
       "      <th>well_ID</th>\n",
       "      <th>Depth</th>\n",
       "      <th>GR</th>\n",
       "      <th>ILD</th>\n",
       "      <th>NPHI</th>\n",
       "      <th>DPHI</th>\n",
       "      <th>RHOB</th>\n",
       "    </tr>\n",
       "  </thead>\n",
       "  <tbody>\n",
       "    <tr>\n",
       "      <th>0</th>\n",
       "      <td>0.0</td>\n",
       "      <td>140.0</td>\n",
       "      <td>102.0230</td>\n",
       "      <td>2.9910</td>\n",
       "      <td>0.5520</td>\n",
       "      <td>0.246</td>\n",
       "      <td>0.0</td>\n",
       "    </tr>\n",
       "    <tr>\n",
       "      <th>1</th>\n",
       "      <td>0.0</td>\n",
       "      <td>140.1</td>\n",
       "      <td>100.8074</td>\n",
       "      <td>3.0134</td>\n",
       "      <td>0.5596</td>\n",
       "      <td>0.258</td>\n",
       "      <td>0.0</td>\n",
       "    </tr>\n",
       "    <tr>\n",
       "      <th>2</th>\n",
       "      <td>0.0</td>\n",
       "      <td>140.2</td>\n",
       "      <td>99.5918</td>\n",
       "      <td>3.0358</td>\n",
       "      <td>0.5672</td>\n",
       "      <td>0.270</td>\n",
       "      <td>0.0</td>\n",
       "    </tr>\n",
       "    <tr>\n",
       "      <th>3</th>\n",
       "      <td>0.0</td>\n",
       "      <td>140.3</td>\n",
       "      <td>98.8622</td>\n",
       "      <td>3.0470</td>\n",
       "      <td>0.5686</td>\n",
       "      <td>0.274</td>\n",
       "      <td>0.0</td>\n",
       "    </tr>\n",
       "    <tr>\n",
       "      <th>4</th>\n",
       "      <td>0.0</td>\n",
       "      <td>140.4</td>\n",
       "      <td>98.6186</td>\n",
       "      <td>3.0470</td>\n",
       "      <td>0.5638</td>\n",
       "      <td>0.270</td>\n",
       "      <td>0.0</td>\n",
       "    </tr>\n",
       "  </tbody>\n",
       "</table>\n",
       "</div>"
      ],
      "text/plain": [
       "   well_ID  Depth        GR     ILD    NPHI   DPHI  RHOB\n",
       "0      0.0  140.0  102.0230  2.9910  0.5520  0.246   0.0\n",
       "1      0.0  140.1  100.8074  3.0134  0.5596  0.258   0.0\n",
       "2      0.0  140.2   99.5918  3.0358  0.5672  0.270   0.0\n",
       "3      0.0  140.3   98.8622  3.0470  0.5686  0.274   0.0\n",
       "4      0.0  140.4   98.6186  3.0470  0.5638  0.270   0.0"
      ]
     },
     "execution_count": 6,
     "metadata": {},
     "output_type": "execute_result"
    }
   ],
   "source": [
    "wells.head()"
   ]
  },
  {
   "cell_type": "markdown",
   "metadata": {},
   "source": [
    "Another useful Pandas method is `describe()`, which compile useful statistics of each numeric column in the `DataFrame`. "
   ]
  },
  {
   "cell_type": "code",
   "execution_count": 7,
   "metadata": {},
   "outputs": [
    {
     "data": {
      "text/html": [
       "<div>\n",
       "<style scoped>\n",
       "    .dataframe tbody tr th:only-of-type {\n",
       "        vertical-align: middle;\n",
       "    }\n",
       "\n",
       "    .dataframe tbody tr th {\n",
       "        vertical-align: top;\n",
       "    }\n",
       "\n",
       "    .dataframe thead th {\n",
       "        text-align: right;\n",
       "    }\n",
       "</style>\n",
       "<table border=\"1\" class=\"dataframe\">\n",
       "  <thead>\n",
       "    <tr style=\"text-align: right;\">\n",
       "      <th></th>\n",
       "      <th>well_ID</th>\n",
       "      <th>Depth</th>\n",
       "      <th>GR</th>\n",
       "      <th>ILD</th>\n",
       "      <th>NPHI</th>\n",
       "      <th>DPHI</th>\n",
       "      <th>RHOB</th>\n",
       "    </tr>\n",
       "  </thead>\n",
       "  <tbody>\n",
       "    <tr>\n",
       "      <th>count</th>\n",
       "      <td>164041.000000</td>\n",
       "      <td>164041.000000</td>\n",
       "      <td>162842.000000</td>\n",
       "      <td>163558.000000</td>\n",
       "      <td>162830.000000</td>\n",
       "      <td>163078.000000</td>\n",
       "      <td>162768.000000</td>\n",
       "    </tr>\n",
       "    <tr>\n",
       "      <th>mean</th>\n",
       "      <td>35.084095</td>\n",
       "      <td>281.776399</td>\n",
       "      <td>75.893516</td>\n",
       "      <td>36.998366</td>\n",
       "      <td>0.421645</td>\n",
       "      <td>0.262834</td>\n",
       "      <td>958.301220</td>\n",
       "    </tr>\n",
       "    <tr>\n",
       "      <th>std</th>\n",
       "      <td>21.494848</td>\n",
       "      <td>114.089130</td>\n",
       "      <td>25.934663</td>\n",
       "      <td>891.198299</td>\n",
       "      <td>0.086738</td>\n",
       "      <td>0.088723</td>\n",
       "      <td>1120.852391</td>\n",
       "    </tr>\n",
       "    <tr>\n",
       "      <th>min</th>\n",
       "      <td>0.000000</td>\n",
       "      <td>0.000000</td>\n",
       "      <td>0.000000</td>\n",
       "      <td>-0.496000</td>\n",
       "      <td>-0.002000</td>\n",
       "      <td>-0.239000</td>\n",
       "      <td>-245.448000</td>\n",
       "    </tr>\n",
       "    <tr>\n",
       "      <th>25%</th>\n",
       "      <td>17.000000</td>\n",
       "      <td>201.500000</td>\n",
       "      <td>57.308050</td>\n",
       "      <td>5.045000</td>\n",
       "      <td>0.379800</td>\n",
       "      <td>0.227800</td>\n",
       "      <td>0.000000</td>\n",
       "    </tr>\n",
       "    <tr>\n",
       "      <th>50%</th>\n",
       "      <td>34.000000</td>\n",
       "      <td>289.300000</td>\n",
       "      <td>78.559000</td>\n",
       "      <td>8.367000</td>\n",
       "      <td>0.428200</td>\n",
       "      <td>0.267800</td>\n",
       "      <td>0.000000</td>\n",
       "    </tr>\n",
       "    <tr>\n",
       "      <th>75%</th>\n",
       "      <td>52.000000</td>\n",
       "      <td>363.100000</td>\n",
       "      <td>95.130000</td>\n",
       "      <td>16.407200</td>\n",
       "      <td>0.473800</td>\n",
       "      <td>0.309400</td>\n",
       "      <td>2226.820000</td>\n",
       "    </tr>\n",
       "    <tr>\n",
       "      <th>max</th>\n",
       "      <td>74.000000</td>\n",
       "      <td>615.000000</td>\n",
       "      <td>290.759000</td>\n",
       "      <td>100000.000000</td>\n",
       "      <td>0.722200</td>\n",
       "      <td>1.606000</td>\n",
       "      <td>3043.610000</td>\n",
       "    </tr>\n",
       "  </tbody>\n",
       "</table>\n",
       "</div>"
      ],
      "text/plain": [
       "             well_ID          Depth             GR            ILD  \\\n",
       "count  164041.000000  164041.000000  162842.000000  163558.000000   \n",
       "mean       35.084095     281.776399      75.893516      36.998366   \n",
       "std        21.494848     114.089130      25.934663     891.198299   \n",
       "min         0.000000       0.000000       0.000000      -0.496000   \n",
       "25%        17.000000     201.500000      57.308050       5.045000   \n",
       "50%        34.000000     289.300000      78.559000       8.367000   \n",
       "75%        52.000000     363.100000      95.130000      16.407200   \n",
       "max        74.000000     615.000000     290.759000  100000.000000   \n",
       "\n",
       "                NPHI           DPHI           RHOB  \n",
       "count  162830.000000  163078.000000  162768.000000  \n",
       "mean        0.421645       0.262834     958.301220  \n",
       "std         0.086738       0.088723    1120.852391  \n",
       "min        -0.002000      -0.239000    -245.448000  \n",
       "25%         0.379800       0.227800       0.000000  \n",
       "50%         0.428200       0.267800       0.000000  \n",
       "75%         0.473800       0.309400    2226.820000  \n",
       "max         0.722200       1.606000    3043.610000  "
      ]
     },
     "execution_count": 7,
     "metadata": {},
     "output_type": "execute_result"
    }
   ],
   "source": [
    "wells.describe()"
   ]
  },
  {
   "cell_type": "markdown",
   "metadata": {},
   "source": [
    "Note how the `count` row is not the same for all columns? This means that there are some values that Pandas doesn't think they are numbers! (Could be missing values or `NaN`s). There are many strategies to deal with missing data but for this excercise we're just going to ignore the rows that contain these bad values."
   ]
  },
  {
   "cell_type": "code",
   "execution_count": 8,
   "metadata": {},
   "outputs": [],
   "source": [
    "wells = wells.dropna()"
   ]
  },
  {
   "cell_type": "code",
   "execution_count": 9,
   "metadata": {},
   "outputs": [
    {
     "data": {
      "text/html": [
       "<div>\n",
       "<style scoped>\n",
       "    .dataframe tbody tr th:only-of-type {\n",
       "        vertical-align: middle;\n",
       "    }\n",
       "\n",
       "    .dataframe tbody tr th {\n",
       "        vertical-align: top;\n",
       "    }\n",
       "\n",
       "    .dataframe thead th {\n",
       "        text-align: right;\n",
       "    }\n",
       "</style>\n",
       "<table border=\"1\" class=\"dataframe\">\n",
       "  <thead>\n",
       "    <tr style=\"text-align: right;\">\n",
       "      <th></th>\n",
       "      <th>well_ID</th>\n",
       "      <th>Depth</th>\n",
       "      <th>GR</th>\n",
       "      <th>ILD</th>\n",
       "      <th>NPHI</th>\n",
       "      <th>DPHI</th>\n",
       "      <th>RHOB</th>\n",
       "    </tr>\n",
       "  </thead>\n",
       "  <tbody>\n",
       "    <tr>\n",
       "      <th>count</th>\n",
       "      <td>162353.000000</td>\n",
       "      <td>162353.000000</td>\n",
       "      <td>162353.000000</td>\n",
       "      <td>162353.00000</td>\n",
       "      <td>162353.000000</td>\n",
       "      <td>162353.000000</td>\n",
       "      <td>162353.000000</td>\n",
       "    </tr>\n",
       "    <tr>\n",
       "      <th>mean</th>\n",
       "      <td>34.837558</td>\n",
       "      <td>283.862341</td>\n",
       "      <td>76.008393</td>\n",
       "      <td>36.33629</td>\n",
       "      <td>0.422174</td>\n",
       "      <td>0.263171</td>\n",
       "      <td>954.130772</td>\n",
       "    </tr>\n",
       "    <tr>\n",
       "      <th>std</th>\n",
       "      <td>21.461413</td>\n",
       "      <td>112.579670</td>\n",
       "      <td>25.875123</td>\n",
       "      <td>893.74899</td>\n",
       "      <td>0.086146</td>\n",
       "      <td>0.088163</td>\n",
       "      <td>1119.205970</td>\n",
       "    </tr>\n",
       "    <tr>\n",
       "      <th>min</th>\n",
       "      <td>0.000000</td>\n",
       "      <td>0.000000</td>\n",
       "      <td>0.000000</td>\n",
       "      <td>-0.49600</td>\n",
       "      <td>-0.002000</td>\n",
       "      <td>-0.239000</td>\n",
       "      <td>-245.448000</td>\n",
       "    </tr>\n",
       "    <tr>\n",
       "      <th>25%</th>\n",
       "      <td>16.000000</td>\n",
       "      <td>204.900000</td>\n",
       "      <td>57.480800</td>\n",
       "      <td>5.03960</td>\n",
       "      <td>0.380000</td>\n",
       "      <td>0.228000</td>\n",
       "      <td>0.000000</td>\n",
       "    </tr>\n",
       "    <tr>\n",
       "      <th>50%</th>\n",
       "      <td>34.000000</td>\n",
       "      <td>290.700000</td>\n",
       "      <td>78.667800</td>\n",
       "      <td>8.34660</td>\n",
       "      <td>0.428400</td>\n",
       "      <td>0.268000</td>\n",
       "      <td>0.000000</td>\n",
       "    </tr>\n",
       "    <tr>\n",
       "      <th>75%</th>\n",
       "      <td>52.000000</td>\n",
       "      <td>364.000000</td>\n",
       "      <td>95.174000</td>\n",
       "      <td>16.34400</td>\n",
       "      <td>0.474000</td>\n",
       "      <td>0.309400</td>\n",
       "      <td>2225.626000</td>\n",
       "    </tr>\n",
       "    <tr>\n",
       "      <th>max</th>\n",
       "      <td>74.000000</td>\n",
       "      <td>614.900000</td>\n",
       "      <td>290.759000</td>\n",
       "      <td>100000.00000</td>\n",
       "      <td>0.722200</td>\n",
       "      <td>1.606000</td>\n",
       "      <td>3043.610000</td>\n",
       "    </tr>\n",
       "  </tbody>\n",
       "</table>\n",
       "</div>"
      ],
      "text/plain": [
       "             well_ID          Depth             GR           ILD  \\\n",
       "count  162353.000000  162353.000000  162353.000000  162353.00000   \n",
       "mean       34.837558     283.862341      76.008393      36.33629   \n",
       "std        21.461413     112.579670      25.875123     893.74899   \n",
       "min         0.000000       0.000000       0.000000      -0.49600   \n",
       "25%        16.000000     204.900000      57.480800       5.03960   \n",
       "50%        34.000000     290.700000      78.667800       8.34660   \n",
       "75%        52.000000     364.000000      95.174000      16.34400   \n",
       "max        74.000000     614.900000     290.759000  100000.00000   \n",
       "\n",
       "                NPHI           DPHI           RHOB  \n",
       "count  162353.000000  162353.000000  162353.000000  \n",
       "mean        0.422174       0.263171     954.130772  \n",
       "std         0.086146       0.088163    1119.205970  \n",
       "min        -0.002000      -0.239000    -245.448000  \n",
       "25%         0.380000       0.228000       0.000000  \n",
       "50%         0.428400       0.268000       0.000000  \n",
       "75%         0.474000       0.309400    2225.626000  \n",
       "max         0.722200       1.606000    3043.610000  "
      ]
     },
     "execution_count": 9,
     "metadata": {},
     "output_type": "execute_result"
    }
   ],
   "source": [
    "wells.describe()"
   ]
  },
  {
   "cell_type": "markdown",
   "metadata": {},
   "source": [
    "Now every column in the `DataFrame` should contain the same number of elements and now we can focus on the statistics themselves. Look at each log property, do those `mean`, `min` and `max` look OK? `ILD` shouldn't have negative values. Let's take them out of our set:"
   ]
  },
  {
   "cell_type": "code",
   "execution_count": null,
   "metadata": {},
   "outputs": [],
   "source": []
  },
  {
   "cell_type": "code",
   "execution_count": 11,
   "metadata": {},
   "outputs": [
    {
     "data": {
      "text/html": [
       "<div>\n",
       "<style scoped>\n",
       "    .dataframe tbody tr th:only-of-type {\n",
       "        vertical-align: middle;\n",
       "    }\n",
       "\n",
       "    .dataframe tbody tr th {\n",
       "        vertical-align: top;\n",
       "    }\n",
       "\n",
       "    .dataframe thead th {\n",
       "        text-align: right;\n",
       "    }\n",
       "</style>\n",
       "<table border=\"1\" class=\"dataframe\">\n",
       "  <thead>\n",
       "    <tr style=\"text-align: right;\">\n",
       "      <th></th>\n",
       "      <th>well_ID</th>\n",
       "      <th>Depth</th>\n",
       "      <th>GR</th>\n",
       "      <th>ILD</th>\n",
       "      <th>NPHI</th>\n",
       "      <th>DPHI</th>\n",
       "      <th>RHOB</th>\n",
       "    </tr>\n",
       "  </thead>\n",
       "  <tbody>\n",
       "    <tr>\n",
       "      <th>count</th>\n",
       "      <td>162353.000000</td>\n",
       "      <td>162353.000000</td>\n",
       "      <td>162353.000000</td>\n",
       "      <td>162353.00000</td>\n",
       "      <td>162353.000000</td>\n",
       "      <td>162353.000000</td>\n",
       "      <td>162353.000000</td>\n",
       "    </tr>\n",
       "    <tr>\n",
       "      <th>mean</th>\n",
       "      <td>34.837558</td>\n",
       "      <td>283.862341</td>\n",
       "      <td>76.008393</td>\n",
       "      <td>36.33629</td>\n",
       "      <td>0.422174</td>\n",
       "      <td>0.263171</td>\n",
       "      <td>954.130772</td>\n",
       "    </tr>\n",
       "    <tr>\n",
       "      <th>std</th>\n",
       "      <td>21.461413</td>\n",
       "      <td>112.579670</td>\n",
       "      <td>25.875123</td>\n",
       "      <td>893.74899</td>\n",
       "      <td>0.086146</td>\n",
       "      <td>0.088163</td>\n",
       "      <td>1119.205970</td>\n",
       "    </tr>\n",
       "    <tr>\n",
       "      <th>min</th>\n",
       "      <td>0.000000</td>\n",
       "      <td>0.000000</td>\n",
       "      <td>0.000000</td>\n",
       "      <td>-0.49600</td>\n",
       "      <td>-0.002000</td>\n",
       "      <td>-0.239000</td>\n",
       "      <td>-245.448000</td>\n",
       "    </tr>\n",
       "    <tr>\n",
       "      <th>25%</th>\n",
       "      <td>16.000000</td>\n",
       "      <td>204.900000</td>\n",
       "      <td>57.480800</td>\n",
       "      <td>5.03960</td>\n",
       "      <td>0.380000</td>\n",
       "      <td>0.228000</td>\n",
       "      <td>0.000000</td>\n",
       "    </tr>\n",
       "    <tr>\n",
       "      <th>50%</th>\n",
       "      <td>34.000000</td>\n",
       "      <td>290.700000</td>\n",
       "      <td>78.667800</td>\n",
       "      <td>8.34660</td>\n",
       "      <td>0.428400</td>\n",
       "      <td>0.268000</td>\n",
       "      <td>0.000000</td>\n",
       "    </tr>\n",
       "    <tr>\n",
       "      <th>75%</th>\n",
       "      <td>52.000000</td>\n",
       "      <td>364.000000</td>\n",
       "      <td>95.174000</td>\n",
       "      <td>16.34400</td>\n",
       "      <td>0.474000</td>\n",
       "      <td>0.309400</td>\n",
       "      <td>2225.626000</td>\n",
       "    </tr>\n",
       "    <tr>\n",
       "      <th>max</th>\n",
       "      <td>74.000000</td>\n",
       "      <td>614.900000</td>\n",
       "      <td>290.759000</td>\n",
       "      <td>100000.00000</td>\n",
       "      <td>0.722200</td>\n",
       "      <td>1.606000</td>\n",
       "      <td>3043.610000</td>\n",
       "    </tr>\n",
       "  </tbody>\n",
       "</table>\n",
       "</div>"
      ],
      "text/plain": [
       "             well_ID          Depth             GR           ILD  \\\n",
       "count  162353.000000  162353.000000  162353.000000  162353.00000   \n",
       "mean       34.837558     283.862341      76.008393      36.33629   \n",
       "std        21.461413     112.579670      25.875123     893.74899   \n",
       "min         0.000000       0.000000       0.000000      -0.49600   \n",
       "25%        16.000000     204.900000      57.480800       5.03960   \n",
       "50%        34.000000     290.700000      78.667800       8.34660   \n",
       "75%        52.000000     364.000000      95.174000      16.34400   \n",
       "max        74.000000     614.900000     290.759000  100000.00000   \n",
       "\n",
       "                NPHI           DPHI           RHOB  \n",
       "count  162353.000000  162353.000000  162353.000000  \n",
       "mean        0.422174       0.263171     954.130772  \n",
       "std         0.086146       0.088163    1119.205970  \n",
       "min        -0.002000      -0.239000    -245.448000  \n",
       "25%         0.380000       0.228000       0.000000  \n",
       "50%         0.428400       0.268000       0.000000  \n",
       "75%         0.474000       0.309400    2225.626000  \n",
       "max         0.722200       1.606000    3043.610000  "
      ]
     },
     "execution_count": 11,
     "metadata": {},
     "output_type": "execute_result"
    }
   ],
   "source": [
    "wells.describe()"
   ]
  },
  {
   "cell_type": "markdown",
   "metadata": {},
   "source": [
    "Another typical first approach to explore the data is to study the distribution of values in the dataset..."
   ]
  },
  {
   "cell_type": "code",
   "execution_count": 12,
   "metadata": {},
   "outputs": [
    {
     "data": {
      "image/png": "[encoded data removed]",
      "text/plain": [
       "<matplotlib.figure.Figure at 0x7f8d522ba4e0>"
      ]
     },
     "metadata": {},
     "output_type": "display_data"
    }
   ],
   "source": [
    "ax = wells.hist(column=\"RHOB\", figsize=(8,6), bins=20)"
   ]
  },
  {
   "cell_type": "markdown",
   "metadata": {},
   "source": [
    "<div class=\"alert alert-success\">\n",
    "    <b>Exercise</b>:\n",
    "     <ul>\n",
    "      <li>\n",
    "      That distribution doesn't seem right. Can you exclude the `DataFrame` values for which `RHOB` is higher than `1800`?\n",
    "      </li>\n",
    "      <p>\n",
    "    </ul>\n",
    "</div>"
   ]
  },
  {
   "cell_type": "code",
   "execution_count": 9,
   "metadata": {},
   "outputs": [],
   "source": [
    "# Put your code here\n"
   ]
  },
  {
   "cell_type": "markdown",
   "metadata": {},
   "source": [
    "<div class=\"alert alert-success\">\n",
    "    <b>Exercise</b>:\n",
    "     <ul>\n",
    "      <li>\n",
    "      Explore the rest of the `DataFrame`. Do all distributions look OK?\n",
    "      </li>\n",
    "      <p>\n",
    "    </ul>\n",
    "</div>"
   ]
  },
  {
   "cell_type": "markdown",
   "metadata": {},
   "source": [
    "Seaborn has a few tricks to display histograms better"
   ]
  },
  {
   "cell_type": "code",
   "execution_count": 13,
   "metadata": {},
   "outputs": [],
   "source": [
    "import seaborn as sns"
   ]
  },
  {
   "cell_type": "code",
   "execution_count": 18,
   "metadata": {},
   "outputs": [
    {
     "data": {
      "text/plain": [
       "array([ 2.991 ,  3.0134,  3.0358, ..., 62.649 , 66.087 , 69.525 ])"
      ]
     },
     "execution_count": 18,
     "metadata": {},
     "output_type": "execute_result"
    }
   ],
   "source": [
    "wells.ILD.values"
   ]
  },
  {
   "cell_type": "code",
   "execution_count": 17,
   "metadata": {},
   "outputs": [
    {
     "name": "stderr",
     "output_type": "stream",
     "text": [
      "/home/castaned/anaconda3/envs/geo_course/lib/python3.6/site-packages/ipykernel_launcher.py:1: RuntimeWarning: divide by zero encountered in log\n",
      "  \"\"\"Entry point for launching an IPython kernel.\n",
      "/home/castaned/anaconda3/envs/geo_course/lib/python3.6/site-packages/ipykernel_launcher.py:1: RuntimeWarning: invalid value encountered in log\n",
      "  \"\"\"Entry point for launching an IPython kernel.\n"
     ]
    },
    {
     "ename": "ValueError",
     "evalue": "cannot convert float NaN to integer",
     "output_type": "error",
     "traceback": [
      "\u001b[0;31m---------------------------------------------------------------------------\u001b[0m",
      "\u001b[0;31mValueError\u001b[0m                                Traceback (most recent call last)",
      "\u001b[0;32m<ipython-input-17-6e90413dfc91>\u001b[0m in \u001b[0;36m<module>\u001b[0;34m()\u001b[0m\n\u001b[0;32m----> 1\u001b[0;31m \u001b[0msns\u001b[0m\u001b[0;34m.\u001b[0m\u001b[0mdistplot\u001b[0m\u001b[0;34m(\u001b[0m\u001b[0mnp\u001b[0m\u001b[0;34m.\u001b[0m\u001b[0mlog\u001b[0m\u001b[0;34m(\u001b[0m\u001b[0mwells\u001b[0m\u001b[0;34m[\u001b[0m\u001b[0;34m'ILD'\u001b[0m\u001b[0;34m]\u001b[0m\u001b[0;34m)\u001b[0m\u001b[0;34m)\u001b[0m\u001b[0;34m\u001b[0m\u001b[0m\n\u001b[0m",
      "\u001b[0;32m~/anaconda3/envs/geo_course/lib/python3.6/site-packages/seaborn/distributions.py\u001b[0m in \u001b[0;36mdistplot\u001b[0;34m(a, bins, hist, kde, rug, fit, hist_kws, kde_kws, rug_kws, fit_kws, color, vertical, norm_hist, axlabel, label, ax)\u001b[0m\n\u001b[1;32m    210\u001b[0m     \u001b[0;32mif\u001b[0m \u001b[0mhist\u001b[0m\u001b[0;34m:\u001b[0m\u001b[0;34m\u001b[0m\u001b[0m\n\u001b[1;32m    211\u001b[0m         \u001b[0;32mif\u001b[0m \u001b[0mbins\u001b[0m \u001b[0;32mis\u001b[0m \u001b[0;32mNone\u001b[0m\u001b[0;34m:\u001b[0m\u001b[0;34m\u001b[0m\u001b[0m\n\u001b[0;32m--> 212\u001b[0;31m             \u001b[0mbins\u001b[0m \u001b[0;34m=\u001b[0m \u001b[0mmin\u001b[0m\u001b[0;34m(\u001b[0m\u001b[0m_freedman_diaconis_bins\u001b[0m\u001b[0;34m(\u001b[0m\u001b[0ma\u001b[0m\u001b[0;34m)\u001b[0m\u001b[0;34m,\u001b[0m \u001b[0;36m50\u001b[0m\u001b[0;34m)\u001b[0m\u001b[0;34m\u001b[0m\u001b[0m\n\u001b[0m\u001b[1;32m    213\u001b[0m         \u001b[0mhist_kws\u001b[0m\u001b[0;34m.\u001b[0m\u001b[0msetdefault\u001b[0m\u001b[0;34m(\u001b[0m\u001b[0;34m\"alpha\"\u001b[0m\u001b[0;34m,\u001b[0m \u001b[0;36m0.4\u001b[0m\u001b[0;34m)\u001b[0m\u001b[0;34m\u001b[0m\u001b[0m\n\u001b[1;32m    214\u001b[0m         \u001b[0mhist_kws\u001b[0m\u001b[0;34m.\u001b[0m\u001b[0msetdefault\u001b[0m\u001b[0;34m(\u001b[0m\u001b[0;34m\"normed\"\u001b[0m\u001b[0;34m,\u001b[0m \u001b[0mnorm_hist\u001b[0m\u001b[0;34m)\u001b[0m\u001b[0;34m\u001b[0m\u001b[0m\n",
      "\u001b[0;32m~/anaconda3/envs/geo_course/lib/python3.6/site-packages/seaborn/distributions.py\u001b[0m in \u001b[0;36m_freedman_diaconis_bins\u001b[0;34m(a)\u001b[0m\n\u001b[1;32m     34\u001b[0m         \u001b[0;32mreturn\u001b[0m \u001b[0mint\u001b[0m\u001b[0;34m(\u001b[0m\u001b[0mnp\u001b[0m\u001b[0;34m.\u001b[0m\u001b[0msqrt\u001b[0m\u001b[0;34m(\u001b[0m\u001b[0ma\u001b[0m\u001b[0;34m.\u001b[0m\u001b[0msize\u001b[0m\u001b[0;34m)\u001b[0m\u001b[0;34m)\u001b[0m\u001b[0;34m\u001b[0m\u001b[0m\n\u001b[1;32m     35\u001b[0m     \u001b[0;32melse\u001b[0m\u001b[0;34m:\u001b[0m\u001b[0;34m\u001b[0m\u001b[0m\n\u001b[0;32m---> 36\u001b[0;31m         \u001b[0;32mreturn\u001b[0m \u001b[0mint\u001b[0m\u001b[0;34m(\u001b[0m\u001b[0mnp\u001b[0m\u001b[0;34m.\u001b[0m\u001b[0mceil\u001b[0m\u001b[0;34m(\u001b[0m\u001b[0;34m(\u001b[0m\u001b[0ma\u001b[0m\u001b[0;34m.\u001b[0m\u001b[0mmax\u001b[0m\u001b[0;34m(\u001b[0m\u001b[0;34m)\u001b[0m \u001b[0;34m-\u001b[0m \u001b[0ma\u001b[0m\u001b[0;34m.\u001b[0m\u001b[0mmin\u001b[0m\u001b[0;34m(\u001b[0m\u001b[0;34m)\u001b[0m\u001b[0;34m)\u001b[0m \u001b[0;34m/\u001b[0m \u001b[0mh\u001b[0m\u001b[0;34m)\u001b[0m\u001b[0;34m)\u001b[0m\u001b[0;34m\u001b[0m\u001b[0m\n\u001b[0m\u001b[1;32m     37\u001b[0m \u001b[0;34m\u001b[0m\u001b[0m\n\u001b[1;32m     38\u001b[0m \u001b[0;34m\u001b[0m\u001b[0m\n",
      "\u001b[0;31mValueError\u001b[0m: cannot convert float NaN to integer"
     ]
    },
    {
     "data": {
      "image/png": "[encoded data removed]",
      "text/plain": [
       "<matplotlib.figure.Figure at 0x7f2c14911b00>"
      ]
     },
     "metadata": {},
     "output_type": "display_data"
    }
   ],
   "source": [
    "sns.distplot(wells['ILD'])"
   ]
  },
  {
   "cell_type": "code",
   "execution_count": null,
   "metadata": {},
   "outputs": [],
   "source": [
    "# Put your code here\n",
    "wells['log_ILD'] = np.log10(wells['ILD'])\n",
    "axs = wells['log_ILD'].hist(bins=20)"
   ]
  },
  {
   "cell_type": "code",
   "execution_count": null,
   "metadata": {},
   "outputs": [],
   "source": [
    "wells = wells[wells.DPHI > 0]"
   ]
  },
  {
   "cell_type": "code",
   "execution_count": null,
   "metadata": {},
   "outputs": [],
   "source": [
    "sns.distplot(wells.DPHI)"
   ]
  },
  {
   "cell_type": "markdown",
   "metadata": {},
   "source": [
    "# Load testing data"
   ]
  },
  {
   "cell_type": "code",
   "execution_count": 14,
   "metadata": {},
   "outputs": [],
   "source": [
    "w_train = wells.copy()\n",
    "w_test = pd.read_csv('../data/testing_DataFrame.csv', index_col=0)\n",
    "w_test_complete = pd.read_csv('../data/testing_DataFrame_complete.csv', index_col=0)"
   ]
  },
  {
   "cell_type": "code",
   "execution_count": null,
   "metadata": {},
   "outputs": [],
   "source": [
    "w_test.head()"
   ]
  },
  {
   "cell_type": "code",
   "execution_count": null,
   "metadata": {},
   "outputs": [],
   "source": [
    "w_test.describe()"
   ]
  },
  {
   "cell_type": "code",
   "execution_count": null,
   "metadata": {},
   "outputs": [],
   "source": [
    "w_test = w_test[w_test.DPHI > 0]"
   ]
  },
  {
   "cell_type": "code",
   "execution_count": null,
   "metadata": {},
   "outputs": [],
   "source": [
    "w_test_complete = w_test_complete[w_test_complete.DPHI > 0]"
   ]
  },
  {
   "cell_type": "code",
   "execution_count": null,
   "metadata": {},
   "outputs": [],
   "source": [
    "w_test.describe()"
   ]
  },
  {
   "cell_type": "markdown",
   "metadata": {},
   "source": [
    "Let's start testing our training pipeline with a subset of wells. We can come back to this and change the number of wells we include, to see how it affects the result."
   ]
  },
  {
   "cell_type": "code",
   "execution_count": null,
   "metadata": {},
   "outputs": [],
   "source": [
    "w_train = w_train[w_train.well_ID < 25]"
   ]
  },
  {
   "cell_type": "code",
   "execution_count": null,
   "metadata": {},
   "outputs": [],
   "source": [
    "# Make X and y\n",
    "X = w_train[['Depth','GR','ILD','NPHI']].as_matrix()\n",
    "y = w_train['RHOB'].values"
   ]
  },
  {
   "cell_type": "code",
   "execution_count": null,
   "metadata": {},
   "outputs": [],
   "source": [
    "X.shape"
   ]
  },
  {
   "cell_type": "markdown",
   "metadata": {},
   "source": [
    "Set up the testing matrix of features we want to use to predict the missing `RHOB`"
   ]
  },
  {
   "cell_type": "code",
   "execution_count": null,
   "metadata": {},
   "outputs": [],
   "source": [
    "X_test = w_test[['Depth','GR','ILD','NPHI']].as_matrix()"
   ]
  },
  {
   "cell_type": "markdown",
   "metadata": {},
   "source": [
    "We will display the predicted vs. true results for a test well"
   ]
  },
  {
   "cell_type": "code",
   "execution_count": null,
   "metadata": {},
   "outputs": [],
   "source": [
    "well_id = 81"
   ]
  },
  {
   "cell_type": "markdown",
   "metadata": {},
   "source": [
    "# Available scikit-learn models to choose from:\n",
    "\n",
    "http://scikit-learn.org/stable/supervised_learning.html"
   ]
  },
  {
   "cell_type": "markdown",
   "metadata": {},
   "source": [
    "# Linear Regression\n"
   ]
  },
  {
   "cell_type": "markdown",
   "metadata": {},
   "source": [
    "A first simple approach is to apply a linear model"
   ]
  },
  {
   "cell_type": "code",
   "execution_count": null,
   "metadata": {},
   "outputs": [],
   "source": [
    "from sklearn import linear_model                \n",
    "\n",
    "# Create linear regression object\n",
    "regr = linear_model.LinearRegression()\n",
    "\n",
    "# Train the model using the training sets\n",
    "regr.fit(X,y)\n",
    "\n",
    "# Make predictions using the testing set\n",
    "y_test_LR = regr.predict(X_test)\n",
    "\n",
    "# add a new column to data frame that already exists\n",
    "w_test_complete['RHOB_pred_LinReg'] = y_test_LR\n",
    "\n",
    "my_well = w_test_complete[w_test_complete.well_ID==well_id]\n",
    "\n",
    "plt.figure(figsize=(3,10))\n",
    "plt.plot(my_well.RHOB, my_well.Depth, 'k')\n",
    "plt.plot(my_well.RHOB_pred_LinReg, my_well.Depth,'r')"
   ]
  },
  {
   "cell_type": "markdown",
   "metadata": {},
   "source": [
    "\n",
    "# Decision Tree Regressor"
   ]
  },
  {
   "cell_type": "code",
   "execution_count": null,
   "metadata": {},
   "outputs": [],
   "source": [
    "from sklearn import tree\n",
    "clf = tree.DecisionTreeRegressor()\n",
    "clf = clf.fit(X, y)\n",
    "\n",
    "y_test_DTR = clf.predict(X_test)"
   ]
  },
  {
   "cell_type": "code",
   "execution_count": null,
   "metadata": {},
   "outputs": [],
   "source": [
    "# add a new column to data frame that already exists\n",
    "w_test_complete['RHOB_pred_DTR'] = y_test_DTR\n",
    "w_test_complete.head()\n",
    "\n",
    "my_well = w_test_complete[w_test_complete.well_ID==well_id]\n",
    "\n",
    "plt.figure(figsize=(3,10))\n",
    "plt.plot(my_well.RHOB, my_well.Depth, 'k')\n",
    "plt.plot(my_well.RHOB_pred_DTR, my_well.Depth,'r')"
   ]
  },
  {
   "cell_type": "markdown",
   "metadata": {},
   "source": [
    "# Nearest Neighbours"
   ]
  },
  {
   "cell_type": "code",
   "execution_count": null,
   "metadata": {},
   "outputs": [],
   "source": [
    "from sklearn.neighbors import KNeighborsRegressor\n",
    "import numpy as np\n",
    "nbrs = KNeighborsRegressor(n_neighbors=5)\n",
    "nbrs.fit(X, y)\n",
    "y_test_KNN = nbrs.predict(X_test)"
   ]
  },
  {
   "cell_type": "code",
   "execution_count": null,
   "metadata": {},
   "outputs": [],
   "source": [
    "# add a new column to data frame that already exists\n",
    "w_test_complete['RHOB_pred_KNN'] = y_test_KNN\n",
    "\n",
    "my_well = w_test_complete[w_test_complete.well_ID==well_id]\n",
    "\n",
    "plt.figure(figsize=(3,10))\n",
    "plt.plot(my_well.RHOB, my_well.Depth, 'k')\n",
    "plt.plot(my_well.RHOB_pred_KNN, my_well.Depth,'r')"
   ]
  },
  {
   "cell_type": "markdown",
   "metadata": {},
   "source": [
    "# Gradient Boosting Ensemble Regressor"
   ]
  },
  {
   "cell_type": "code",
   "execution_count": null,
   "metadata": {},
   "outputs": [],
   "source": [
    "import numpy as np\n",
    "from sklearn.metrics import mean_squared_error\n",
    "from sklearn.datasets import make_friedman1\n",
    "from sklearn.ensemble import GradientBoostingRegressor\n",
    "\n",
    "est = GradientBoostingRegressor(n_estimators=100, learning_rate=0.05,\n",
    "    max_depth=5, random_state=0, loss='ls')\n",
    "\n",
    "est.fit(X, y)\n",
    "\n",
    "y_test_GBT = est.predict(X_test)\n",
    "w_test_complete['RHOB_pred_GBT'] = y_test_GBT\n",
    "\n",
    "my_well = w_test_complete[w_test_complete.well_ID==well_id]\n",
    "\n",
    "plt.figure(figsize=(3,10))\n",
    "plt.plot(my_well.RHOB, my_well.Depth, 'k')\n",
    "plt.plot(my_well.RHOB_pred_GBT, my_well.Depth,'r')"
   ]
  },
  {
   "cell_type": "markdown",
   "metadata": {},
   "source": [
    "# Evaluation Metrics"
   ]
  },
  {
   "cell_type": "markdown",
   "metadata": {},
   "source": [
    "Although it's good to see how the plots look, a more generalized way to determine how good a model is at predicting data\n"
   ]
  },
  {
   "cell_type": "markdown",
   "metadata": {},
   "source": [
    "http://scikit-learn.org/stable/model_selection.html#model-selection"
   ]
  },
  {
   "cell_type": "markdown",
   "metadata": {},
   "source": [
    "\"Learning the parameters of a prediction function and testing it on the same data is a methodological mistake: a model that would just repeat the labels of the samples that it has just seen would have a perfect score but would fail to predict anything useful on yet-unseen data. This situation is called overfitting. To avoid it, it is common practice when performing a (supervised) machine learning experiment to hold out part of the available data as a test set X_test, y_test. Note that the word “experiment” is not intended to denote academic use only, because even in commercial settings machine learning usually starts out experimentally.\""
   ]
  },
  {
   "cell_type": "code",
   "execution_count": null,
   "metadata": {},
   "outputs": [],
   "source": [
    "from sklearn.model_selection import cross_val_score\n",
    "\n",
    "scores = cross_val_score(est, X_test, w_test_complete.RHOB, cv=5, scoring='neg_mean_squared_error')\n",
    "scores  "
   ]
  },
  {
   "cell_type": "markdown",
   "metadata": {},
   "source": [
    "## Regression metrics"
   ]
  },
  {
   "cell_type": "markdown",
   "metadata": {},
   "source": [
    "[TOP](#top)"
   ]
  },
  {
   "cell_type": "markdown",
   "metadata": {},
   "source": [
    "http://scikit-learn.org/stable/modules/model_evaluation.html#regression-metrics"
   ]
  },
  {
   "cell_type": "code",
   "execution_count": null,
   "metadata": {},
   "outputs": [],
   "source": [
    "from sklearn.metrics import explained_variance_score\n",
    "print(explained_variance_score(my_well.RHOB, my_well.RHOB_pred_LinReg))  \n",
    "print(explained_variance_score(my_well.RHOB, my_well.RHOB_pred_DTR))\n",
    "print(explained_variance_score(my_well.RHOB, my_well.RHOB_pred_KNN))\n"
   ]
  },
  {
   "cell_type": "code",
   "execution_count": null,
   "metadata": {},
   "outputs": [],
   "source": [
    "from sklearn.metrics import mean_squared_error\n",
    "print(mean_squared_error(my_well.RHOB, my_well.RHOB_pred_LinReg))  \n",
    "print(mean_squared_error(my_well.RHOB, my_well.RHOB_pred_DTR))\n",
    "print(mean_squared_error(my_well.RHOB, my_well.RHOB_pred_KNN))"
   ]
  },
  {
   "cell_type": "markdown",
   "metadata": {},
   "source": [
    "# Feature Engineering"
   ]
  },
  {
   "cell_type": "code",
   "execution_count": null,
   "metadata": {},
   "outputs": [],
   "source": [
    "def smooth(y, box_len=10):\n",
    "    box = np.ones(box_len)/box_len\n",
    "    y_smooth = np.convolve(y, box, mode='same')\n",
    "    return y_smooth\n"
   ]
  },
  {
   "cell_type": "code",
   "execution_count": null,
   "metadata": {},
   "outputs": [],
   "source": [
    "w_train.columns"
   ]
  },
  {
   "cell_type": "code",
   "execution_count": null,
   "metadata": {},
   "outputs": [],
   "source": [
    "w_train[\"s_NPHI\"] = smooth(w_train[\"NPHI\"].values, box_len=50) "
   ]
  },
  {
   "cell_type": "code",
   "execution_count": null,
   "metadata": {},
   "outputs": [],
   "source": [
    "w_train[\"well_ID\"].unique()"
   ]
  },
  {
   "cell_type": "code",
   "execution_count": null,
   "metadata": {},
   "outputs": [],
   "source": [
    "idx_test_well = 0"
   ]
  },
  {
   "cell_type": "code",
   "execution_count": null,
   "metadata": {},
   "outputs": [],
   "source": [
    "plt.plot(w_train[w_train.well_ID == idx_test_well][\"NPHI\"])\n",
    "plt.plot(w_train[w_train.well_ID == idx_test_well][\"s_NPHI\"])"
   ]
  },
  {
   "cell_type": "code",
   "execution_count": null,
   "metadata": {},
   "outputs": [],
   "source": [
    "w_test[\"s_NPHI\"] = smooth(w_test[\"NPHI\"].values, box_len=50)\n",
    "X_test = w_test[['Depth','GR','ILD','NPHI','s_NPHI']].as_matrix()"
   ]
  },
  {
   "cell_type": "code",
   "execution_count": null,
   "metadata": {},
   "outputs": [],
   "source": [
    "X = w_train[['Depth','GR','ILD','NPHI','s_NPHI']].as_matrix()\n",
    "\n",
    "est = GradientBoostingRegressor(n_estimators=100, learning_rate=0.05,\n",
    "    max_depth=5, random_state=0, loss='ls')\n",
    "\n",
    "est.fit(X, y)\n",
    "\n",
    "y_test_GBT = est.predict(X_test)\n",
    "\n",
    "\n",
    "w_test_complete['RHOB_pred_GBT'] = y_test_GBT\n",
    "\n",
    "my_well = w_test_complete[w_test_complete.well_ID==well_id]\n",
    "\n",
    "plt.figure(figsize=(3,10))\n",
    "plt.plot(my_well.RHOB, my_well.Depth, 'k')\n",
    "plt.plot(my_well.RHOB_pred_GBT, my_well.Depth,'r')"
   ]
  },
  {
   "cell_type": "code",
   "execution_count": null,
   "metadata": {},
   "outputs": [],
   "source": [
    "print(mean_squared_error(my_well.RHOB, my_well.RHOB_pred_GBT)) "
   ]
  },
  {
   "cell_type": "code",
   "execution_count": null,
   "metadata": {},
   "outputs": [],
   "source": [
    "from sklearn.metrics import mean_squared_error\n",
    "print(mean_squared_error(my_well.RHOB, my_well.RHOB_pred_GBT))  "
   ]
  },
  {
   "cell_type": "markdown",
   "metadata": {},
   "source": [
    "<hr />\n",
    "\n",
    "<p style=\"color:gray\">©2017 Agile Geoscience. Licensed CC-BY.</p>"
   ]
  }
 ],
 "metadata": {
  "anaconda-cloud": {},
  "kernelspec": {
   "display_name": "Python 3",
   "language": "python",
   "name": "python3"
  },
  "language_info": {
   "codemirror_mode": {
    "name": "ipython",
    "version": 3
   },
   "file_extension": ".py",
   "mimetype": "text/x-python",
   "name": "python",
   "nbconvert_exporter": "python",
   "pygments_lexer": "ipython3",
   "version": "3.5.4"
  }
 },
 "nbformat": 4,
 "nbformat_minor": 2
}
