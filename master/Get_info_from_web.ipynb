{
 "cells": [
  {
   "cell_type": "markdown",
   "metadata": {
    "collapsed": true
   },
   "source": [
    "# Info from the web\n",
    "\n",
    "**This notebook goes with [a blog post at Agile*](http://ageo.co/xlines02).**\n",
    "\n",
    "We're going to get some info from a web service, and from Wikipedia. We'll make good use of [the `requests` library](http://docs.python-requests.org/en/master/), a really nicely designed Python library for making web requests in Python."
   ]
  },
  {
   "cell_type": "markdown",
   "metadata": {},
   "source": [
    "## Curvenam.es\n",
    "\n",
    "[`curvenam.es`](http://curvenam.es) is a little web app for looking up curve mnemonics from LAS files.\n",
    "\n",
    "Here's what [the demo request from the site](http://curvenam.es/lookup) looks like:\n",
    "\n",
    "    http://curvenam.es/lookup?mnemonic=TEST&method=fuzzy&limit=5&maxdist=2\n",
    "    \n",
    "We split this into the URL, and the query parameters:"
   ]
  },
  {
   "cell_type": "code",
   "execution_count": 3,
   "metadata": {
    "collapsed": true
   },
   "outputs": [],
   "source": [
    "import requests"
   ]
  },
  {
   "cell_type": "code",
   "execution_count": 4,
   "metadata": {
    "collapsed": true
   },
   "outputs": [],
   "source": [
    "url = 'http://curvenam.es/lookup'"
   ]
  },
  {
   "cell_type": "code",
   "execution_count": 5,
   "metadata": {
    "collapsed": true
   },
   "outputs": [],
   "source": [
    "params = {'mnemonic': 'DT4P',\n",
    "          'method': 'fuzzy',\n",
    "          'limit': 1,\n",
    "          'maxdist': 2\n",
    "         }"
   ]
  },
  {
   "cell_type": "code",
   "execution_count": 6,
   "metadata": {
    "collapsed": true
   },
   "outputs": [],
   "source": [
    "r = requests.get(url, params)"
   ]
  },
  {
   "cell_type": "markdown",
   "metadata": {},
   "source": [
    "If we were successful, the server sends back a `200` status code:"
   ]
  },
  {
   "cell_type": "code",
   "execution_count": 7,
   "metadata": {},
   "outputs": [
    {
     "data": {
      "text/plain": [
       "200"
      ]
     },
     "execution_count": 7,
     "metadata": {},
     "output_type": "execute_result"
    }
   ],
   "source": [
    "r.status_code"
   ]
  },
  {
   "cell_type": "markdown",
   "metadata": {},
   "source": [
    "The result of the query is in the `text` attribute of the result:"
   ]
  },
  {
   "cell_type": "code",
   "execution_count": 8,
   "metadata": {},
   "outputs": [
    {
     "data": {
      "text/plain": [
       "'{\"mnemonic\": \"DT4P\", \"maxdist\": \"2\", \"limit\": \"1\", \"result\": [{\"mnemonic\": \"DT4P\", \"distance\": 0, \"curve\": {\"mnemonic\": \"DT4P\", \"model\": \"\", \"unittype\": \"AcousticSlowness\", \"description\": \"Delta-T Compressional - Monopole P&S\", \"units\": \"\", \"company\": \"Schlumberger\", \"type\": \"Curve\", \"method\": \"Wireline\"}}], \"time\": 0.0026299953460693359, \"method\": \"fuzzy\"}'"
      ]
     },
     "execution_count": 8,
     "metadata": {},
     "output_type": "execute_result"
    }
   ],
   "source": [
    "r.text"
   ]
  },
  {
   "cell_type": "markdown",
   "metadata": {},
   "source": [
    "There's a convenient `json()` method to give us the result as JSON:"
   ]
  },
  {
   "cell_type": "code",
   "execution_count": 9,
   "metadata": {},
   "outputs": [
    {
     "data": {
      "text/plain": [
       "{'limit': '1',\n",
       " 'maxdist': '2',\n",
       " 'method': 'fuzzy',\n",
       " 'mnemonic': 'DT4P',\n",
       " 'result': [{'curve': {'company': 'Schlumberger',\n",
       "    'description': 'Delta-T Compressional - Monopole P&S',\n",
       "    'method': 'Wireline',\n",
       "    'mnemonic': 'DT4P',\n",
       "    'model': '',\n",
       "    'type': 'Curve',\n",
       "    'units': '',\n",
       "    'unittype': 'AcousticSlowness'},\n",
       "   'distance': 0,\n",
       "   'mnemonic': 'DT4P'}],\n",
       " 'time': 0.002629995346069336}"
      ]
     },
     "execution_count": 9,
     "metadata": {},
     "output_type": "execute_result"
    }
   ],
   "source": [
    "r.json()"
   ]
  },
  {
   "cell_type": "code",
   "execution_count": 10,
   "metadata": {},
   "outputs": [
    {
     "name": "stdout",
     "output_type": "stream",
     "text": [
      "Delta-T Compressional - Monopole P&S\n"
     ]
    }
   ],
   "source": [
    "try:\n",
    "    print(r.json()['result'][0]['curve']['description'])\n",
    "except:\n",
    "    print(\"No results\")"
   ]
  },
  {
   "cell_type": "markdown",
   "metadata": {},
   "source": [
    "----\n",
    "\n",
    "## Geological ages from Wikipedia\n",
    "\n",
    "Sometimes there isn't a nice API and we have to get what we want from unstructured data. Let's use the task of getting geological ages from Wikipedia as an example.\n",
    "\n",
    "We'll start with the Jurassic, then generalize."
   ]
  },
  {
   "cell_type": "code",
   "execution_count": 11,
   "metadata": {
    "collapsed": true
   },
   "outputs": [],
   "source": [
    "url = \"http://en.wikipedia.org/wiki/Jurassic\"  # Line 1"
   ]
  },
  {
   "cell_type": "markdown",
   "metadata": {},
   "source": [
    "I used `View Source` in my browser to figure out where the age range is on the page, and what it looks like. The most predictable spot, that will work on every period's page, is in the infobox. It's given as a range, in italic text, with \"million years ago\" right after it.\n",
    "\n",
    "Try to find the same string here."
   ]
  },
  {
   "cell_type": "code",
   "execution_count": 12,
   "metadata": {},
   "outputs": [],
   "source": [
    "r = requests.get(url)  # Line 2"
   ]
  },
  {
   "cell_type": "markdown",
   "metadata": {},
   "source": [
    "Now we have the entire text of the webpage, along with some metadata. The text is stored in `r.text`, and I happen to know roughly where the relevant bit of text is: around the 8500th character, give or take:"
   ]
  },
  {
   "cell_type": "code",
   "execution_count": 20,
   "metadata": {},
   "outputs": [
    {
     "data": {
      "text/plain": [
       "'gn: center;\">\\n<tr>\\n<td colspan=\"2\" style=\"background-color: rgb(0,187,231)\"><b>Jurassic Period</b><br />\\n<i>201.3–145&#160;million years ago</i><br />\\n<div id=\"Timeline-row\" style=\"margin: 4px auto 0;'"
      ]
     },
     "execution_count": 20,
     "metadata": {},
     "output_type": "execute_result"
    }
   ],
   "source": [
    "r.text[8400:8600]"
   ]
  },
  {
   "cell_type": "code",
   "execution_count": 21,
   "metadata": {},
   "outputs": [
    {
     "data": {
      "text/plain": [
       "'Sound-icon.svg/30px-Sound-icon.svg.png 1.5x, //upload.wikimedia.org/wikipedia/commons/thumb/4/47/Sound-icon.svg/40px-Sound-icon.svg.png 2x\" data-file-width=\"128\" data-file-height=\"96\" /></a></div>\\n</d'"
      ]
     },
     "execution_count": 21,
     "metadata": {},
     "output_type": "execute_result"
    }
   ],
   "source": [
    "r.text[7400:7600]  # I don't count these lines either."
   ]
  },
  {
   "cell_type": "markdown",
   "metadata": {},
   "source": [
    "We can get at that bit of text using a [regular expression](https://docs.python.org/2/library/re.html):"
   ]
  },
  {
   "cell_type": "code",
   "execution_count": 22,
   "metadata": {},
   "outputs": [
    {
     "data": {
      "text/plain": [
       "'201.3–145&#160;million years ago'"
      ]
     },
     "execution_count": 22,
     "metadata": {},
     "output_type": "execute_result"
    }
   ],
   "source": [
    "import re\n",
    "\n",
    "s = re.search(r'<i>(.+?million years ago)</i>', r.text)\n",
    "text = s.group(1)\n",
    "text"
   ]
  },
  {
   "cell_type": "markdown",
   "metadata": {},
   "source": [
    "And if we're really cunning, we can get the start and end ages:"
   ]
  },
  {
   "cell_type": "code",
   "execution_count": 23,
   "metadata": {},
   "outputs": [
    {
     "name": "stdout",
     "output_type": "stream",
     "text": [
      "According to Wikipedia, the Jurassic lasted 56.30 Ma.\n"
     ]
    }
   ],
   "source": [
    "start, end = re.search(r'<i>([\\.0-9]+)–([\\.0-9]+)&#160;million years ago</i>', r.text).groups()  # Line 3\n",
    "duration = float(start) - float(end)  # Line 4\n",
    "\n",
    "print(\"According to Wikipedia, the Jurassic lasted {:.2f} Ma.\".format(duration))  # Line 5"
   ]
  },
  {
   "cell_type": "markdown",
   "metadata": {},
   "source": [
    "An exercise for you, dear reader: Make a function to get the start and end ages of *any* geologic period, taking the name of the period as an argument. I have left some hints."
   ]
  },
  {
   "cell_type": "code",
   "execution_count": 24,
   "metadata": {},
   "outputs": [],
   "source": [
    "def get_age(period):\n",
    "    url =  \"http://en.wikipedia.org/wiki/\" + period\n",
    "    r = requests.get(url)\n",
    "    start, end =   re.search(r'<i>([\\.0-9]+)–([\\.0-9]+)&#160;million years ago</i>', r.text).groups()\n",
    "    return float(start), float(end)"
   ]
  },
  {
   "cell_type": "markdown",
   "metadata": {},
   "source": [
    "You should be able to call your function like this:"
   ]
  },
  {
   "cell_type": "code",
   "execution_count": 25,
   "metadata": {},
   "outputs": [
    {
     "data": {
      "text/plain": [
       "(201.3, 145.0)"
      ]
     },
     "execution_count": 25,
     "metadata": {},
     "output_type": "execute_result"
    }
   ],
   "source": [
    "period = \"Jurassic\"\n",
    "get_age(period)"
   ]
  },
  {
   "cell_type": "markdown",
   "metadata": {},
   "source": [
    "Now we can make a function that makes the sentence we made before, calling the function you just wrote:"
   ]
  },
  {
   "cell_type": "code",
   "execution_count": 26,
   "metadata": {
    "collapsed": true
   },
   "outputs": [],
   "source": [
    "def duration(period):\n",
    "    t0, t1 = get_age(period)\n",
    "    duration = t0 - t1\n",
    "    response = \"According to Wikipedia, the {0} lasted {1:.2f} Ma.\".format(period, duration)\n",
    "    return response"
   ]
  },
  {
   "cell_type": "code",
   "execution_count": 27,
   "metadata": {},
   "outputs": [
    {
     "data": {
      "text/plain": [
       "'According to Wikipedia, the Cretaceous lasted 79.00 Ma.'"
      ]
     },
     "execution_count": 27,
     "metadata": {},
     "output_type": "execute_result"
    }
   ],
   "source": [
    "duration('Cretaceous')"
   ]
  },
  {
   "cell_type": "markdown",
   "metadata": {
    "collapsed": true
   },
   "source": [
    "<hr />\n",
    "\n",
    "<div>\n",
    "<img src=\"https://avatars1.githubusercontent.com/u/1692321?s=50\"><p style=\"text-align:center\">© Agile Geoscience 2016</p>\n",
    "</div>"
   ]
  }
 ],
 "metadata": {
  "anaconda-cloud": {},
  "kernelspec": {
   "display_name": "Python [conda env:geocomp]",
   "language": "python",
   "name": "conda-env-geocomp-py"
  },
  "language_info": {
   "codemirror_mode": {
    "name": "ipython",
    "version": 3
   },
   "file_extension": ".py",
   "mimetype": "text/x-python",
   "name": "python",
   "nbconvert_exporter": "python",
   "pygments_lexer": "ipython3",
   "version": "3.6.3"
  }
 },
 "nbformat": 4,
 "nbformat_minor": 1
}
