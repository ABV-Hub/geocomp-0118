{
 "cells": [
  {
   "cell_type": "markdown",
   "metadata": {},
   "source": [
    "# Reading data from files\n",
    "\n",
    "Sometimes we need to read data from files. In general, these will be text files or binary files. Text files are easy to read, binary files are not.\n",
    "\n",
    "Let's start with reading some tops from a file."
   ]
  },
  {
   "cell_type": "code",
   "execution_count": null,
   "metadata": {
    "collapsed": true
   },
   "outputs": [],
   "source": []
  },
  {
   "cell_type": "code",
   "execution_count": null,
   "metadata": {
    "collapsed": true
   },
   "outputs": [],
   "source": []
  },
  {
   "cell_type": "code",
   "execution_count": null,
   "metadata": {
    "collapsed": true
   },
   "outputs": [],
   "source": []
  },
  {
   "cell_type": "code",
   "execution_count": null,
   "metadata": {
    "collapsed": true
   },
   "outputs": [],
   "source": []
  },
  {
   "cell_type": "code",
   "execution_count": 1,
   "metadata": {
    "collapsed": true,
    "tags": [
     "hide"
    ]
   },
   "outputs": [],
   "source": [
    "with open('../data/L-30_tops.txt', 'r') as f:\n",
    "    data = f.read()"
   ]
  },
  {
   "cell_type": "code",
   "execution_count": 2,
   "metadata": {
    "tags": [
     "hide"
    ]
   },
   "outputs": [
    {
     "data": {
      "text/plain": [
       "'# L-30 well tops\\nWyanDot FM,867.156\\nDAWSON CANYON FM,984.50402\\nLOGAN CANYON FM,1136.904\\nUpper MISSISAUGA FM,2251.2529\\nLower MISSISAUGA FM,3190.6464\\nABENAKI FM,3404.3112\\nMID BACCARO,3485.0832\\nLower BACCARO,3964.5337\\nBase O-Marker,2469.207\\nTD,4268.0\\nPay_sand_1-rft,2478.0\\npay_sand_2,2499.0\\npay_sand_3,2543.0\\npay_sand_4,2637.0\\nsand_5,2699.0\\nsand_6,2795.0\\nsand_7,2835.0\\n'"
      ]
     },
     "execution_count": 2,
     "metadata": {},
     "output_type": "execute_result"
    }
   ],
   "source": [
    "data"
   ]
  },
  {
   "cell_type": "code",
   "execution_count": 3,
   "metadata": {
    "collapsed": true,
    "tags": [
     "hide"
    ]
   },
   "outputs": [],
   "source": [
    "with open('../data/L-30_tops.txt', 'r') as f:\n",
    "    data = f.readlines()"
   ]
  },
  {
   "cell_type": "code",
   "execution_count": 4,
   "metadata": {
    "tags": [
     "hide"
    ]
   },
   "outputs": [
    {
     "data": {
      "text/plain": [
       "['# L-30 well tops\\n',\n",
       " 'WyanDot FM,867.156\\n',\n",
       " 'DAWSON CANYON FM,984.50402\\n',\n",
       " 'LOGAN CANYON FM,1136.904\\n',\n",
       " 'Upper MISSISAUGA FM,2251.2529\\n',\n",
       " 'Lower MISSISAUGA FM,3190.6464\\n',\n",
       " 'ABENAKI FM,3404.3112\\n',\n",
       " 'MID BACCARO,3485.0832\\n',\n",
       " 'Lower BACCARO,3964.5337\\n',\n",
       " 'Base O-Marker,2469.207\\n',\n",
       " 'TD,4268.0\\n',\n",
       " 'Pay_sand_1-rft,2478.0\\n',\n",
       " 'pay_sand_2,2499.0\\n',\n",
       " 'pay_sand_3,2543.0\\n',\n",
       " 'pay_sand_4,2637.0\\n',\n",
       " 'sand_5,2699.0\\n',\n",
       " 'sand_6,2795.0\\n',\n",
       " 'sand_7,2835.0\\n']"
      ]
     },
     "execution_count": 4,
     "metadata": {},
     "output_type": "execute_result"
    }
   ],
   "source": [
    "data"
   ]
  },
  {
   "cell_type": "markdown",
   "metadata": {
    "tags": [
     "exercise"
    ]
   },
   "source": [
    "### Exercise\n",
    "\n",
    "Write a `for` loop to read the lines of the file one by one, adding key: value pairs to a dictionary as you go.\n",
    "\n",
    "<a title=\"You will need to skip the loop over lines that look like comments. Use str.split() to break the line at a comma, and `float()` to convert strings to numbers.\">**Hints**</a>"
   ]
  },
  {
   "cell_type": "code",
   "execution_count": 5,
   "metadata": {
    "collapsed": true
   },
   "outputs": [],
   "source": [
    "tops = {}\n",
    "for line in data:\n",
    "\n",
    "    # Your code here!\n"
   ]
  },
  {
   "cell_type": "code",
   "execution_count": 5,
   "metadata": {
    "collapsed": true,
    "tags": [
     "hide"
    ]
   },
   "outputs": [],
   "source": [
    "tops = {}\n",
    "for line in data:\n",
    "\n",
    "    if line.startswith('#'):\n",
    "        continue\n",
    "    name, depth = line.split(',')\n",
    "    name = name.title()\n",
    "    depth = float(depth.strip())\n",
    "\n",
    "    tops[name] = depth"
   ]
  },
  {
   "cell_type": "code",
   "execution_count": 6,
   "metadata": {
    "tags": [
     "hide"
    ]
   },
   "outputs": [
    {
     "data": {
      "text/plain": [
       "{'Abenaki Fm': 3404.3112,\n",
       " 'Base O-Marker': 2469.207,\n",
       " 'Dawson Canyon Fm': 984.50402,\n",
       " 'Logan Canyon Fm': 1136.904,\n",
       " 'Lower Baccaro': 3964.5337,\n",
       " 'Lower Missisauga Fm': 3190.6464,\n",
       " 'Mid Baccaro': 3485.0832,\n",
       " 'Pay_Sand_1-Rft': 2478.0,\n",
       " 'Pay_Sand_2': 2499.0,\n",
       " 'Pay_Sand_3': 2543.0,\n",
       " 'Pay_Sand_4': 2637.0,\n",
       " 'Sand_5': 2699.0,\n",
       " 'Sand_6': 2795.0,\n",
       " 'Sand_7': 2835.0,\n",
       " 'Td': 4268.0,\n",
       " 'Upper Missisauga Fm': 2251.2529,\n",
       " 'Wyandot Fm': 867.156}"
      ]
     },
     "execution_count": 6,
     "metadata": {},
     "output_type": "execute_result"
    }
   ],
   "source": [
    "tops"
   ]
  },
  {
   "cell_type": "markdown",
   "metadata": {},
   "source": [
    "Add this dictionary to `utils.py` by typing `tops = `, followed by this dict."
   ]
  },
  {
   "cell_type": "markdown",
   "metadata": {},
   "source": [
    "## Intro to Python students: stop here for now\n",
    "\n",
    "----"
   ]
  },
  {
   "cell_type": "markdown",
   "metadata": {},
   "source": [
    "## Read using NumPy\n",
    "\n",
    "We can use `np.loadtxt()` for numeric files."
   ]
  },
  {
   "cell_type": "code",
   "execution_count": 46,
   "metadata": {},
   "outputs": [
    {
     "data": {
      "text/plain": [
       "array([  867.156  ,   984.50402,  1136.904  ,  2251.2529 ,  3190.6464 ,\n",
       "        3404.3112 ,  3485.0832 ,  3964.5337 ,  2469.207  ,  4268.     ,\n",
       "        2478.     ,  2499.     ,  2543.     ,  2637.     ,  2699.     ,\n",
       "        2795.     ,  2835.     ])"
      ]
     },
     "execution_count": 46,
     "metadata": {},
     "output_type": "execute_result"
    }
   ],
   "source": [
    "import numpy as np\n",
    "np.loadtxt('../data/L-30_tops.txt', skiprows=1, usecols=[1], delimiter=',')"
   ]
  },
  {
   "cell_type": "markdown",
   "metadata": {},
   "source": [
    "Or there's [`np.genfromtxt()`](https://docs.scipy.org/doc/numpy-1.13.0/user/basics.io.genfromtxt.html), which copes better with missing values &mdash; try running it on `'../data/B-41_tops.txt'`."
   ]
  },
  {
   "cell_type": "code",
   "execution_count": 44,
   "metadata": {},
   "outputs": [
    {
     "data": {
      "text/plain": [
       "array([[        nan,         nan,         nan,         nan,         nan,\n",
       "                nan,         nan,         nan,         nan,         nan,\n",
       "                nan,         nan,         nan,         nan,         nan,\n",
       "                nan,         nan],\n",
       "       [  867.156  ,   984.50402,  1136.904  ,  2251.2529 ,  3190.6464 ,\n",
       "         3404.3112 ,  3485.0832 ,  3964.5337 ,  2469.207  ,  4268.     ,\n",
       "         2478.     ,  2499.     ,  2543.     ,  2637.     ,  2699.     ,\n",
       "         2795.     ,  2835.     ]])"
      ]
     },
     "execution_count": 44,
     "metadata": {},
     "output_type": "execute_result"
    }
   ],
   "source": [
    "np.genfromtxt('../data/L-30_tops.txt', skip_header=1, delimiter=',')"
   ]
  },
  {
   "cell_type": "markdown",
   "metadata": {},
   "source": [
    "Both functions have a useful keyword argument, `unpack`, which you should set to `True` to get the columns back as separate vectors.\n",
    "\n",
    "Note that both functions can read GZIP files too."
   ]
  },
  {
   "cell_type": "markdown",
   "metadata": {},
   "source": [
    "## `csv` built-in module"
   ]
  },
  {
   "cell_type": "code",
   "execution_count": 20,
   "metadata": {},
   "outputs": [
    {
     "name": "stdout",
     "output_type": "stream",
     "text": [
      "['Formation name', 'Depth [m]']\n",
      "['WyanDot FM', '867.156']\n",
      "['DAWSON CANYON FM', '984.50402']\n",
      "['LOGAN CANYON FM', '1136.904']\n",
      "['Upper MISSISAUGA FM', '2251.2529']\n",
      "['Lower MISSISAUGA FM', '3190.6464']\n",
      "['ABENAKI FM', '3404.3112']\n",
      "['MID BACCARO', '3485.0832']\n",
      "['Lower BACCARO', '3964.5337']\n",
      "['Base O-Marker', '2469.207']\n",
      "['TD', '4268.0']\n",
      "['Pay_sand_1-rft', '2478.0']\n",
      "['pay_sand_2', '2499.0']\n",
      "['pay_sand_3', '2543.0']\n",
      "['pay_sand_4', '2637.0']\n",
      "['sand_5', '2699.0']\n",
      "['sand_6', '2795.0']\n",
      "['sand_7', '2835.0']\n"
     ]
    }
   ],
   "source": [
    "import csv\n",
    "\n",
    "with open('../data/L-30_tops.csv') as f:\n",
    "    reader = csv.reader(f)\n",
    "    for row in reader:\n",
    "        print(row)"
   ]
  },
  {
   "cell_type": "code",
   "execution_count": 22,
   "metadata": {},
   "outputs": [
    {
     "name": "stdout",
     "output_type": "stream",
     "text": [
      "WyanDot FM 867.156\n",
      "DAWSON CANYON FM 984.50402\n",
      "LOGAN CANYON FM 1136.904\n",
      "Upper MISSISAUGA FM 2251.2529\n",
      "Lower MISSISAUGA FM 3190.6464\n",
      "ABENAKI FM 3404.3112\n",
      "MID BACCARO 3485.0832\n",
      "Lower BACCARO 3964.5337\n",
      "Base O-Marker 2469.207\n",
      "TD 4268.0\n",
      "Pay_sand_1-rft 2478.0\n",
      "pay_sand_2 2499.0\n",
      "pay_sand_3 2543.0\n",
      "pay_sand_4 2637.0\n",
      "sand_5 2699.0\n",
      "sand_6 2795.0\n",
      "sand_7 2835.0\n"
     ]
    }
   ],
   "source": [
    "import csv\n",
    "\n",
    "with open('../data/L-30_tops.csv') as f:\n",
    "    reader = csv.DictReader(f)\n",
    "    for row in reader:\n",
    "        print(row['Formation name'], row['Depth [m]'])"
   ]
  },
  {
   "cell_type": "markdown",
   "metadata": {},
   "source": [
    "## Read file using pandas"
   ]
  },
  {
   "cell_type": "code",
   "execution_count": 23,
   "metadata": {
    "collapsed": true
   },
   "outputs": [],
   "source": [
    "import pandas as pd\n",
    "\n",
    "df = pd.read_csv('../data/L-30_tops.csv')"
   ]
  },
  {
   "cell_type": "code",
   "execution_count": 24,
   "metadata": {},
   "outputs": [
    {
     "data": {
      "text/html": [
       "<div>\n",
       "<table border=\"1\" class=\"dataframe\">\n",
       "  <thead>\n",
       "    <tr style=\"text-align: right;\">\n",
       "      <th></th>\n",
       "      <th>Formation name</th>\n",
       "      <th>Depth [m]</th>\n",
       "    </tr>\n",
       "  </thead>\n",
       "  <tbody>\n",
       "    <tr>\n",
       "      <th>0</th>\n",
       "      <td>WyanDot FM</td>\n",
       "      <td>867.15600</td>\n",
       "    </tr>\n",
       "    <tr>\n",
       "      <th>1</th>\n",
       "      <td>DAWSON CANYON FM</td>\n",
       "      <td>984.50402</td>\n",
       "    </tr>\n",
       "    <tr>\n",
       "      <th>2</th>\n",
       "      <td>LOGAN CANYON FM</td>\n",
       "      <td>1136.90400</td>\n",
       "    </tr>\n",
       "    <tr>\n",
       "      <th>3</th>\n",
       "      <td>Upper MISSISAUGA FM</td>\n",
       "      <td>2251.25290</td>\n",
       "    </tr>\n",
       "    <tr>\n",
       "      <th>4</th>\n",
       "      <td>Lower MISSISAUGA FM</td>\n",
       "      <td>3190.64640</td>\n",
       "    </tr>\n",
       "    <tr>\n",
       "      <th>5</th>\n",
       "      <td>ABENAKI FM</td>\n",
       "      <td>3404.31120</td>\n",
       "    </tr>\n",
       "    <tr>\n",
       "      <th>6</th>\n",
       "      <td>MID BACCARO</td>\n",
       "      <td>3485.08320</td>\n",
       "    </tr>\n",
       "    <tr>\n",
       "      <th>7</th>\n",
       "      <td>Lower BACCARO</td>\n",
       "      <td>3964.53370</td>\n",
       "    </tr>\n",
       "    <tr>\n",
       "      <th>8</th>\n",
       "      <td>Base O-Marker</td>\n",
       "      <td>2469.20700</td>\n",
       "    </tr>\n",
       "    <tr>\n",
       "      <th>9</th>\n",
       "      <td>TD</td>\n",
       "      <td>4268.00000</td>\n",
       "    </tr>\n",
       "    <tr>\n",
       "      <th>10</th>\n",
       "      <td>Pay_sand_1-rft</td>\n",
       "      <td>2478.00000</td>\n",
       "    </tr>\n",
       "    <tr>\n",
       "      <th>11</th>\n",
       "      <td>pay_sand_2</td>\n",
       "      <td>2499.00000</td>\n",
       "    </tr>\n",
       "    <tr>\n",
       "      <th>12</th>\n",
       "      <td>pay_sand_3</td>\n",
       "      <td>2543.00000</td>\n",
       "    </tr>\n",
       "    <tr>\n",
       "      <th>13</th>\n",
       "      <td>pay_sand_4</td>\n",
       "      <td>2637.00000</td>\n",
       "    </tr>\n",
       "    <tr>\n",
       "      <th>14</th>\n",
       "      <td>sand_5</td>\n",
       "      <td>2699.00000</td>\n",
       "    </tr>\n",
       "    <tr>\n",
       "      <th>15</th>\n",
       "      <td>sand_6</td>\n",
       "      <td>2795.00000</td>\n",
       "    </tr>\n",
       "    <tr>\n",
       "      <th>16</th>\n",
       "      <td>sand_7</td>\n",
       "      <td>2835.00000</td>\n",
       "    </tr>\n",
       "  </tbody>\n",
       "</table>\n",
       "</div>"
      ],
      "text/plain": [
       "         Formation name   Depth [m]\n",
       "0            WyanDot FM   867.15600\n",
       "1      DAWSON CANYON FM   984.50402\n",
       "2       LOGAN CANYON FM  1136.90400\n",
       "3   Upper MISSISAUGA FM  2251.25290\n",
       "4   Lower MISSISAUGA FM  3190.64640\n",
       "5            ABENAKI FM  3404.31120\n",
       "6           MID BACCARO  3485.08320\n",
       "7         Lower BACCARO  3964.53370\n",
       "8         Base O-Marker  2469.20700\n",
       "9                    TD  4268.00000\n",
       "10       Pay_sand_1-rft  2478.00000\n",
       "11           pay_sand_2  2499.00000\n",
       "12           pay_sand_3  2543.00000\n",
       "13           pay_sand_4  2637.00000\n",
       "14               sand_5  2699.00000\n",
       "15               sand_6  2795.00000\n",
       "16               sand_7  2835.00000"
      ]
     },
     "execution_count": 24,
     "metadata": {},
     "output_type": "execute_result"
    }
   ],
   "source": [
    "df"
   ]
  },
  {
   "cell_type": "code",
   "execution_count": 33,
   "metadata": {
    "collapsed": true
   },
   "outputs": [],
   "source": [
    "import pandas as pd\n",
    "\n",
    "df = pd.read_csv('../data/L-30_tops.txt', skiprows=1, names=['Formation', 'Depth'])"
   ]
  },
  {
   "cell_type": "code",
   "execution_count": 54,
   "metadata": {},
   "outputs": [
    {
     "data": {
      "text/html": [
       "<div>\n",
       "<table border=\"1\" class=\"dataframe\">\n",
       "  <thead>\n",
       "    <tr style=\"text-align: right;\">\n",
       "      <th></th>\n",
       "      <th>Formation</th>\n",
       "      <th>Depth</th>\n",
       "    </tr>\n",
       "  </thead>\n",
       "  <tbody>\n",
       "    <tr>\n",
       "      <th>0</th>\n",
       "      <td>Wyandot Fm</td>\n",
       "      <td>867.15600</td>\n",
       "    </tr>\n",
       "    <tr>\n",
       "      <th>1</th>\n",
       "      <td>Dawson Canyon Fm</td>\n",
       "      <td>984.50402</td>\n",
       "    </tr>\n",
       "    <tr>\n",
       "      <th>2</th>\n",
       "      <td>Logan Canyon Fm</td>\n",
       "      <td>1136.90400</td>\n",
       "    </tr>\n",
       "    <tr>\n",
       "      <th>3</th>\n",
       "      <td>Upper Missisauga Fm</td>\n",
       "      <td>2251.25290</td>\n",
       "    </tr>\n",
       "    <tr>\n",
       "      <th>4</th>\n",
       "      <td>Lower Missisauga Fm</td>\n",
       "      <td>3190.64640</td>\n",
       "    </tr>\n",
       "    <tr>\n",
       "      <th>5</th>\n",
       "      <td>Abenaki Fm</td>\n",
       "      <td>3404.31120</td>\n",
       "    </tr>\n",
       "    <tr>\n",
       "      <th>6</th>\n",
       "      <td>Mid Baccaro</td>\n",
       "      <td>3485.08320</td>\n",
       "    </tr>\n",
       "    <tr>\n",
       "      <th>7</th>\n",
       "      <td>Lower Baccaro</td>\n",
       "      <td>3964.53370</td>\n",
       "    </tr>\n",
       "    <tr>\n",
       "      <th>8</th>\n",
       "      <td>Base O-Marker</td>\n",
       "      <td>2469.20700</td>\n",
       "    </tr>\n",
       "    <tr>\n",
       "      <th>9</th>\n",
       "      <td>Td</td>\n",
       "      <td>4268.00000</td>\n",
       "    </tr>\n",
       "    <tr>\n",
       "      <th>10</th>\n",
       "      <td>Pay_Sand_1-Rft</td>\n",
       "      <td>2478.00000</td>\n",
       "    </tr>\n",
       "    <tr>\n",
       "      <th>11</th>\n",
       "      <td>Pay_Sand_2</td>\n",
       "      <td>2499.00000</td>\n",
       "    </tr>\n",
       "    <tr>\n",
       "      <th>12</th>\n",
       "      <td>Pay_Sand_3</td>\n",
       "      <td>2543.00000</td>\n",
       "    </tr>\n",
       "    <tr>\n",
       "      <th>13</th>\n",
       "      <td>Pay_Sand_4</td>\n",
       "      <td>2637.00000</td>\n",
       "    </tr>\n",
       "    <tr>\n",
       "      <th>14</th>\n",
       "      <td>Sand_5</td>\n",
       "      <td>2699.00000</td>\n",
       "    </tr>\n",
       "    <tr>\n",
       "      <th>15</th>\n",
       "      <td>Sand_6</td>\n",
       "      <td>2795.00000</td>\n",
       "    </tr>\n",
       "    <tr>\n",
       "      <th>16</th>\n",
       "      <td>Sand_7</td>\n",
       "      <td>2835.00000</td>\n",
       "    </tr>\n",
       "  </tbody>\n",
       "</table>\n",
       "</div>"
      ],
      "text/plain": [
       "              Formation       Depth\n",
       "0            Wyandot Fm   867.15600\n",
       "1      Dawson Canyon Fm   984.50402\n",
       "2       Logan Canyon Fm  1136.90400\n",
       "3   Upper Missisauga Fm  2251.25290\n",
       "4   Lower Missisauga Fm  3190.64640\n",
       "5            Abenaki Fm  3404.31120\n",
       "6           Mid Baccaro  3485.08320\n",
       "7         Lower Baccaro  3964.53370\n",
       "8         Base O-Marker  2469.20700\n",
       "9                    Td  4268.00000\n",
       "10       Pay_Sand_1-Rft  2478.00000\n",
       "11           Pay_Sand_2  2499.00000\n",
       "12           Pay_Sand_3  2543.00000\n",
       "13           Pay_Sand_4  2637.00000\n",
       "14               Sand_5  2699.00000\n",
       "15               Sand_6  2795.00000\n",
       "16               Sand_7  2835.00000"
      ]
     },
     "execution_count": 54,
     "metadata": {},
     "output_type": "execute_result"
    }
   ],
   "source": [
    "df"
   ]
  },
  {
   "cell_type": "code",
   "execution_count": 55,
   "metadata": {},
   "outputs": [
    {
     "data": {
      "text/html": [
       "<div>\n",
       "<table border=\"1\" class=\"dataframe\">\n",
       "  <thead>\n",
       "    <tr style=\"text-align: right;\">\n",
       "      <th></th>\n",
       "      <th>Formation</th>\n",
       "      <th>Depth</th>\n",
       "    </tr>\n",
       "  </thead>\n",
       "  <tbody>\n",
       "    <tr>\n",
       "      <th>0</th>\n",
       "      <td>Wyandot Fm</td>\n",
       "      <td>867.15600</td>\n",
       "    </tr>\n",
       "    <tr>\n",
       "      <th>1</th>\n",
       "      <td>Dawson Canyon Fm</td>\n",
       "      <td>984.50402</td>\n",
       "    </tr>\n",
       "    <tr>\n",
       "      <th>2</th>\n",
       "      <td>Logan Canyon Fm</td>\n",
       "      <td>1136.90400</td>\n",
       "    </tr>\n",
       "    <tr>\n",
       "      <th>3</th>\n",
       "      <td>Upper Missisauga Fm</td>\n",
       "      <td>2251.25290</td>\n",
       "    </tr>\n",
       "    <tr>\n",
       "      <th>4</th>\n",
       "      <td>Lower Missisauga Fm</td>\n",
       "      <td>3190.64640</td>\n",
       "    </tr>\n",
       "  </tbody>\n",
       "</table>\n",
       "</div>"
      ],
      "text/plain": [
       "             Formation       Depth\n",
       "0           Wyandot Fm   867.15600\n",
       "1     Dawson Canyon Fm   984.50402\n",
       "2      Logan Canyon Fm  1136.90400\n",
       "3  Upper Missisauga Fm  2251.25290\n",
       "4  Lower Missisauga Fm  3190.64640"
      ]
     },
     "execution_count": 55,
     "metadata": {},
     "output_type": "execute_result"
    }
   ],
   "source": [
    "df['Formation'] = df['Formation'].str.title()\n",
    "df.head()"
   ]
  },
  {
   "cell_type": "code",
   "execution_count": 56,
   "metadata": {
    "collapsed": true
   },
   "outputs": [],
   "source": [
    "df.to_csv('../data/L-30_tops_improved.csv')"
   ]
  },
  {
   "cell_type": "markdown",
   "metadata": {
    "tags": [
     "exe"
    ]
   },
   "source": [
    "## Exercises\n",
    "\n",
    "- Read the data from B-41_tops.txt\n",
    "- Write a function that will load data from either of these files\n",
    "- Load the data to pandas\n",
    "- Write a new CSV files with the cleaned data"
   ]
  },
  {
   "cell_type": "code",
   "execution_count": 70,
   "metadata": {
    "collapsed": true,
    "tags": [
     "hide"
    ]
   },
   "outputs": [],
   "source": [
    "import sqlite3 as lite\n",
    "import sys\n",
    "\n",
    "con = lite.connect('tops.db')\n",
    "\n",
    "with con:\n",
    "    \n",
    "    cur = con.cursor()    \n",
    "    cur.execute(\"CREATE TABLE strat(formation TEXT, depth DECIMAL, age INT)\")\n",
    "    \n",
    "    for name, depth in tops.items():\n",
    "        cur.execute(\"INSERT INTO strat VALUES('{}',{},{})\".format(name, depth, 0))\n"
   ]
  },
  {
   "cell_type": "code",
   "execution_count": 71,
   "metadata": {
    "tags": [
     "hide"
    ]
   },
   "outputs": [
    {
     "name": "stdout",
     "output_type": "stream",
     "text": [
      "('Wyandot Fm', 867.156, 0)\n",
      "('Dawson Canyon Fm', 984.50402, 0)\n",
      "('Logan Canyon Fm', 1136.904, 0)\n",
      "('Upper Missisauga Fm', 2251.2529, 0)\n",
      "('Lower Missisauga Fm', 3190.6464, 0)\n",
      "('Abenaki Fm', 3404.3112, 0)\n",
      "('Mid Baccaro', 3485.0832, 0)\n",
      "('Lower Baccaro', 3964.5337, 0)\n",
      "('Base O-Marker', 2469.207, 0)\n",
      "('Td', 4268, 0)\n",
      "('Pay_Sand_1-Rft', 2478, 0)\n",
      "('Pay_Sand_2', 2499, 0)\n",
      "('Pay_Sand_3', 2543, 0)\n",
      "('Pay_Sand_4', 2637, 0)\n",
      "('Sand_5', 2699, 0)\n",
      "('Sand_6', 2795, 0)\n",
      "('Sand_7', 2835, 0)\n"
     ]
    }
   ],
   "source": [
    "con = lite.connect('tops.db')\n",
    "\n",
    "with con:    \n",
    "    \n",
    "    cur = con.cursor()    \n",
    "    cur.execute(\"SELECT * FROM strat\")\n",
    "\n",
    "    rows = cur.fetchall()\n",
    "\n",
    "    for row in rows:\n",
    "        print(row)"
   ]
  },
  {
   "cell_type": "code",
   "execution_count": null,
   "metadata": {
    "collapsed": true
   },
   "outputs": [],
   "source": []
  }
 ],
 "metadata": {
  "celltoolbar": "Tags",
  "kernelspec": {
   "display_name": "Python 3",
   "language": "python",
   "name": "python3"
  },
  "language_info": {
   "codemirror_mode": {
    "name": "ipython",
    "version": 3
   },
   "file_extension": ".py",
   "mimetype": "text/x-python",
   "name": "python",
   "nbconvert_exporter": "python",
   "pygments_lexer": "ipython3",
   "version": "3.5.4"
  }
 },
 "nbformat": 4,
 "nbformat_minor": 1
}
