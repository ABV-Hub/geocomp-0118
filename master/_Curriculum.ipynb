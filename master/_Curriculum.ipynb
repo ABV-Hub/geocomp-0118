{
 "cells": [
  {
   "cell_type": "markdown",
   "metadata": {
    "nbpresent": {
     "id": "601d0118-f7de-409d-a353-81c531c65795"
    }
   },
   "source": [
    "# Geocomputing course\n",
    "\n",
    "Welcome to geocomputing!"
   ]
  },
  {
   "cell_type": "markdown",
   "metadata": {
    "nbpresent": {
     "id": "e99ff0b0-dbc5-4334-a0c1-b64fd43df906"
    }
   },
   "source": [
    "## Day 1. Introduction to Python\n",
    "\n",
    "- Install flailing\n",
    "- A couple of quick demos\n",
    "- Quick course overview\n",
    "- Introductions\n",
    "- [**Intro to Python**](../notebooks/Intro_to_Python.ipynb)\n",
    "\n",
    "\n",
    "- Check in\n",
    "- [**Intro to functions**](../notebooks/Intro_to_functions.ipynb)\n",
    "- [**Practice functions**](../notebooks/Practice_functions.ipynb)\n",
    "- [**Reading data from files**](../notebooks/Reading_data_from_files.ipynb)\n",
    "- Personal projects\n",
    "- Check out"
   ]
  },
  {
   "cell_type": "markdown",
   "metadata": {
    "nbpresent": {
     "id": "2bef1a51-4c16-4878-8dee-5b4b2b0d97a8"
    }
   },
   "source": [
    "## Day 2. Introduction to scientific computing\n",
    "\n",
    "- Check in\n",
    "- Leftovers\n",
    "- [**Intro to NumPy**](../notebooks/Intro_to_NumPy.ipynb)\n",
    "- [**Practice NumPy**](../notebooks/Practice_NumPy.ipynb)\n",
    "\n",
    "\n",
    "- Lightning talks\n",
    "- [**Intro to matplotlib**](../notebooks/Intro_to_matplotlib.ipynb)\n",
    "- [**Intro to seismic data**](../notebooks/Intro_to_seismic_data.ipynb)\n",
    "- [**Dealing with images**](../notebooks/Dealing_with_images.ipynb)\n",
    "- Review\n",
    "- Check out"
   ]
  },
  {
   "cell_type": "markdown",
   "metadata": {
    "nbpresent": {
     "id": "46020cb0-0041-4fa9-813f-20fa44396679"
    }
   },
   "source": [
    "## Day 3. Practical programming\n",
    "\n",
    "- Check in\n",
    "- [**Synthetic seismogram**](../notebooks/Synthetic_seismogram.ipynb)\n",
    "- **Running Python scripts**\n",
    "- **Command line utilities**\n",
    "- **Modules and packages**\n",
    "\n",
    "\n",
    "- Lightning talks\n",
    "- [**Introduction to web applications**](../notebooks/Flask_getting_started.ipynb)\n",
    "- Project brainstorm\n",
    "- Check out"
   ]
  },
  {
   "cell_type": "markdown",
   "metadata": {
    "nbpresent": {
     "id": "26a3f466-2dad-46ce-8fb2-ea66682f393c"
    }
   },
   "source": [
    "## Day 4.\n",
    "\n",
    "- Check in\n",
    "- **Finish off web apps**\n",
    "- [**Introduction to machine learning**](../data/notebooks/Intro_to_machine_learning_classification.ipynb)\n",
    "\n",
    "\n",
    "- Lightning talks\n",
    "- [**More machine learning**](../data/notebooks/Intro_to_Machine_learning_regression.ipynb)\n",
    "- **Wrap up machine learning**\n",
    "- Project round-up and form teams for Day 5"
   ]
  },
  {
   "cell_type": "markdown",
   "metadata": {
    "nbpresent": {
     "id": "66c2d7cf-2fb1-4f2a-bc3e-f6601928811e"
    }
   },
   "source": [
    "## Day 5. Hackathon\n",
    "\n",
    "- Project headlines\n",
    "- **Code all day!**\n",
    "- Demos at 3 o'clock."
   ]
  },
  {
   "cell_type": "markdown",
   "metadata": {
    "collapsed": true,
    "nbpresent": {
     "id": "8a962158-b836-405f-a3bb-ef2bc1d7dfd6"
    }
   },
   "source": [
    "----\n",
    "\n",
    "## Optional segments\n",
    "\n",
    "### Programming\n",
    "\n",
    "- [Intro to testing](../notebooks/Intro_to_testing.ipynb)\n",
    "- [Intro to documentation](../notebooks/Intro_to_documentation.ipynb)\n",
    "- [Intro to OOP](../notebooks/Intro_to_OOP.ipynb)\n",
    "- [Practice OOP](../notebooks/Practice_OOP.ipynb)\n",
    "\n",
    "\n",
    "### File formats\n",
    "\n",
    "- [Dealing with images](../notebooks/Dealing_with_images.ipynb)\n",
    "- [Read and write LAS](../notebooks/Read_and_write_LAS.ipynb)\n",
    "- [Read SEGY with segyio](../notebooks/Read_SEG-Y_with_SegyIO.ipynb)\n",
    "- [Write SEGY with ObsPy](../notebooks/Write_SEGY_with_ObsPy.ipynb)\n",
    "\n",
    "\n",
    "### Geoscience\n",
    "\n",
    "- [Volumetrics](../notebooks/Volumetrics.ipynb)\n",
    "- [Get info from web](../notebooks/Get_info_from_web.ipynb)\n",
    "- [Intro to bruges](../notebooks/Intro_to_bruges.ipynb)\n",
    "- [Synthetic wedge](../notebooks/Synthetic_wedge.ipynb)\n",
    "- [Gridding map data](../notebooks/Gridding_map_data.ipynb)\n",
    "- [Intro to AVO](../notebooks/Intro_to_AVO.ipynb)\n",
    "- [Wavelets and sweeps](../notebooks/Wavelets_and_sweeps.ipynb)\n",
    "- [Find and analyse seismograph data](../notebooks/Find_and_analyse_seismograph_data.ipynb)\n",
    "- [Photomicrograph segmentation](../notebooks/Image_segmentation.ipynb)"
   ]
  }
 ],
 "metadata": {
  "anaconda-cloud": {},
  "kernelspec": {
   "display_name": "Python [conda env:geocomp]",
   "language": "python",
   "name": "conda-env-geocomp-py"
  },
  "language_info": {
   "codemirror_mode": {
    "name": "ipython",
    "version": 3
   },
   "file_extension": ".py",
   "mimetype": "text/x-python",
   "name": "python",
   "nbconvert_exporter": "python",
   "pygments_lexer": "ipython3",
   "version": "3.6.3"
  }
 },
 "nbformat": 4,
 "nbformat_minor": 1
}
