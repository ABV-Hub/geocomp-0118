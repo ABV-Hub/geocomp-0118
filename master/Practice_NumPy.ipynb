{
 "cells": [
  {
   "cell_type": "markdown",
   "metadata": {},
   "source": [
    "# Practice NumPy\n",
    "\n",
    "Make sure you look at [`Intro_to_NumPy.ipynb`](Intro_to_NumPy.ipynb) first!"
   ]
  },
  {
   "cell_type": "code",
   "execution_count": 4,
   "metadata": {
    "collapsed": true
   },
   "outputs": [],
   "source": [
    "import numpy as np\n",
    "\n",
    "from utils import vp_from_dt, impedance, rc_series"
   ]
  },
  {
   "cell_type": "code",
   "execution_count": 5,
   "metadata": {
    "collapsed": true
   },
   "outputs": [],
   "source": [
    "test = np.random.random(10000000)"
   ]
  },
  {
   "cell_type": "code",
   "execution_count": 6,
   "metadata": {},
   "outputs": [
    {
     "name": "stdout",
     "output_type": "stream",
     "text": [
      "4.49 s ± 60.2 ms per loop (mean ± std. dev. of 7 runs, 1 loop each)\n"
     ]
    }
   ],
   "source": [
    "%timeit rc_series(test)"
   ]
  },
  {
   "cell_type": "markdown",
   "metadata": {},
   "source": [
    "Note that the log has to be fairly big for the benchmarking to work properly, because otherwise the CPU caches the computation and this skews the results."
   ]
  },
  {
   "cell_type": "markdown",
   "metadata": {},
   "source": [
    "Now we can re-write our function using arrays instead of lists. Let's just remind ourselves of what it looked like before:"
   ]
  },
  {
   "cell_type": "code",
   "execution_count": 7,
   "metadata": {},
   "outputs": [
    {
     "name": "stdout",
     "output_type": "stream",
     "text": [
      "def rc_series(z):\n",
      "    upper = z[:-1]\n",
      "    lower = z[1:]\n",
      "    rc = []\n",
      "    for u, l in zip(upper, lower):\n",
      "        rc.append((l-u)/(l+u))\n",
      "    return rc\n",
      "\n"
     ]
    }
   ],
   "source": [
    "import inspect\n",
    "print(inspect.getsource(rc_series))"
   ]
  },
  {
   "cell_type": "markdown",
   "metadata": {
    "tags": [
     "exercise"
    ]
   },
   "source": [
    "## Exercise\n",
    "\n",
    "- Rewrite the `rc_series()` function to get rid of the loop. Remember that the math operations work on the entire array at once.\n",
    "- Time your new version on the `test` data and compare to the loop version."
   ]
  },
  {
   "cell_type": "code",
   "execution_count": 8,
   "metadata": {
    "collapsed": true
   },
   "outputs": [],
   "source": [
    "def rc_vector(layers):\n",
    "    \n",
    "    # Your code here.\n",
    "    \n",
    "    return rc"
   ]
  },
  {
   "cell_type": "code",
   "execution_count": 22,
   "metadata": {},
   "outputs": [
    {
     "data": {
      "text/plain": [
       "array([ 1.        ,  0.33333333,  0.2       ,  0.14285714,  0.11111111,\n",
       "        0.09090909,  0.07692308,  0.06666667,  0.05882353])"
      ]
     },
     "execution_count": 22,
     "metadata": {},
     "output_type": "execute_result"
    }
   ],
   "source": [
    "z = np.arange(10)\n",
    "rc_vector(z)"
   ]
  },
  {
   "cell_type": "markdown",
   "metadata": {},
   "source": [
    "You should get the same output as you did before:"
   ]
  },
  {
   "cell_type": "code",
   "execution_count": 10,
   "metadata": {},
   "outputs": [
    {
     "data": {
      "text/plain": [
       "[1.0,\n",
       " 0.33333333333333331,\n",
       " 0.20000000000000001,\n",
       " 0.14285714285714285,\n",
       " 0.1111111111111111,\n",
       " 0.090909090909090912,\n",
       " 0.076923076923076927,\n",
       " 0.066666666666666666,\n",
       " 0.058823529411764705]"
      ]
     },
     "execution_count": 10,
     "metadata": {},
     "output_type": "execute_result"
    }
   ],
   "source": [
    "z = np.arange(10)\n",
    "rc_series(z)"
   ]
  },
  {
   "cell_type": "code",
   "execution_count": 11,
   "metadata": {
    "collapsed": true,
    "tags": [
     "hide"
    ]
   },
   "outputs": [],
   "source": [
    "def rc_vector(z):\n",
    "    uppers = z[:-1]\n",
    "    lowers = z[1:]\n",
    "    return (lowers - uppers) / (uppers + lowers)"
   ]
  },
  {
   "cell_type": "code",
   "execution_count": 12,
   "metadata": {
    "tags": [
     "hide"
    ]
   },
   "outputs": [
    {
     "name": "stdout",
     "output_type": "stream",
     "text": [
      "78.8 ms ± 1.04 ms per loop (mean ± std. dev. of 7 runs, 10 loops each)\n"
     ]
    }
   ],
   "source": [
    "%timeit rc_vector(test)"
   ]
  },
  {
   "cell_type": "markdown",
   "metadata": {
    "tags": [
     "hide"
    ]
   },
   "source": [
    "60+ times faster on my machine!"
   ]
  },
  {
   "cell_type": "markdown",
   "metadata": {
    "tags": [
     "exercise"
    ]
   },
   "source": [
    "## Exercise\n",
    "\n",
    "- Run the `rc_series` function on the log data to make an RC series array.\n",
    "- Add the vectorized version to the file `utils.py`."
   ]
  },
  {
   "cell_type": "code",
   "execution_count": 15,
   "metadata": {
    "collapsed": true
   },
   "outputs": [],
   "source": [
    "from welly import Well\n",
    "\n",
    "w = Well.from_las('../data/R-39.las')\n",
    "\n",
    "dt = np.array(w.data['DT4P'])\n",
    "rhob = np.array(w.data['RHOB'])"
   ]
  },
  {
   "cell_type": "code",
   "execution_count": 25,
   "metadata": {
    "collapsed": true
   },
   "outputs": [],
   "source": [
    "vp =  # Your code here\n",
    "z =   # Your code here\n",
    "rc =  # Your code here"
   ]
  },
  {
   "cell_type": "code",
   "execution_count": 16,
   "metadata": {
    "collapsed": true,
    "tags": [
     "hide"
    ]
   },
   "outputs": [],
   "source": [
    "vp = vp_from_dt(dt)"
   ]
  },
  {
   "cell_type": "code",
   "execution_count": 17,
   "metadata": {
    "collapsed": true,
    "tags": [
     "hide"
    ]
   },
   "outputs": [],
   "source": [
    "z = impedance(vp, rhob)"
   ]
  },
  {
   "cell_type": "code",
   "execution_count": 18,
   "metadata": {
    "collapsed": true,
    "tags": [
     "hide"
    ]
   },
   "outputs": [],
   "source": [
    "rc = rc_series(z)"
   ]
  },
  {
   "cell_type": "code",
   "execution_count": 19,
   "metadata": {
    "tags": [
     "hide"
    ]
   },
   "outputs": [
    {
     "data": {
      "text/plain": [
       "[0.00088800429199709151,\n",
       " 0.00042668570200545187,\n",
       " 0.00086730096657770697,\n",
       " -0.0010406009309613957,\n",
       " -0.00083023113831957396,\n",
       " 0.00084322362252095605,\n",
       " 0.00090627409322461628,\n",
       " 3.2456371927591016e-05,\n",
       " -0.0017628465379843968,\n",
       " -0.0014637098104735337]"
      ]
     },
     "execution_count": 19,
     "metadata": {},
     "output_type": "execute_result"
    }
   ],
   "source": [
    "rc[:10]"
   ]
  },
  {
   "cell_type": "markdown",
   "metadata": {},
   "source": [
    "## A very brief introduction to plotting"
   ]
  },
  {
   "cell_type": "code",
   "execution_count": 20,
   "metadata": {},
   "outputs": [
    {
     "data": {
      "text/plain": [
       "[<matplotlib.lines.Line2D at 0x1825bea470>]"
      ]
     },
     "execution_count": 20,
     "metadata": {},
     "output_type": "execute_result"
    },
    {
     "data": {
      "image/png": "[encoded data removed]",
      "text/plain": [
       "<matplotlib.figure.Figure at 0x1096a3358>"
      ]
     },
     "metadata": {},
     "output_type": "display_data"
    }
   ],
   "source": [
    "%matplotlib inline\n",
    "import matplotlib.pyplot as plt\n",
    "\n",
    "plt.plot(rc)"
   ]
  },
  {
   "cell_type": "code",
   "execution_count": 35,
   "metadata": {},
   "outputs": [
    {
     "data": {
      "text/plain": [
       "[<matplotlib.lines.Line2D at 0x7fc1c019a9e8>]"
      ]
     },
     "execution_count": 35,
     "metadata": {},
     "output_type": "execute_result"
    },
    {
     "data": {
      "image/png": "[encoded data removed]",
      "text/plain": [
       "<matplotlib.figure.Figure at 0x7fc1ca667c18>"
      ]
     },
     "metadata": {},
     "output_type": "display_data"
    }
   ],
   "source": [
    "plt.plot(rc[:200])"
   ]
  },
  {
   "cell_type": "code",
   "execution_count": 38,
   "metadata": {},
   "outputs": [
    {
     "data": {
      "text/plain": [
       "<Container object of 3 artists>"
      ]
     },
     "execution_count": 38,
     "metadata": {},
     "output_type": "execute_result"
    },
    {
     "data": {
      "image/png": "[encoded data removed]",
      "text/plain": [
       "<matplotlib.figure.Figure at 0x7fc1b86a9ef0>"
      ]
     },
     "metadata": {},
     "output_type": "display_data"
    }
   ],
   "source": [
    "plt.stem(rc[75:125])"
   ]
  },
  {
   "cell_type": "code",
   "execution_count": 34,
   "metadata": {},
   "outputs": [
    {
     "data": {
      "text/plain": [
       "[<matplotlib.lines.Line2D at 0x7fc1c01c9198>]"
      ]
     },
     "execution_count": 34,
     "metadata": {},
     "output_type": "execute_result"
    },
    {
     "data": {
      "image/png": "[encoded data removed]",
      "text/plain": [
       "<matplotlib.figure.Figure at 0x7fc1c026fcf8>"
      ]
     },
     "metadata": {},
     "output_type": "display_data"
    }
   ],
   "source": [
    "theta = np.arange(0, np.pi, 0.1)\n",
    "y = np.sin(theta)**2\n",
    "\n",
    "s = np.convolve(y, rc)\n",
    "plt.plot(s[:200])"
   ]
  },
  {
   "cell_type": "markdown",
   "metadata": {},
   "source": [
    "## Vsh\n",
    "\n",
    "_V_<sub>sh</sub> or _V_<sub>shale</sub> is the volume of shale in a given volume of rock. Often synonymous with _V_<sub>clay</sub>, though strictly speaking this should be measured at a different scale: _V_<sub>clay</sub> pertains to a rock, whereas _V_<sub>sh</sub> pertains to an interval of strata. \n",
    "\n",
    "It is possible to calculate _V_<sub>sh</sub> from spectral gamma-ray CGR curve data (usually where GR comes from):\n",
    "\n",
    "$$x = \\frac{\\mathsf{CGR}_\\mathrm{zone} - \\mathsf{CGR}_\\mathrm{clean}}{\\mathsf{CGR}_\\mathrm{shale} - \\mathsf{CGR}_\\mathrm{clean}}$$\n",
    "\n",
    "In many circumstances, _x_ can be used as _V_<sub>sh</sub>. Alternatively, one of the following corrections can be optionally applied:\n",
    "\n",
    "$V_\\mathrm{sh} = \\frac{0.5x}{1.5-x}$\n",
    "\n",
    "$V_\\mathrm{sh} = 1.7 - \\sqrt{3.38 - (x + 0.7)2}$"
   ]
  },
  {
   "cell_type": "markdown",
   "metadata": {
    "tags": [
     "exercise"
    ]
   },
   "source": [
    "### Exercise\n",
    "\n",
    "Implement the Vsh equation.\n",
    "\n",
    "- Your function should work on scalars and on arrays or other sequences.\n",
    "- The function should never return a number outside the closed interaval [0, 1].\n",
    "- Write a docstring and tests for your function.\n",
    "- Apply your function to the GR log from the well `w`"
   ]
  },
  {
   "cell_type": "code",
   "execution_count": 13,
   "metadata": {
    "collapsed": true
   },
   "outputs": [],
   "source": [
    "def vshale(cgr, clean, shale):\n",
    "\n",
    "    # Your code here!\n",
    "    \n",
    "    return vsh"
   ]
  },
  {
   "cell_type": "code",
   "execution_count": null,
   "metadata": {
    "collapsed": true
   },
   "outputs": [],
   "source": [
    "cgr = [40, 50, 80, 100, 120, 80, np.nan, 10]\n",
    "vshale(cgr, clean=40, shale=100)"
   ]
  },
  {
   "cell_type": "markdown",
   "metadata": {},
   "source": [
    "This should yield:\n",
    "\n",
    "    array([ 0.    ,  0.0625,  0.4   ,  1.    ,  1.    ,  0.4   ,     nan,  0.    ])"
   ]
  },
  {
   "cell_type": "code",
   "execution_count": 41,
   "metadata": {
    "collapsed": true,
    "tags": [
     "hide"
    ]
   },
   "outputs": [],
   "source": [
    "def vshale(cgr, clean, shale):\n",
    "    \"\"\"\n",
    "    Compute VSH for arrays or single values.\n",
    "    \"\"\"\n",
    "    cgr = np.atleast_1d(cgr)\n",
    "    \n",
    "    # If we don't like the warnings, we can temporarily\n",
    "    # replace the nans.\n",
    "    nans = np.isnan(cgr)\n",
    "    cgr[np.isnan(cgr)] = 0\n",
    "\n",
    "    x = (cgr - clean) / (shale - clean)\n",
    "    vsh = 0.5 * x / (1.5 - x)\n",
    "    \n",
    "    # Make sure we're in the interval [0, 1]\n",
    "    vsh[vsh > 1] = 1\n",
    "    vsh[vsh < 0] = 0\n",
    "\n",
    "    # Replace the nans.\n",
    "    vsh[nans] = np.nan\n",
    "    \n",
    "    return np.squeeze(vsh)"
   ]
  },
  {
   "cell_type": "code",
   "execution_count": 21,
   "metadata": {
    "tags": [
     "hide"
    ]
   },
   "outputs": [
    {
     "data": {
      "text/plain": [
       "array([ 0.    ,  0.0625,  0.4   ,  1.    ,  1.    ,  0.4   ,     nan,  0.    ])"
      ]
     },
     "execution_count": 21,
     "metadata": {},
     "output_type": "execute_result"
    }
   ],
   "source": [
    "vshale(cgr, clean=40, shale=100)"
   ]
  },
  {
   "cell_type": "code",
   "execution_count": 22,
   "metadata": {
    "tags": [
     "hide"
    ]
   },
   "outputs": [
    {
     "data": {
      "text/plain": [
       "array(0.02941176470588235)"
      ]
     },
     "execution_count": 22,
     "metadata": {},
     "output_type": "execute_result"
    }
   ],
   "source": [
    "vshale(45, 40, 100)"
   ]
  },
  {
   "cell_type": "code",
   "execution_count": 49,
   "metadata": {
    "tags": [
     "hide"
    ]
   },
   "outputs": [
    {
     "data": {
      "text/plain": [
       "[<matplotlib.lines.Line2D at 0x7fc1afffffd0>]"
      ]
     },
     "execution_count": 49,
     "metadata": {},
     "output_type": "execute_result"
    },
    {
     "data": {
      "image/png": "[encoded data removed]",
      "text/plain": [
       "<matplotlib.figure.Figure at 0x7fc1b8062908>"
      ]
     },
     "metadata": {},
     "output_type": "display_data"
    }
   ],
   "source": [
    "vsh = vshale(w.data['GR'], 40, 100)\n",
    "depth = w.data['GR'].basis\n",
    "\n",
    "plt.figure(figsize=(2, 8))\n",
    "plt.plot(vsh[:200], depth[:200])"
   ]
  },
  {
   "cell_type": "markdown",
   "metadata": {},
   "source": [
    "<hr />\n",
    "\n",
    "<div>\n",
    "<img src=\"https://avatars1.githubusercontent.com/u/1692321?s=50\"><p style=\"text-align:center\">© Agile Geoscience 2016</p>\n",
    "</div>"
   ]
  }
 ],
 "metadata": {
  "anaconda-cloud": {},
  "celltoolbar": "Tags",
  "kernelspec": {
   "display_name": "Python [conda env:geocomp]",
   "language": "python",
   "name": "conda-env-geocomp-py"
  },
  "language_info": {
   "codemirror_mode": {
    "name": "ipython",
    "version": 3
   },
   "file_extension": ".py",
   "mimetype": "text/x-python",
   "name": "python",
   "nbconvert_exporter": "python",
   "pygments_lexer": "ipython3",
   "version": "3.6.3"
  }
 },
 "nbformat": 4,
 "nbformat_minor": 1
}
