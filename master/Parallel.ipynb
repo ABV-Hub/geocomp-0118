{
 "cells": [
  {
   "cell_type": "markdown",
   "metadata": {},
   "source": [
    "# Parallel computing in the notebook\n",
    "\n",
    "We can use the IPython `ipyparallel` environment for parallel computing right in the notebook.\n",
    "\n",
    "[Read the docs.](https://ipyparallel.readthedocs.io/en/latest/intro.html)\n",
    "\n",
    "[See also.](https://github.com/ResearchComputing/jupyter-at-rc/wiki/Parallel-Programming-with-Jupyter-Notebooks)"
   ]
  },
  {
   "cell_type": "markdown",
   "metadata": {},
   "source": [
    "## Getting started\n",
    "\n",
    "[To install](https://ipyparallel.readthedocs.io/en/latest/index.html):\n",
    "\n",
    "    conda install ipyparallel\n",
    "    ipcluster nbextension enable\n",
    "    \n",
    "If that doesn't work, try doing `conda install jupyter` first."
   ]
  },
  {
   "cell_type": "code",
   "execution_count": 1,
   "metadata": {
    "collapsed": true
   },
   "outputs": [],
   "source": [
    "import numpy as np\n",
    "import ipyparallel as ipp"
   ]
  },
  {
   "cell_type": "markdown",
   "metadata": {},
   "source": [
    "## A little demo"
   ]
  },
  {
   "cell_type": "code",
   "execution_count": 2,
   "metadata": {},
   "outputs": [
    {
     "data": {
      "text/plain": [
       "[0, 1, 2, 3, 4, 5, 6, 7]"
      ]
     },
     "execution_count": 2,
     "metadata": {},
     "output_type": "execute_result"
    }
   ],
   "source": [
    "c = ipp.Client()\n",
    "c.ids"
   ]
  },
  {
   "cell_type": "markdown",
   "metadata": {},
   "source": [
    "If this doesn't work, the cluster is not running. One of these should work:\n",
    "\n",
    "- Go to the Clusters tab in Jupyter and start the cluster from there. (For some reason this doesn't currently work for me.)\n",
    "- Go to the command line and type this:\n",
    "\n",
    "      ipcluster start -n 6\n",
    "    \n",
    "(Or substitute the number of cores you want.)"
   ]
  },
  {
   "cell_type": "code",
   "execution_count": 3,
   "metadata": {
    "collapsed": true
   },
   "outputs": [],
   "source": [
    "# DirectView\n",
    "dview = c[:]"
   ]
  },
  {
   "cell_type": "code",
   "execution_count": 4,
   "metadata": {},
   "outputs": [
    {
     "data": {
      "text/plain": [
       "['Hello world',\n",
       " 'Hello world',\n",
       " 'Hello world',\n",
       " 'Hello world',\n",
       " 'Hello world',\n",
       " 'Hello world',\n",
       " 'Hello world',\n",
       " 'Hello world']"
      ]
     },
     "execution_count": 4,
     "metadata": {},
     "output_type": "execute_result"
    }
   ],
   "source": [
    "dview.apply_sync(lambda: \"Hello world\")"
   ]
  },
  {
   "cell_type": "markdown",
   "metadata": {},
   "source": [
    "Let's now try mapping a math function (as a `lambda`) to all the numbers up to 10 million:"
   ]
  },
  {
   "cell_type": "code",
   "execution_count": 13,
   "metadata": {},
   "outputs": [
    {
     "name": "stdout",
     "output_type": "stream",
     "text": [
      "23.7 s ± 304 ms per loop (mean ± std. dev. of 7 runs, 1 loop each)\n"
     ]
    }
   ],
   "source": [
    "%timeit list(map(lambda x: (x**3.14159)**0.5, range(int(1e7))))"
   ]
  },
  {
   "cell_type": "code",
   "execution_count": 14,
   "metadata": {
    "scrolled": true
   },
   "outputs": [
    {
     "name": "stdout",
     "output_type": "stream",
     "text": [
      "13.9 s ± 448 ms per loop (mean ± std. dev. of 7 runs, 1 loop each)\n"
     ]
    }
   ],
   "source": [
    "%timeit list(dview.map_sync(lambda x: (x**3.14159)**0.5, range(int(1e7))))"
   ]
  },
  {
   "cell_type": "markdown",
   "metadata": {},
   "source": [
    "With 8 cores, that's a reduction in time of about 40%, from ca. 2.4 s on one core to 1.4 on eight."
   ]
  },
  {
   "cell_type": "markdown",
   "metadata": {},
   "source": [
    "## `%px` magic\n",
    "\n",
    "We can do parallel execution easily with a magic:"
   ]
  },
  {
   "cell_type": "code",
   "execution_count": 15,
   "metadata": {},
   "outputs": [
    {
     "name": "stdout",
     "output_type": "stream",
     "text": [
      "importing numpy on engine(s)\n"
     ]
    }
   ],
   "source": [
    "with c[:].sync_imports():\n",
    "    import numpy"
   ]
  },
  {
   "cell_type": "code",
   "execution_count": 16,
   "metadata": {
    "collapsed": true
   },
   "outputs": [],
   "source": [
    "%px a = numpy.random.rand(4, 4)"
   ]
  },
  {
   "cell_type": "code",
   "execution_count": 20,
   "metadata": {},
   "outputs": [
    {
     "data": {
      "text/plain": [
       "\u001b[0;31mOut[0:3]: \u001b[0m\n",
       "array([[ 0.03701927,  0.53774334,  0.44958466,  0.89284712],\n",
       "       [ 0.16523111,  0.50169926,  0.96849713,  0.35176255],\n",
       "       [ 0.25380272,  0.81994303,  0.28031714,  0.16830454],\n",
       "       [ 0.84968901,  0.27967622,  0.90894912,  0.65984922]])"
      ]
     },
     "metadata": {},
     "output_type": "display_data"
    },
    {
     "data": {
      "text/plain": [
       "\u001b[0;31mOut[1:3]: \u001b[0m\n",
       "array([[ 0.07710678,  0.62904108,  0.03239626,  0.61971934],\n",
       "       [ 0.99078508,  0.45049191,  0.49148635,  0.33234115],\n",
       "       [ 0.45242296,  0.47661924,  0.04298056,  0.5380677 ],\n",
       "       [ 0.46871512,  0.1392049 ,  0.82761392,  0.92057602]])"
      ]
     },
     "metadata": {},
     "output_type": "display_data"
    },
    {
     "data": {
      "text/plain": [
       "\u001b[0;31mOut[2:3]: \u001b[0m\n",
       "array([[ 0.47755782,  0.7779398 ,  0.85881187,  0.46616464],\n",
       "       [ 0.36717042,  0.74342638,  0.32894222,  0.76166346],\n",
       "       [ 0.32240941,  0.49473283,  0.21707251,  0.31168806],\n",
       "       [ 0.99247435,  0.04802051,  0.5545358 ,  0.17899133]])"
      ]
     },
     "metadata": {},
     "output_type": "display_data"
    },
    {
     "data": {
      "text/plain": [
       "\u001b[0;31mOut[3:3]: \u001b[0m\n",
       "array([[ 0.73110534,  0.00139245,  0.19784837,  0.47421884],\n",
       "       [ 0.31537955,  0.77746832,  0.34500844,  0.04950764],\n",
       "       [ 0.54524569,  0.9087478 ,  0.24922474,  0.18884121],\n",
       "       [ 0.51323712,  0.94718406,  0.25388826,  0.07001268]])"
      ]
     },
     "metadata": {},
     "output_type": "display_data"
    },
    {
     "data": {
      "text/plain": [
       "\u001b[0;31mOut[4:3]: \u001b[0m\n",
       "array([[ 0.77158134,  0.69796627,  0.97938771,  0.42326031],\n",
       "       [ 0.64858394,  0.70046635,  0.57153017,  0.20946679],\n",
       "       [ 0.24345341,  0.7238011 ,  0.6396564 ,  0.45897476],\n",
       "       [ 0.7651639 ,  0.56153819,  0.74853815,  0.91700093]])"
      ]
     },
     "metadata": {},
     "output_type": "display_data"
    },
    {
     "data": {
      "text/plain": [
       "\u001b[0;31mOut[5:3]: \u001b[0m\n",
       "array([[ 0.1920007 ,  0.38059109,  0.1287843 ,  0.80417254],\n",
       "       [ 0.84958604,  0.64542689,  0.80368946,  0.32733817],\n",
       "       [ 0.73366387,  0.16158646,  0.80335254,  0.07140604],\n",
       "       [ 0.3137122 ,  0.86613477,  0.62957465,  0.55042083]])"
      ]
     },
     "metadata": {},
     "output_type": "display_data"
    },
    {
     "data": {
      "text/plain": [
       "\u001b[0;31mOut[6:3]: \u001b[0m\n",
       "array([[ 0.37385365,  0.29406662,  0.00637818,  0.05550585],\n",
       "       [ 0.41579396,  0.30873879,  0.92848221,  0.12675799],\n",
       "       [ 0.5769089 ,  0.2849222 ,  0.19418576,  0.38765198],\n",
       "       [ 0.12798724,  0.80824266,  0.95212294,  0.8691391 ]])"
      ]
     },
     "metadata": {},
     "output_type": "display_data"
    },
    {
     "data": {
      "text/plain": [
       "\u001b[0;31mOut[7:3]: \u001b[0m\n",
       "array([[ 0.75582248,  0.28577498,  0.50809606,  0.98393874],\n",
       "       [ 0.33922415,  0.613402  ,  0.14156422,  0.27024774],\n",
       "       [ 0.93938644,  0.64325037,  0.4486949 ,  0.13230209],\n",
       "       [ 0.90007662,  0.96159618,  0.92573198,  0.05786313]])"
      ]
     },
     "metadata": {},
     "output_type": "display_data"
    }
   ],
   "source": [
    "%px a"
   ]
  },
  {
   "cell_type": "code",
   "execution_count": 17,
   "metadata": {},
   "outputs": [
    {
     "data": {
      "text/plain": [
       "\u001b[0;31mOut[0:2]: \u001b[0m\n",
       "array([ 1.98623425+0.j        ,  0.57268100+0.j        ,\n",
       "       -0.54001518+0.19381252j, -0.54001518-0.19381252j])"
      ]
     },
     "metadata": {},
     "output_type": "display_data"
    },
    {
     "data": {
      "text/plain": [
       "\u001b[0;31mOut[1:2]: \u001b[0marray([ 1.91343718,  0.46218753, -0.66650623, -0.2179632 ])"
      ]
     },
     "metadata": {},
     "output_type": "display_data"
    },
    {
     "data": {
      "text/plain": [
       "\u001b[0;31mOut[2:2]: \u001b[0m\n",
       "array([ 1.99547203+0.j      , -0.08917408+0.437758j, -0.08917408-0.437758j,\n",
       "       -0.20007584+0.j      ])"
      ]
     },
     "metadata": {},
     "output_type": "display_data"
    },
    {
     "data": {
      "text/plain": [
       "\u001b[0;31mOut[3:2]: \u001b[0m\n",
       "array([ 1.56988099+0.j        ,  0.48634515+0.j        ,\n",
       "       -0.11420753+0.02267252j, -0.11420753-0.02267252j])"
      ]
     },
     "metadata": {},
     "output_type": "display_data"
    },
    {
     "data": {
      "text/plain": [
       "\u001b[0;31mOut[4:2]: \u001b[0m\n",
       "array([ 2.45181526+0.j        ,  0.04391217+0.26334858j,\n",
       "        0.04391217-0.26334858j,  0.48906542+0.j        ])"
      ]
     },
     "metadata": {},
     "output_type": "display_data"
    },
    {
     "data": {
      "text/plain": [
       "\u001b[0;31mOut[5:2]: \u001b[0m\n",
       "array([ 2.02744443+0.j        , -0.02028533+0.49720693j,\n",
       "       -0.02028533-0.49720693j,  0.20432719+0.j        ])"
      ]
     },
     "metadata": {},
     "output_type": "display_data"
    },
    {
     "data": {
      "text/plain": [
       "\u001b[0;31mOut[6:2]: \u001b[0m\n",
       "array([ 1.63231000+0.j        ,  0.49537134+0.j        ,\n",
       "       -0.19088202+0.32879812j, -0.19088202-0.32879812j])"
      ]
     },
     "metadata": {},
     "output_type": "display_data"
    },
    {
     "data": {
      "text/plain": [
       "\u001b[0;31mOut[7:2]: \u001b[0m\n",
       "array([ 2.20548965+0.j        ,  0.37495345+0.j        ,\n",
       "       -0.35233030+0.34227802j, -0.35233030-0.34227802j])"
      ]
     },
     "metadata": {},
     "output_type": "display_data"
    }
   ],
   "source": [
    "%px numpy.linalg.eigvals(a)"
   ]
  },
  {
   "cell_type": "markdown",
   "metadata": {},
   "source": [
    "## Function decorator"
   ]
  },
  {
   "cell_type": "code",
   "execution_count": 21,
   "metadata": {
    "collapsed": true
   },
   "outputs": [],
   "source": [
    "np.random.seed(1)\n",
    "layers = np.random.random(int(1e6))"
   ]
  },
  {
   "cell_type": "code",
   "execution_count": 22,
   "metadata": {
    "collapsed": true
   },
   "outputs": [],
   "source": [
    "#@dview.parallel()  ## See remark below about this decorator.\n",
    "def compute_rc(layers):\n",
    "    \"\"\"\n",
    "    Computes reflection coefficients given\n",
    "    a list of layer impedances.\n",
    "    \"\"\"\n",
    "    uppers = layers[:-1]\n",
    "    lowers = layers[1:]\n",
    "    rcs = []\n",
    "    for pair in zip(lowers, uppers):\n",
    "        rc = (pair[1] - pair[0]) / (pair[1] + pair[0])\n",
    "        rcs.append(rc)\n",
    "    return rcs"
   ]
  },
  {
   "cell_type": "code",
   "execution_count": 23,
   "metadata": {
    "collapsed": true
   },
   "outputs": [],
   "source": [
    "def compute_rc_vector(layers):\n",
    "    layers = np.array(layers)\n",
    "    uppers = layers[:-1]\n",
    "    lowers = layers[1:]\n",
    "    return (lowers - uppers) / (uppers + lowers)"
   ]
  },
  {
   "cell_type": "markdown",
   "metadata": {},
   "source": [
    "#### list, serial"
   ]
  },
  {
   "cell_type": "code",
   "execution_count": 24,
   "metadata": {},
   "outputs": [
    {
     "name": "stdout",
     "output_type": "stream",
     "text": [
      "444 ms ± 5.18 ms per loop (mean ± std. dev. of 7 runs, 1 loop each)\n"
     ]
    }
   ],
   "source": [
    "%timeit compute_rc(layers)"
   ]
  },
  {
   "cell_type": "markdown",
   "metadata": {},
   "source": [
    "#### list, parallel"
   ]
  },
  {
   "cell_type": "code",
   "execution_count": 25,
   "metadata": {
    "collapsed": true
   },
   "outputs": [],
   "source": [
    "# NB This is the same as using @dview.parallel() to decorate the\n",
    "# original function when we defined it, as shown in that block.\n",
    "compute_rc_parallel = dview.parallel()(compute_rc)"
   ]
  },
  {
   "cell_type": "code",
   "execution_count": 26,
   "metadata": {},
   "outputs": [
    {
     "name": "stdout",
     "output_type": "stream",
     "text": [
      "17.1 ms ± 632 µs per loop (mean ± std. dev. of 7 runs, 100 loops each)\n"
     ]
    }
   ],
   "source": [
    "%timeit compute_rc_parallel(layers)"
   ]
  },
  {
   "cell_type": "markdown",
   "metadata": {},
   "source": [
    "#### ndarray, serial"
   ]
  },
  {
   "cell_type": "code",
   "execution_count": 27,
   "metadata": {},
   "outputs": [
    {
     "name": "stdout",
     "output_type": "stream",
     "text": [
      "The slowest run took 12.69 times longer than the fastest. This could mean that an intermediate result is being cached.\n",
      "76.3 ms ± 71.6 ms per loop (mean ± std. dev. of 7 runs, 100 loops each)\n"
     ]
    }
   ],
   "source": [
    "%timeit compute_rc_vector(layers)"
   ]
  },
  {
   "cell_type": "markdown",
   "metadata": {},
   "source": [
    "#### ndarray, parallel"
   ]
  },
  {
   "cell_type": "code",
   "execution_count": 28,
   "metadata": {
    "collapsed": true
   },
   "outputs": [],
   "source": [
    "compute_rc_vector_parallel = dview.parallel()(compute_rc_vector)"
   ]
  },
  {
   "cell_type": "code",
   "execution_count": 30,
   "metadata": {},
   "outputs": [
    {
     "name": "stdout",
     "output_type": "stream",
     "text": [
      "19.7 ms ± 3.46 ms per loop (mean ± std. dev. of 7 runs, 10 loops each)\n"
     ]
    }
   ],
   "source": [
    "%timeit compute_rc_vector_parallel(layers)"
   ]
  },
  {
   "cell_type": "markdown",
   "metadata": {},
   "source": [
    "## Parallel list comprehension\n",
    "\n",
    "Via `scatter` and `gather`. [From the docs](https://ipyparallel.readthedocs.io/en/latest/multiengine.html#scatter-and-gather):\n",
    "\n",
    "> Sometimes it is useful to partition a sequence and push the partitions to different engines. In MPI language, this is know as scatter/gather and we follow that terminology [...] `scatter()` is from the interactive IPython session to the engines and `gather()` is from the engines back to the interactive IPython session.\n",
    "\n",
    "We start by scattering the iterable (notice that we have to call list on everything because everything is lazily executed):"
   ]
  },
  {
   "cell_type": "code",
   "execution_count": 5,
   "metadata": {},
   "outputs": [
    {
     "data": {
      "text/plain": [
       "[range(0, 2),\n",
       " range(2, 4),\n",
       " range(4, 6),\n",
       " range(6, 8),\n",
       " range(8, 10),\n",
       " range(10, 12),\n",
       " range(12, 14),\n",
       " range(14, 16)]"
      ]
     },
     "execution_count": 5,
     "metadata": {},
     "output_type": "execute_result"
    }
   ],
   "source": [
    "dview.scatter('y', range(16))\n",
    "\n",
    "# And look at it:\n",
    "list(dview['y'])"
   ]
  },
  {
   "cell_type": "markdown",
   "metadata": {},
   "source": [
    "Now we can compute with the pieces, using the 'parallel execution' magic, `%px`:"
   ]
  },
  {
   "cell_type": "code",
   "execution_count": 6,
   "metadata": {},
   "outputs": [
    {
     "data": {
      "text/plain": [
       "[[0.0, 1.0],\n",
       " [2.970683691519495, 5.616421346404785],\n",
       " [8.824961595059897, 12.529639852302871],\n",
       " [16.68461129846666, 21.255717809934282],\n",
       " [26.216169488730305, 31.544188740351338],\n",
       " [37.22159676984888, 43.23290542839072],\n",
       " [49.564702683696815, 56.20521948320366],\n",
       " [63.14401424951226, 70.37173672923794]]"
      ]
     },
     "execution_count": 6,
     "metadata": {},
     "output_type": "execute_result"
    }
   ],
   "source": [
    "%px z = [(i**3.14159)**0.5 for i in y]\n",
    "list(dview['z'])"
   ]
  },
  {
   "cell_type": "markdown",
   "metadata": {},
   "source": [
    "Now cast back out to a Python sequence."
   ]
  },
  {
   "cell_type": "code",
   "execution_count": 7,
   "metadata": {},
   "outputs": [
    {
     "data": {
      "text/plain": [
       "[0.0,\n",
       " 1.0,\n",
       " 2.970683691519495,\n",
       " 5.616421346404785,\n",
       " 8.824961595059897,\n",
       " 12.529639852302871,\n",
       " 16.68461129846666,\n",
       " 21.255717809934282,\n",
       " 26.216169488730305,\n",
       " 31.544188740351338,\n",
       " 37.22159676984888,\n",
       " 43.23290542839072,\n",
       " 49.564702683696815,\n",
       " 56.20521948320366,\n",
       " 63.14401424951226,\n",
       " 70.37173672923794]"
      ]
     },
     "execution_count": 7,
     "metadata": {},
     "output_type": "execute_result"
    }
   ],
   "source": [
    "z = dview.gather('z')\n",
    "list(z)"
   ]
  },
  {
   "cell_type": "code",
   "execution_count": null,
   "metadata": {
    "collapsed": true
   },
   "outputs": [],
   "source": []
  }
 ],
 "metadata": {
  "kernelspec": {
   "display_name": "Python [conda env:geocomp]",
   "language": "python",
   "name": "conda-env-geocomp-py"
  },
  "language_info": {
   "codemirror_mode": {
    "name": "ipython",
    "version": 3
   },
   "file_extension": ".py",
   "mimetype": "text/x-python",
   "name": "python",
   "nbconvert_exporter": "python",
   "pygments_lexer": "ipython3",
   "version": "3.6.3"
  }
 },
 "nbformat": 4,
 "nbformat_minor": 1
}
