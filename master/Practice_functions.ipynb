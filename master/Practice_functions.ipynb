{
 "cells": [
  {
   "cell_type": "markdown",
   "metadata": {},
   "source": [
    "# Practice functions\n",
    "\n",
    "Review [`Intro_to_functions`](Intro_to_functions.ipynb) before coming in here.\n",
    "\n",
    "Our goal for this notebook is to get some practice writing functions. \n",
    "\n",
    "In doing so, we will implement a function to compute reflection coefficients from sequences of Vp and density values."
   ]
  },
  {
   "cell_type": "code",
   "execution_count": 1,
   "metadata": {
    "collapsed": true
   },
   "outputs": [],
   "source": [
    "import numpy as np\n",
    "\n",
    "% matplotlib inline\n",
    "import matplotlib.pyplot as plt"
   ]
  },
  {
   "cell_type": "markdown",
   "metadata": {},
   "source": [
    "Make some dummy data:"
   ]
  },
  {
   "cell_type": "code",
   "execution_count": 2,
   "metadata": {
    "collapsed": true
   },
   "outputs": [],
   "source": [
    "vp = [2300, 2400, 2500, 2300, 2600]\n",
    "rho = [2.45, 2.35, 2.45, 2.55, 2.80]"
   ]
  },
  {
   "cell_type": "markdown",
   "metadata": {},
   "source": [
    "Sometimes Vp data is in km/s and density is in g/cm<sup>3</sup>. Let's make a simple function to convert them to SI units."
   ]
  },
  {
   "cell_type": "code",
   "execution_count": 3,
   "metadata": {
    "collapsed": true
   },
   "outputs": [],
   "source": [
    "def convert_si(n):\n",
    "    \"\"\"\n",
    "    Convert vp or rhob from cgs to SI system.\n",
    "    \"\"\"\n",
    "    if n < 10:\n",
    "        n = n * 1000\n",
    "    return n"
   ]
  },
  {
   "cell_type": "code",
   "execution_count": 4,
   "metadata": {},
   "outputs": [
    {
     "data": {
      "text/plain": [
       "(2400, 2400.0)"
      ]
     },
     "execution_count": 4,
     "metadata": {},
     "output_type": "execute_result"
    }
   ],
   "source": [
    "convert_si(2400), convert_si(2.4)"
   ]
  },
  {
   "cell_type": "code",
   "execution_count": 17,
   "metadata": {},
   "outputs": [
    {
     "ename": "TypeError",
     "evalue": "'<' not supported between instances of 'list' and 'int'",
     "output_type": "error",
     "traceback": [
      "\u001b[0;31m---------------------------------------------------------------------------\u001b[0m",
      "\u001b[0;31mTypeError\u001b[0m                                 Traceback (most recent call last)",
      "\u001b[0;32m<ipython-input-17-e2b7aec09352>\u001b[0m in \u001b[0;36m<module>\u001b[0;34m()\u001b[0m\n\u001b[0;32m----> 1\u001b[0;31m \u001b[0mconvert_si\u001b[0m\u001b[0;34m(\u001b[0m\u001b[0mvp\u001b[0m\u001b[0;34m)\u001b[0m\u001b[0;34m\u001b[0m\u001b[0m\n\u001b[0m",
      "\u001b[0;32m<ipython-input-11-c6a4b166587e>\u001b[0m in \u001b[0;36mconvert_si\u001b[0;34m(n)\u001b[0m\n\u001b[1;32m      3\u001b[0m     \u001b[0mConvert\u001b[0m \u001b[0mvp\u001b[0m \u001b[0;32mor\u001b[0m \u001b[0mrhob\u001b[0m \u001b[0;32mfrom\u001b[0m \u001b[0mcgs\u001b[0m \u001b[0mto\u001b[0m \u001b[0mSI\u001b[0m \u001b[0msystem\u001b[0m\u001b[0;34m.\u001b[0m\u001b[0;34m\u001b[0m\u001b[0m\n\u001b[1;32m      4\u001b[0m     \"\"\"\n\u001b[0;32m----> 5\u001b[0;31m     \u001b[0;32mif\u001b[0m \u001b[0mn\u001b[0m \u001b[0;34m<\u001b[0m \u001b[0;36m10\u001b[0m\u001b[0;34m:\u001b[0m\u001b[0;34m\u001b[0m\u001b[0m\n\u001b[0m\u001b[1;32m      6\u001b[0m         \u001b[0mn\u001b[0m \u001b[0;34m=\u001b[0m \u001b[0mn\u001b[0m \u001b[0;34m*\u001b[0m \u001b[0;36m1000\u001b[0m\u001b[0;34m\u001b[0m\u001b[0m\n\u001b[1;32m      7\u001b[0m     \u001b[0;32mreturn\u001b[0m \u001b[0mn\u001b[0m\u001b[0;34m\u001b[0m\u001b[0m\n",
      "\u001b[0;31mTypeError\u001b[0m: '<' not supported between instances of 'list' and 'int'"
     ]
    }
   ],
   "source": [
    "convert_si(vp)"
   ]
  },
  {
   "cell_type": "markdown",
   "metadata": {
    "tags": [
     "exercise"
    ]
   },
   "source": [
    "### Exercise\n",
    "\n",
    "- Make a looping version of `convert_si()` called `convert_all()` that will treat the whole list at once. Use the `convert_si()` function inside it. If you get stuck, write the loop on its own first, then put it in a function.\n",
    "- Can you write a function containing a `for` loop to implement this equation?\n",
    "\n",
    "$$ Z = \\rho V_\\mathrm{P} $$\n",
    "\n",
    "You will find the function `zip()` useful. Try the code below to see what it does."
   ]
  },
  {
   "cell_type": "code",
   "execution_count": 3,
   "metadata": {},
   "outputs": [
    {
     "name": "stdout",
     "output_type": "stream",
     "text": [
      "(1, 10)\n",
      "(2, 11)\n",
      "(3, 12)\n"
     ]
    }
   ],
   "source": [
    "for pair in zip([1,2,3], [10,11,12]):\n",
    "    print(pair)"
   ]
  },
  {
   "cell_type": "code",
   "execution_count": null,
   "metadata": {
    "collapsed": true
   },
   "outputs": [],
   "source": [
    "def impedance(vp, rho):\n",
    "\n",
    "    # Your code here!\n",
    "    \n",
    "    return z"
   ]
  },
  {
   "cell_type": "code",
   "execution_count": 24,
   "metadata": {},
   "outputs": [
    {
     "data": {
      "text/plain": [
       "[5635.0, 5640.0, 6125.0, 5865.0, 7279.999999999999]"
      ]
     },
     "execution_count": 24,
     "metadata": {},
     "output_type": "execute_result"
    }
   ],
   "source": [
    "impedance(vp, rho)"
   ]
  },
  {
   "cell_type": "markdown",
   "metadata": {},
   "source": [
    "This should give you:\n",
    "\n",
    "    [5635.0, 5640.0, 6125.0, 5865.0, 7279.999999999999]"
   ]
  },
  {
   "cell_type": "code",
   "execution_count": 12,
   "metadata": {
    "collapsed": true,
    "tags": [
     "hide"
    ]
   },
   "outputs": [],
   "source": [
    "def convert_all(data):\n",
    "    \"\"\"\n",
    "    Convert vp or rhob from cgs to SI system.\n",
    "    \"\"\"\n",
    "    result = []\n",
    "    for d in data:\n",
    "        result.append(convert_si(d))\n",
    "    return result"
   ]
  },
  {
   "cell_type": "code",
   "execution_count": 13,
   "metadata": {
    "collapsed": true,
    "tags": [
     "hide"
    ]
   },
   "outputs": [],
   "source": [
    "def convert_all(data):\n",
    "    \"\"\"\n",
    "    Convert vp or rhob from cgs to SI system.\n",
    "    \"\"\"\n",
    "    return [convert_si(d) for d in data]"
   ]
  },
  {
   "cell_type": "code",
   "execution_count": 18,
   "metadata": {
    "tags": [
     "hide"
    ]
   },
   "outputs": [
    {
     "data": {
      "text/plain": [
       "[2300, 2400, 2500, 2300, 2600]"
      ]
     },
     "execution_count": 18,
     "metadata": {},
     "output_type": "execute_result"
    }
   ],
   "source": [
    "convert_all(vp)"
   ]
  },
  {
   "cell_type": "code",
   "execution_count": 19,
   "metadata": {
    "tags": [
     "hide"
    ]
   },
   "outputs": [
    {
     "data": {
      "text/plain": [
       "[2450.0, 2350.0, 2450.0, 2550.0, 2800.0]"
      ]
     },
     "execution_count": 19,
     "metadata": {},
     "output_type": "execute_result"
    }
   ],
   "source": [
    "convert_all(rho)"
   ]
  },
  {
   "cell_type": "code",
   "execution_count": 25,
   "metadata": {
    "collapsed": true,
    "tags": [
     "hide"
    ]
   },
   "outputs": [],
   "source": [
    "def impedance(vp, rho):\n",
    "    \"\"\"\n",
    "    Compute impedance given sequences of vp and rho.\n",
    "    \"\"\"\n",
    "    z = []\n",
    "    for v, r in zip(vp, rho):\n",
    "        z.append(v * r)\n",
    "    return z"
   ]
  },
  {
   "cell_type": "code",
   "execution_count": 26,
   "metadata": {
    "tags": [
     "hide"
    ]
   },
   "outputs": [
    {
     "data": {
      "text/plain": [
       "[5635.0, 5640.0, 6125.0, 5865.0, 7279.999999999999]"
      ]
     },
     "execution_count": 26,
     "metadata": {},
     "output_type": "execute_result"
    }
   ],
   "source": [
    "impedance(vp, rho)"
   ]
  },
  {
   "cell_type": "markdown",
   "metadata": {},
   "source": [
    "## Docstrings and doctests\n",
    "\n",
    "Let's add a docstring and doctests to our original function."
   ]
  },
  {
   "cell_type": "code",
   "execution_count": 20,
   "metadata": {
    "collapsed": true
   },
   "outputs": [],
   "source": [
    "def convert_si(n):\n",
    "    \"\"\"\n",
    "    Convert vp or rhob from cgs to SI system.\n",
    "    \n",
    "    >>> convert_si(2400)\n",
    "    2400\n",
    "    >>> convert_si(2.4)\n",
    "    2400.0\n",
    "    \"\"\"\n",
    "    if n < 10:\n",
    "        n = n * 1000\n",
    "    return n"
   ]
  },
  {
   "cell_type": "code",
   "execution_count": 21,
   "metadata": {},
   "outputs": [
    {
     "data": {
      "text/plain": [
       "TestResults(failed=0, attempted=2)"
      ]
     },
     "execution_count": 21,
     "metadata": {},
     "output_type": "execute_result"
    }
   ],
   "source": [
    "import doctest\n",
    "doctest.testmod()"
   ]
  },
  {
   "cell_type": "markdown",
   "metadata": {
    "tags": [
     "exercise"
    ]
   },
   "source": [
    "### Exercise bonus questions!\n",
    "\n",
    "- Add docstrings and doctests to the functions we already wrote.\n",
    "- Can you rewrite your loop as a list comprehension? Make sure it still passes the tests.\n",
    "- Use the `convert_si` function inside your function to make sure we have the right units.\n",
    "- Make sure your tests still pass."
   ]
  },
  {
   "cell_type": "code",
   "execution_count": 27,
   "metadata": {
    "collapsed": true,
    "tags": [
     "hide"
    ]
   },
   "outputs": [],
   "source": [
    "def impedance2(vp, rho):\n",
    "    \"\"\"\n",
    "    Compute impedance given sequences of vp and rho.\n",
    "\n",
    "    >>> impedance([2300, 2400], [2450, 2350])\n",
    "    [5635000, 5640000]\n",
    "    \"\"\"\n",
    "    return [v*r for v, r in zip(vp, rho)]"
   ]
  },
  {
   "cell_type": "code",
   "execution_count": 28,
   "metadata": {
    "tags": [
     "hide"
    ]
   },
   "outputs": [
    {
     "data": {
      "text/plain": [
       "[5635.0, 5640.0, 6125.0, 5865.0, 7279.999999999999]"
      ]
     },
     "execution_count": 28,
     "metadata": {},
     "output_type": "execute_result"
    }
   ],
   "source": [
    "impedance(vp, rho)"
   ]
  },
  {
   "cell_type": "code",
   "execution_count": 32,
   "metadata": {
    "tags": [
     "hide"
    ]
   },
   "outputs": [
    {
     "data": {
      "text/plain": [
       "TestResults(failed=0, attempted=3)"
      ]
     },
     "execution_count": 32,
     "metadata": {},
     "output_type": "execute_result"
    }
   ],
   "source": [
    "import doctest\n",
    "doctest.testmod()"
   ]
  },
  {
   "cell_type": "markdown",
   "metadata": {},
   "source": [
    "## Compute reflection coefficients"
   ]
  },
  {
   "cell_type": "markdown",
   "metadata": {
    "tags": [
     "exercise"
    ]
   },
   "source": [
    "### Exercise\n",
    "\n",
    "Can you implement the following equation?\n",
    "\n",
    "$$ \\mathrm{rc} = \\frac{Z_\\mathrm{lower} - Z_\\mathrm{upper}}{Z_\\mathrm{lower} + Z_\\mathrm{upper}} $$\n",
    "\n",
    "You will need to use slicing to implement the concept of upper and lower layers."
   ]
  },
  {
   "cell_type": "code",
   "execution_count": 46,
   "metadata": {},
   "outputs": [
    {
     "data": {
      "text/plain": [
       "[0.0004434589800443459,\n",
       " 0.04122396940076498,\n",
       " -0.021684737281067557,\n",
       " 0.10764549258273108]"
      ]
     },
     "execution_count": 46,
     "metadata": {},
     "output_type": "execute_result"
    }
   ],
   "source": [
    "z = impedance(vp, rho)\n",
    "rc_series(z)"
   ]
  },
  {
   "cell_type": "markdown",
   "metadata": {},
   "source": [
    "You should get:\n",
    "\n",
    "    [0.0004434589800443459,\n",
    "     0.04122396940076498,\n",
    "     -0.021684737281067557,\n",
    "     0.10764549258273108]"
   ]
  },
  {
   "cell_type": "code",
   "execution_count": 45,
   "metadata": {
    "collapsed": true,
    "tags": [
     "hide"
    ]
   },
   "outputs": [],
   "source": [
    "def compute_rc(upper, lower):\n",
    "    return (lower - upper) / (lower + upper)\n",
    "\n",
    "def rc_series(z):\n",
    "    \"\"\"\n",
    "    Computes RC series.\n",
    "    \"\"\"\n",
    "    upper = z[:-1]\n",
    "    lower = z[1:]\n",
    "    rc = []\n",
    "    for u, l in zip(upper, lower):\n",
    "        rc.append(compute_rc(u, l))\n",
    "    return rc"
   ]
  },
  {
   "cell_type": "code",
   "execution_count": 47,
   "metadata": {
    "collapsed": true,
    "tags": [
     "hide"
    ]
   },
   "outputs": [],
   "source": [
    "def rc_series2(z):\n",
    "    upper = z[:-1]\n",
    "    lower = z[1:]\n",
    "    return [(l-u)/(l+u) for l, u in zip(lower, upper)]"
   ]
  },
  {
   "cell_type": "code",
   "execution_count": 48,
   "metadata": {
    "tags": [
     "hide"
    ]
   },
   "outputs": [
    {
     "data": {
      "text/plain": [
       "[0.0004434589800443459,\n",
       " 0.04122396940076498,\n",
       " -0.021684737281067557,\n",
       " 0.10764549258273108]"
      ]
     },
     "execution_count": 48,
     "metadata": {},
     "output_type": "execute_result"
    }
   ],
   "source": [
    "rc_series2(z)"
   ]
  },
  {
   "cell_type": "code",
   "execution_count": 49,
   "metadata": {
    "tags": [
     "hide"
    ]
   },
   "outputs": [
    {
     "name": "stdout",
     "output_type": "stream",
     "text": [
      "100000 loops, best of 3: 2.69 µs per loop\n",
      "1000000 loops, best of 3: 1.9 µs per loop\n"
     ]
    }
   ],
   "source": [
    "%timeit rc_series(z)\n",
    "%timeit rc_series2(z)"
   ]
  },
  {
   "cell_type": "markdown",
   "metadata": {
    "tags": [
     "exercise"
    ]
   },
   "source": [
    "## Exercise\n",
    "\n",
    "Write a function to convert a slowness DT log, in microseconds per metre, into a velocity log, in m/s. "
   ]
  },
  {
   "cell_type": "code",
   "execution_count": 25,
   "metadata": {
    "collapsed": true
   },
   "outputs": [],
   "source": [
    "dt = [400, 410, 420, 400, 430, 450, 440]"
   ]
  },
  {
   "cell_type": "code",
   "execution_count": 53,
   "metadata": {
    "collapsed": true
   },
   "outputs": [],
   "source": [
    "def vp_from_dt(dt):\n",
    "\n",
    "    # Your code here!\n",
    "    \n",
    "    return vp\n",
    "\n",
    "vp = vp_from_dt(dt)\n",
    "vp"
   ]
  },
  {
   "cell_type": "markdown",
   "metadata": {},
   "source": [
    "You should get\n",
    " \n",
    "    [2500.0,\n",
    "     2439.0243902439024,\n",
    "     2380.9523809523807,\n",
    "     2500.0,\n",
    "     2325.5813953488373,\n",
    "     2222.222222222222,\n",
    "     2272.7272727272725]"
   ]
  },
  {
   "cell_type": "code",
   "execution_count": 54,
   "metadata": {
    "collapsed": true,
    "tags": [
     "hide"
    ]
   },
   "outputs": [],
   "source": [
    "def vp_from_dt(dt):\n",
    "    \"\"\"\n",
    "    Compute Vp from DT log.\n",
    "    \n",
    "    Args:\n",
    "        dt (list): A sequence of slowness measurements.\n",
    "        \n",
    "    Returns:\n",
    "        list. The data transformed to velocity.\n",
    "    \n",
    "    TODO:\n",
    "        Deal with microseconds/ft.\n",
    "        \n",
    "    Example:\n",
    "    >>> vp = vp_from_dt([400, 410])\n",
    "    [2500.0, 2439.0243902439024]\n",
    "    \"\"\"\n",
    "    return [1e6 / s for s in dt]"
   ]
  },
  {
   "cell_type": "code",
   "execution_count": 59,
   "metadata": {
    "tags": [
     "hide"
    ]
   },
   "outputs": [
    {
     "data": {
      "text/plain": [
       "[2500.0,\n",
       " 2439.0243902439024,\n",
       " 2380.9523809523807,\n",
       " 2500.0,\n",
       " 2325.5813953488373,\n",
       " 2222.222222222222,\n",
       " 2272.7272727272725]"
      ]
     },
     "execution_count": 59,
     "metadata": {},
     "output_type": "execute_result"
    }
   ],
   "source": [
    "vp = vp_from_dt(dt)\n",
    "vp"
   ]
  },
  {
   "cell_type": "code",
   "execution_count": 60,
   "metadata": {
    "tags": [
     "hide"
    ]
   },
   "outputs": [
    {
     "data": {
      "text/plain": [
       "TestResults(failed=0, attempted=4)"
      ]
     },
     "execution_count": 60,
     "metadata": {},
     "output_type": "execute_result"
    }
   ],
   "source": [
    "import doctest\n",
    "doctest.testmod()"
   ]
  },
  {
   "cell_type": "code",
   "execution_count": 57,
   "metadata": {
    "tags": [
     "hide"
    ]
   },
   "outputs": [
    {
     "ename": "TypeError",
     "evalue": "'int' object is not iterable",
     "output_type": "error",
     "traceback": [
      "\u001b[0;31m---------------------------------------------------------------------------\u001b[0m",
      "\u001b[0;31mTypeError\u001b[0m                                 Traceback (most recent call last)",
      "\u001b[0;32m<ipython-input-57-36b35454371b>\u001b[0m in \u001b[0;36m<module>\u001b[0;34m()\u001b[0m\n\u001b[0;32m----> 1\u001b[0;31m \u001b[0mvp_from_dt\u001b[0m\u001b[0;34m(\u001b[0m\u001b[0;36m450\u001b[0m\u001b[0;34m)\u001b[0m\u001b[0;34m\u001b[0m\u001b[0m\n\u001b[0m",
      "\u001b[0;32m<ipython-input-54-5bc6d7b74f4e>\u001b[0m in \u001b[0;36mvp_from_dt\u001b[0;34m(dt)\u001b[0m\n\u001b[1;32m      6\u001b[0m         \u001b[0mDeal\u001b[0m \u001b[0;32mwith\u001b[0m \u001b[0mmicroseconds\u001b[0m\u001b[0;34m/\u001b[0m\u001b[0mft\u001b[0m\u001b[0;34m.\u001b[0m\u001b[0;34m\u001b[0m\u001b[0m\n\u001b[1;32m      7\u001b[0m     \"\"\"\n\u001b[0;32m----> 8\u001b[0;31m     \u001b[0;32mreturn\u001b[0m \u001b[0;34m[\u001b[0m\u001b[0;36m1e6\u001b[0m \u001b[0;34m/\u001b[0m \u001b[0ms\u001b[0m \u001b[0;32mfor\u001b[0m \u001b[0ms\u001b[0m \u001b[0;32min\u001b[0m \u001b[0mdt\u001b[0m\u001b[0;34m]\u001b[0m\u001b[0;34m\u001b[0m\u001b[0m\n\u001b[0m\u001b[1;32m      9\u001b[0m \u001b[0;34m\u001b[0m\u001b[0m\n\u001b[1;32m     10\u001b[0m \u001b[0mvp\u001b[0m \u001b[0;34m=\u001b[0m \u001b[0mvp_from_dt\u001b[0m\u001b[0;34m(\u001b[0m\u001b[0mdt\u001b[0m\u001b[0;34m)\u001b[0m\u001b[0;34m\u001b[0m\u001b[0m\n",
      "\u001b[0;31mTypeError\u001b[0m: 'int' object is not iterable"
     ]
    }
   ],
   "source": [
    "vp_from_dt(450)"
   ]
  },
  {
   "cell_type": "code",
   "execution_count": 22,
   "metadata": {
    "collapsed": true,
    "tags": [
     "hide"
    ]
   },
   "outputs": [],
   "source": [
    "def vp_from_dt(dt):\n",
    "    try:\n",
    "        v = [1e6 / s for s in dt]\n",
    "    except TypeError:\n",
    "        # Treat as scalar.\n",
    "        v = 1e6 / dt\n",
    "    return v"
   ]
  },
  {
   "cell_type": "code",
   "execution_count": 26,
   "metadata": {
    "tags": [
     "hide"
    ]
   },
   "outputs": [
    {
     "data": {
      "text/plain": [
       "[2500.0,\n",
       " 2439.0243902439024,\n",
       " 2380.9523809523807,\n",
       " 2500.0,\n",
       " 2325.5813953488373,\n",
       " 2222.222222222222,\n",
       " 2272.7272727272725]"
      ]
     },
     "execution_count": 26,
     "metadata": {},
     "output_type": "execute_result"
    }
   ],
   "source": [
    "vp_from_dt(dt)"
   ]
  },
  {
   "cell_type": "code",
   "execution_count": 23,
   "metadata": {
    "tags": [
     "hide"
    ]
   },
   "outputs": [
    {
     "data": {
      "text/plain": [
       "2222.222222222222"
      ]
     },
     "execution_count": 23,
     "metadata": {},
     "output_type": "execute_result"
    }
   ],
   "source": [
    "vp_from_dt(450)"
   ]
  },
  {
   "cell_type": "code",
   "execution_count": 27,
   "metadata": {
    "tags": [
     "hide"
    ]
   },
   "outputs": [
    {
     "ename": "TypeError",
     "evalue": "unsupported operand type(s) for /: 'float' and 'str'",
     "output_type": "error",
     "traceback": [
      "\u001b[0;31m---------------------------------------------------------------------------\u001b[0m",
      "\u001b[0;31mTypeError\u001b[0m                                 Traceback (most recent call last)",
      "\u001b[0;32m<ipython-input-22-3ceefe33bfe5>\u001b[0m in \u001b[0;36mvp_from_dt\u001b[0;34m(dt)\u001b[0m\n\u001b[1;32m      2\u001b[0m     \u001b[0;32mtry\u001b[0m\u001b[0;34m:\u001b[0m\u001b[0;34m\u001b[0m\u001b[0m\n\u001b[0;32m----> 3\u001b[0;31m         \u001b[0mv\u001b[0m \u001b[0;34m=\u001b[0m \u001b[0;34m[\u001b[0m\u001b[0;36m1e6\u001b[0m \u001b[0;34m/\u001b[0m \u001b[0ms\u001b[0m \u001b[0;32mfor\u001b[0m \u001b[0ms\u001b[0m \u001b[0;32min\u001b[0m \u001b[0mdt\u001b[0m\u001b[0;34m]\u001b[0m\u001b[0;34m\u001b[0m\u001b[0m\n\u001b[0m\u001b[1;32m      4\u001b[0m     \u001b[0;32mexcept\u001b[0m \u001b[0mTypeError\u001b[0m\u001b[0;34m:\u001b[0m\u001b[0;34m\u001b[0m\u001b[0m\n",
      "\u001b[0;32m<ipython-input-22-3ceefe33bfe5>\u001b[0m in \u001b[0;36m<listcomp>\u001b[0;34m(.0)\u001b[0m\n\u001b[1;32m      2\u001b[0m     \u001b[0;32mtry\u001b[0m\u001b[0;34m:\u001b[0m\u001b[0;34m\u001b[0m\u001b[0m\n\u001b[0;32m----> 3\u001b[0;31m         \u001b[0mv\u001b[0m \u001b[0;34m=\u001b[0m \u001b[0;34m[\u001b[0m\u001b[0;36m1e6\u001b[0m \u001b[0;34m/\u001b[0m \u001b[0ms\u001b[0m \u001b[0;32mfor\u001b[0m \u001b[0ms\u001b[0m \u001b[0;32min\u001b[0m \u001b[0mdt\u001b[0m\u001b[0;34m]\u001b[0m\u001b[0;34m\u001b[0m\u001b[0m\n\u001b[0m\u001b[1;32m      4\u001b[0m     \u001b[0;32mexcept\u001b[0m \u001b[0mTypeError\u001b[0m\u001b[0;34m:\u001b[0m\u001b[0;34m\u001b[0m\u001b[0m\n",
      "\u001b[0;31mTypeError\u001b[0m: unsupported operand type(s) for /: 'float' and 'str'",
      "\nDuring handling of the above exception, another exception occurred:\n",
      "\u001b[0;31mTypeError\u001b[0m                                 Traceback (most recent call last)",
      "\u001b[0;32m<ipython-input-27-b7240db7313c>\u001b[0m in \u001b[0;36m<module>\u001b[0;34m()\u001b[0m\n\u001b[0;32m----> 1\u001b[0;31m \u001b[0mvp_from_dt\u001b[0m\u001b[0;34m(\u001b[0m\u001b[0;34m'450'\u001b[0m\u001b[0;34m)\u001b[0m\u001b[0;34m\u001b[0m\u001b[0m\n\u001b[0m",
      "\u001b[0;32m<ipython-input-22-3ceefe33bfe5>\u001b[0m in \u001b[0;36mvp_from_dt\u001b[0;34m(dt)\u001b[0m\n\u001b[1;32m      4\u001b[0m     \u001b[0;32mexcept\u001b[0m \u001b[0mTypeError\u001b[0m\u001b[0;34m:\u001b[0m\u001b[0;34m\u001b[0m\u001b[0m\n\u001b[1;32m      5\u001b[0m         \u001b[0;31m# Treat as scalar.\u001b[0m\u001b[0;34m\u001b[0m\u001b[0;34m\u001b[0m\u001b[0m\n\u001b[0;32m----> 6\u001b[0;31m         \u001b[0mv\u001b[0m \u001b[0;34m=\u001b[0m \u001b[0;36m1e6\u001b[0m \u001b[0;34m/\u001b[0m \u001b[0mdt\u001b[0m\u001b[0;34m\u001b[0m\u001b[0m\n\u001b[0m\u001b[1;32m      7\u001b[0m     \u001b[0;32mreturn\u001b[0m \u001b[0mv\u001b[0m\u001b[0;34m\u001b[0m\u001b[0m\n",
      "\u001b[0;31mTypeError\u001b[0m: unsupported operand type(s) for /: 'float' and 'str'"
     ]
    }
   ],
   "source": [
    "vp_from_dt('450')"
   ]
  },
  {
   "cell_type": "markdown",
   "metadata": {
    "tags": [
     "exercise"
    ]
   },
   "source": [
    "## Exercise\n",
    "\n",
    "- Put the functions `impedance`, `rc_series`, and `vp_from_dt()` into a file called `utils.py`."
   ]
  },
  {
   "cell_type": "markdown",
   "metadata": {},
   "source": [
    "## Reading data from files\n",
    "\n",
    "Go to the Reading_data_from_files notebook and do the first exercise."
   ]
  },
  {
   "cell_type": "markdown",
   "metadata": {
    "tags": [
     "exercise"
    ]
   },
   "source": [
    "## Exercise: Build a tops dictionary from a file\n",
    "\n",
    "Remind yourself how you solved the problem of reading the 'tops' files in the notebook [`Ex_Reading_data_from_files.ipynb`](Ex_Reading_data_from_files.ipynb). \n",
    "\n",
    "Your challenge is to turn this into a function, complete with docstring and any options you want to try to implement. For example:\n",
    "\n",
    "- Try putting everything, including the file reading into the function. Better yet, write functions for each main 'chunk' of the workflow.\n",
    "- Perhaps the user can pass the number of lines to skip as a parameter.\n",
    "- You could also let the user choose different 'comment' characters.\n",
    "- Let the user select different delimiters, other than a comma.\n",
    "- Transforming the case of the names should probably be optional.\n",
    "- Print some 'progress reports' as you go, so the user knows what's going on.\n",
    "- As a final challenge: can you add a passing doctest? Make sure it passes on `B-41_tops.txt`.\n",
    "\n",
    "When you're done, add the function to `utils.py`."
   ]
  },
  {
   "cell_type": "code",
   "execution_count": null,
   "metadata": {
    "collapsed": true
   },
   "outputs": [],
   "source": []
  },
  {
   "cell_type": "code",
   "execution_count": 85,
   "metadata": {
    "collapsed": true,
    "tags": [
     "hide"
    ]
   },
   "outputs": [],
   "source": [
    "def get_tops_from_file(fname, skip=0, comment='#', delimiter=',', null=-999.25, fix_case=True):\n",
    "    \"\"\"\n",
    "    Docstring.\n",
    "    \n",
    "    >>> len(get_tops_from_file(\"../data/B-41_tops.txt\"))\n",
    "    Changed depth: Upper Missisauga Fm\n",
    "    6\n",
    "    \"\"\"\n",
    "    with open(fname, 'r') as f:\n",
    "        data = f.readlines()[skip:]\n",
    "\n",
    "    tops = {}\n",
    "    for line in data:\n",
    "        \n",
    "        # Skip comment rows.\n",
    "        if line.startswith(comment):\n",
    "            continue\n",
    "\n",
    "        # Assign names to elements.\n",
    "        name, dstr = line.split(delimiter)\n",
    "\n",
    "        if fix_case:\n",
    "            name = name.title()\n",
    "\n",
    "        dstr = dstr.strip()\n",
    "        if not dstr.isnumeric():\n",
    "            dstr = dstr.lower().rstrip('mft')\n",
    "\n",
    "        # Skip NULL entries.\n",
    "        if (not dstr) or (dstr == str(null)):\n",
    "            continue\n",
    "        \n",
    "        # Correct for other negative values.\n",
    "        depth = float(dstr)\n",
    "        if depth < 0:\n",
    "            depth *= -1\n",
    "            print('Changed depth: {}'.format(name))\n",
    "\n",
    "        tops[name] = depth\n",
    "\n",
    "    return tops"
   ]
  },
  {
   "cell_type": "code",
   "execution_count": 86,
   "metadata": {
    "tags": [
     "hide"
    ]
   },
   "outputs": [
    {
     "data": {
      "text/plain": [
       "TestResults(failed=0, attempted=4)"
      ]
     },
     "execution_count": 86,
     "metadata": {},
     "output_type": "execute_result"
    }
   ],
   "source": [
    "import doctest\n",
    "doctest.testmod()"
   ]
  },
  {
   "cell_type": "code",
   "execution_count": 88,
   "metadata": {
    "tags": [
     "hide"
    ]
   },
   "outputs": [
    {
     "name": "stdout",
     "output_type": "stream",
     "text": [
      "Changed depth: Upper Missisauga Fm\n"
     ]
    }
   ],
   "source": [
    "tops = get_tops_from_file(\"../data/B-41_tops.txt\")"
   ]
  },
  {
   "cell_type": "code",
   "execution_count": 89,
   "metadata": {
    "tags": [
     "hide"
    ]
   },
   "outputs": [
    {
     "data": {
      "text/plain": [
       "{'Base O-Marker': 2472.561,\n",
       " 'Dawson Canyon Fm': 985.11358,\n",
       " 'Logan Canyon Fm': 1157.0207,\n",
       " 'Lower Missisauga Fm': 3190.6464,\n",
       " 'Upper Missisauga Fm': 2246.9856,\n",
       " 'Wyandot Fm': 858.62158}"
      ]
     },
     "execution_count": 89,
     "metadata": {},
     "output_type": "execute_result"
    }
   ],
   "source": [
    "tops"
   ]
  }
 ],
 "metadata": {
  "celltoolbar": "Tags",
  "kernelspec": {
   "display_name": "Python 3",
   "language": "python",
   "name": "python3"
  },
  "language_info": {
   "codemirror_mode": {
    "name": "ipython",
    "version": 3
   },
   "file_extension": ".py",
   "mimetype": "text/x-python",
   "name": "python",
   "nbconvert_exporter": "python",
   "pygments_lexer": "ipython3",
   "version": "3.6.3"
  }
 },
 "nbformat": 4,
 "nbformat_minor": 1
}
