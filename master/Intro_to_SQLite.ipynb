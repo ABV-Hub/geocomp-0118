{
 "cells": [
  {
   "cell_type": "markdown",
   "metadata": {},
   "source": [
    "# Intro_to_SQLite\n",
    "\n",
    "Very often, the best way to store spreadsheet-like data is in a CSV. Sometimes it's useful to store data in a database. The main reason to do this would be so that you can make complex or pre-existing SQL queries against the data, or join datasets from different places.\n",
    "\n",
    "Note, however, that many of these things can be done in `pandas` too, and you may prefer learning `pandas` to learning SQL."
   ]
  },
  {
   "cell_type": "code",
   "execution_count": 77,
   "metadata": {
    "collapsed": true
   },
   "outputs": [],
   "source": [
    "tops = {\n",
    "    'Abenaki Fm': 3404.31,\n",
    "    'Base O-Marker': 2469.20,\n",
    "    'Dawson Canyon Fm': 984.50,\n",
    "    'Logan Canyon Fm': 1136.90,\n",
    "    'Lower Baccaro': 3964.53,\n",
    "    'Lower Missisauga Fm': 3190.64,\n",
    "    'Mid Baccaro': 3485.08,\n",
    "    'Upper Missisauga Fm': 2251.25,\n",
    "    'Wyandot Fm': 867.15\n",
    "}"
   ]
  },
  {
   "cell_type": "markdown",
   "metadata": {},
   "source": [
    "We need a design for the database. Let's try this:\n",
    "\n",
    "- **well** id, name, location, \n",
    "- **formations**  id, name, begin, end\n",
    "- **tops**  id, formation_id, well_id, depth\n",
    "- **periods**  id, name, begin, end"
   ]
  },
  {
   "cell_type": "markdown",
   "metadata": {},
   "source": [
    "First we create the database, which in SQLite is stored in a flat file:"
   ]
  },
  {
   "cell_type": "code",
   "execution_count": 78,
   "metadata": {
    "collapsed": true
   },
   "outputs": [],
   "source": [
    "import sqlite3 as lite\n",
    "import uuid\n",
    "\n",
    "con = lite.connect('../data/strat.db')"
   ]
  },
  {
   "cell_type": "code",
   "execution_count": 79,
   "metadata": {
    "collapsed": true
   },
   "outputs": [],
   "source": [
    "sql = \"\"\"CREATE TABLE wells (\n",
    "               id TEXT PRIMARY KEY,\n",
    "               uwi TEXT,\n",
    "               lat DECIMAL,\n",
    "               lon DECIMAL\n",
    "         )\"\"\""
   ]
  },
  {
   "cell_type": "code",
   "execution_count": 80,
   "metadata": {},
   "outputs": [],
   "source": [
    "with con:\n",
    "    cur = con.cursor()    \n",
    "    cur.execute(sql)\n",
    "    \n",
    "    uid = str(uuid.uuid4())\n",
    "    uwi = \"L-30\"\n",
    "    lat = lon = 0.0\n",
    "    cur.execute(\"INSERT INTO wells VALUES('{}','{}',{},{})\".format(uid, uwi, lat, lon))"
   ]
  },
  {
   "cell_type": "code",
   "execution_count": 81,
   "metadata": {},
   "outputs": [
    {
     "data": {
      "text/plain": [
       "[('76a31ded-c1c2-4e96-8f92-94412de275b3',)]"
      ]
     },
     "execution_count": 81,
     "metadata": {},
     "output_type": "execute_result"
    }
   ],
   "source": [
    "with con:    \n",
    "    cur = con.cursor()    \n",
    "    cur.execute(\"SELECT id FROM wells WHERE uwi='L-30'\")\n",
    "    r = cur.fetchall()\n",
    "r"
   ]
  },
  {
   "cell_type": "code",
   "execution_count": 82,
   "metadata": {
    "collapsed": true
   },
   "outputs": [],
   "source": [
    "sql = \"\"\"CREATE TABLE formations (\n",
    "               id TEXT PRIMARY KEY,\n",
    "               name TEXT,\n",
    "               begin DECIMAL,\n",
    "               end DECIMAL\n",
    "         )\"\"\""
   ]
  },
  {
   "cell_type": "code",
   "execution_count": 83,
   "metadata": {},
   "outputs": [],
   "source": [
    "with con:\n",
    "    cur = con.cursor()    \n",
    "    cur.execute(sql)\n",
    "    \n",
    "    for name in tops.keys():\n",
    "        uid = str(uuid.uuid4())\n",
    "        name = name.replace(' Fm', '')\n",
    "        begin = end = 0.0\n",
    "        cur.execute(\"INSERT INTO formations VALUES('{}','{}',{},{})\".format(uid, name, begin, end))"
   ]
  },
  {
   "cell_type": "code",
   "execution_count": 84,
   "metadata": {
    "collapsed": true
   },
   "outputs": [],
   "source": [
    "sql = \"\"\"CREATE TABLE tops (\n",
    "               id TEXT PRIMARY KEY,\n",
    "               well_id TEXT,\n",
    "               formation_id TEXT,\n",
    "               depth DECIMAL\n",
    "         )\"\"\""
   ]
  },
  {
   "cell_type": "code",
   "execution_count": 85,
   "metadata": {},
   "outputs": [],
   "source": [
    "with con:\n",
    "    cur = con.cursor()    \n",
    "    cur.execute(sql)\n",
    "    \n",
    "    for name, depth in tops.items():\n",
    "        uid = str(uuid.uuid4())\n",
    "        well_id = r[0][0]\n",
    "        try:\n",
    "            name = name.replace(' Fm', '')\n",
    "            cur.execute(\"SELECT id FROM formations WHERE name LIKE '{}%'\".format(name))\n",
    "            formation_id = cur.fetchall()[0][0]\n",
    "        except ValueError:\n",
    "            print('Skipped {}, not in database'.format(name))\n",
    "            continue\n",
    "        cur.execute(\"INSERT INTO tops VALUES('{}','{}','{}',{})\".format(uid, well_id, formation_id, depth))"
   ]
  },
  {
   "cell_type": "markdown",
   "metadata": {},
   "source": [
    "Now we can query it. Let's write the SQL first."
   ]
  },
  {
   "cell_type": "code",
   "execution_count": 106,
   "metadata": {
    "collapsed": true
   },
   "outputs": [],
   "source": [
    "sql = \"\"\"SELECT depth \n",
    "         FROM   tops \n",
    "         WHERE  formation_id IN (SELECT id \n",
    "                                 FROM   formations \n",
    "                                 WHERE  name LIKE '%{}%') \"\"\".format('Baccaro')"
   ]
  },
  {
   "cell_type": "code",
   "execution_count": 107,
   "metadata": {},
   "outputs": [
    {
     "name": "stdout",
     "output_type": "stream",
     "text": [
      "(3964.53,)\n",
      "(3485.08,)\n"
     ]
    }
   ],
   "source": [
    "with con:    \n",
    "    cur = con.cursor()    \n",
    "    cur.execute(sql)\n",
    "    rows = cur.fetchall()\n",
    "    for row in rows:\n",
    "        print(row)"
   ]
  },
  {
   "cell_type": "code",
   "execution_count": null,
   "metadata": {
    "collapsed": true
   },
   "outputs": [],
   "source": []
  }
 ],
 "metadata": {
  "anaconda-cloud": {},
  "kernelspec": {
   "display_name": "Python [conda env:geocomp]",
   "language": "python",
   "name": "conda-env-geocomp-py"
  },
  "language_info": {
   "codemirror_mode": {
    "name": "ipython",
    "version": 3
   },
   "file_extension": ".py",
   "mimetype": "text/x-python",
   "name": "python",
   "nbconvert_exporter": "python",
   "pygments_lexer": "ipython3",
   "version": "3.6.3"
  }
 },
 "nbformat": 4,
 "nbformat_minor": 1
}
