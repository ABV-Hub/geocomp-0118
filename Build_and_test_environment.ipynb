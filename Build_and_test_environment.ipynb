{
 "cells": [
  {
   "cell_type": "markdown",
   "metadata": {},
   "source": [
    "# Build and test the environment\n",
    "\n",
    "**This document explains how to set up your environment for the geocomputing course.**"
   ]
  },
  {
   "cell_type": "markdown",
   "metadata": {},
   "source": [
    "## 1. Install Anaconda\n",
    "\n",
    "First, install [Anaconda for **Python 3.6**](https://www.anaconda.com/download/), following the instructions there. I recommend accepting most of the defaults, except at the end: unless you have a very good reason (you'll know), say yes when asked if you want to append Anaconda to your path.\n",
    "\n",
    "We recommend also [installing `git`](https://git-scm.com/book/en/v2/Getting-Started-Installing-Git) for your platform.\n",
    "\n",
    "\n",
    "## 2. Get the course materials\n",
    "\n",
    "If you are using `git`, clone this repo: https://github.com/agile-geoscience/geocomputing.git\n",
    "\n",
    "If not, download this ZIP file: https://github.com/agile-geoscience/geocomputing/archive/master.zip\n",
    "\n",
    "Put the folder somewhere you will find it again.\n",
    "\n",
    "This file is in the top level folder, called `Build_and_test_environment.ipynb`."
   ]
  },
  {
   "cell_type": "markdown",
   "metadata": {},
   "source": [
    "## 3. Set up the environment\n",
    "\n",
    "### Alternative 1: Manually (recommended)\n",
    "\n",
    "First do the following in a terminal:\n",
    "\n",
    "    conda config --add channels conda-forge\n",
    "    \n",
    "This 'channel', which is where a lot of developers put their distributions, will now always be available in your environments. You will likely not need to do it again.\n",
    "\n",
    "Now we can create a new environment, we'll call it **`geocomp`** but you can call it what you like. Adding `anaconda` at the end just adds all of Anaconda's packages. This is overkill for most projects, so sometimes you might do something like `conda create -n myenv python=3.6 scipy` to just get those two packages (SciPy will also install NumPy); you can always just any other stuff you want later with `pip` or `conda`.\n",
    "\n",
    "    conda create -n geocomp anaconda\n",
    "\n",
    "Start the environment. For now on MacOS and Linux you'll type:\n",
    "\n",
    "    source activate geocomp\n",
    "\n",
    "On Windows (and soon on other platforms) it's just:\n",
    "\n",
    "    activate geocomp\n",
    "\n",
    "Now install packages:\n",
    "\n",
    "    conda install -y obspy ipyparallel cartopy\n",
    "    pip install segyio welly bruges\n",
    "\n",
    "All of this should go without trouble. If you do have trouble, please make a note of which pieces didn't work, and let us know when you come to the class.\n",
    "\n",
    "In some classes we also use these:\n",
    "\n",
    "    conda install -y geopandas folium\n",
    "\n",
    "\n",
    "### Alternative 2: Automatically\n",
    "\n",
    "You won't always have an environment/yml file to set up from, which is why I recommend Alternative 1: so you'll know how to set up an environment without one. But if something goes wrong with that attempt, you can try this.\n",
    "\n",
    "Do the following in a terminal:\n",
    "\n",
    "    conda env create -f environment.yml\n",
    "\n",
    "If `conda` complains that the environment already exists, do this:\n",
    "\n",
    "    conda env create -n geocomp2 -f environment.yml\n",
    "\n",
    "Start the environment. For now on MacOS and Linux you'll type:\n",
    "\n",
    "    source activate geocomp\n",
    "\n",
    "On Windows (and soon on other platforms) it's just:\n",
    "\n",
    "    activate geocomp\n",
    "\n",
    "\n",
    "## 4. Enter  the repo\n",
    "\n",
    "If you didn't already `git clone` the repo, you should do it now:\n",
    "\n",
    "    git clone https://github.com/agile-geoscience/geocomputing.git\n",
    "    \n",
    "Now you can start this notebook:\n",
    "\n",
    "    cd geocomputing\n",
    "    jupyter notebook Build_and_test_environment.ipynb\n",
    "\n",
    "or if you're already running it, restart its kernel with **Kernel > Restart**... and we can go on to check the environment."
   ]
  },
  {
   "cell_type": "markdown",
   "metadata": {},
   "source": [
    "## 5. Check the install\n",
    "\n",
    "Run these cells to check everything worked.\n",
    "\n",
    "**To run a cell, click on it then press Shift + Enter.**"
   ]
  },
  {
   "cell_type": "code",
   "execution_count": 1,
   "metadata": {},
   "outputs": [
    {
     "name": "stdout",
     "output_type": "stream",
     "text": [
      "Python 3.6.3 :: Anaconda, Inc.\r\n"
     ]
    }
   ],
   "source": [
    "!python -V\n",
    "\n",
    "# Should be 3.6"
   ]
  },
  {
   "cell_type": "code",
   "execution_count": 2,
   "metadata": {
    "collapsed": true
   },
   "outputs": [],
   "source": [
    "import numpy as np\n",
    "import matplotlib.pyplot as plt\n",
    "from scipy.signal import ricker"
   ]
  },
  {
   "cell_type": "markdown",
   "metadata": {},
   "source": [
    "### conda packages\n",
    "\n",
    "If any of the following fail, go out to a terminal and do this, replacing `<package>` with the name of the package.\n",
    "\n",
    "    source activate geocomp  # Or whatever is the name of the environment\n",
    "    conda install <package>"
   ]
  },
  {
   "cell_type": "code",
   "execution_count": 3,
   "metadata": {
    "collapsed": true
   },
   "outputs": [],
   "source": [
    "# These should have come in with Anaconda\n",
    "import pandas\n",
    "import numba\n",
    "import requests"
   ]
  },
  {
   "cell_type": "code",
   "execution_count": 4,
   "metadata": {
    "collapsed": true
   },
   "outputs": [],
   "source": [
    "import ipyparallel"
   ]
  },
  {
   "cell_type": "code",
   "execution_count": 5,
   "metadata": {
    "collapsed": true
   },
   "outputs": [],
   "source": [
    "import obspy"
   ]
  },
  {
   "cell_type": "code",
   "execution_count": 6,
   "metadata": {
    "collapsed": true
   },
   "outputs": [],
   "source": [
    "import cartopy"
   ]
  },
  {
   "cell_type": "code",
   "execution_count": null,
   "metadata": {},
   "outputs": [],
   "source": [
    "import geopandas as gpd  # Not a catastrophe if missing."
   ]
  },
  {
   "cell_type": "code",
   "execution_count": null,
   "metadata": {
    "collapsed": true
   },
   "outputs": [],
   "source": [
    "import folium    # Not a catastrophe if missing."
   ]
  },
  {
   "cell_type": "markdown",
   "metadata": {},
   "source": [
    "### pip packages\n",
    "\n",
    "If any of the following fail, go out to a terminal and do this, replacing `<package>` with the name of the package.\n",
    "\n",
    "    source activate geocomp  # Or whatever is the name of the environment\n",
    "    pip install <package>"
   ]
  },
  {
   "cell_type": "code",
   "execution_count": 8,
   "metadata": {
    "collapsed": true
   },
   "outputs": [],
   "source": [
    "import lasio"
   ]
  },
  {
   "cell_type": "code",
   "execution_count": 9,
   "metadata": {
    "collapsed": true
   },
   "outputs": [],
   "source": [
    "import welly"
   ]
  },
  {
   "cell_type": "code",
   "execution_count": 10,
   "metadata": {
    "collapsed": true
   },
   "outputs": [],
   "source": [
    "import bruges as b"
   ]
  },
  {
   "cell_type": "markdown",
   "metadata": {},
   "source": [
    "## 6. Download data\n",
    "\n",
    "Finally, there is a datafile we need."
   ]
  },
  {
   "cell_type": "code",
   "execution_count": 11,
   "metadata": {
    "collapsed": true
   },
   "outputs": [],
   "source": [
    "import os\n",
    "import requests"
   ]
  },
  {
   "cell_type": "code",
   "execution_count": 1,
   "metadata": {
    "collapsed": true
   },
   "outputs": [],
   "source": [
    "files = [\n",
    "#    '2D_Land_vibro_data_2ms.tgz',\n",
    "#    '3D_gathers_pstm_nmo_X1001.sgy',\n",
    "    'Penobscot_0-1000ms.sgy.zip',\n",
    "#    'Penobscot.npy',\n",
    "]\n",
    "\n",
    "url = \"https://s3.amazonaws.com/agilegeo/\""
   ]
  },
  {
   "cell_type": "markdown",
   "metadata": {},
   "source": [
    "If the next code block fails, click on the link it prints."
   ]
  },
  {
   "cell_type": "code",
   "execution_count": null,
   "metadata": {
    "collapsed": true
   },
   "outputs": [],
   "source": [
    "localpath = os.path.abspath(__file__ + \"/../data\")\n",
    "\n",
    "for file in files:\n",
    "    url += file\n",
    "    print(url)\n",
    "    r = requests.get(url, stream=True)\n",
    "\n",
    "    chunk_size = 1024 * 1024  # 1MB\n",
    "\n",
    "    with open(os.path.join(localpath, file), 'wb') as fd:\n",
    "        for chunk in r.iter_content(chunk_size):\n",
    "            if chunk:\n",
    "                fd.write(chunk)"
   ]
  },
  {
   "cell_type": "markdown",
   "metadata": {
    "collapsed": true
   },
   "source": [
    "### You're done! See you in class"
   ]
  }
 ],
 "metadata": {
  "kernelspec": {
   "display_name": "Python 3",
   "language": "python",
   "name": "python3"
  },
  "language_info": {
   "codemirror_mode": {
    "name": "ipython",
    "version": 3
   },
   "file_extension": ".py",
   "mimetype": "text/x-python",
   "name": "python",
   "nbconvert_exporter": "python",
   "pygments_lexer": "ipython3",
   "version": "3.6.3"
  }
 },
 "nbformat": 4,
 "nbformat_minor": 1
}
